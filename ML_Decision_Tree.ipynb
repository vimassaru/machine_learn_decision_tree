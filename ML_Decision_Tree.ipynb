{
  "nbformat": 4,
  "nbformat_minor": 0,
  "metadata": {
    "colab": {
      "provenance": [],
      "authorship_tag": "ABX9TyPwweASDQUPkcFVsDE9RWG0",
      "include_colab_link": true
    },
    "kernelspec": {
      "name": "python3",
      "display_name": "Python 3"
    },
    "language_info": {
      "name": "python"
    }
  },
  "cells": [
    {
      "cell_type": "markdown",
      "metadata": {
        "id": "view-in-github",
        "colab_type": "text"
      },
      "source": [
        "<a href=\"https://colab.research.google.com/github/vimassaru/machine_learn_decision_tree/blob/main/ML_Decision_Tree.ipynb\" target=\"_parent\"><img src=\"https://colab.research.google.com/assets/colab-badge.svg\" alt=\"Open In Colab\"/></a>"
      ]
    },
    {
      "cell_type": "code",
      "source": [
        "from sklearn import tree # Importa arvore do scikit learn \n",
        "from sklearn.model_selection import train_test_split # Importa split do scikit\n",
        "import graphviz # Importar a biblioteca graphviz que ajuda a viz de grafos\n",
        "from sklearn.metrics import accuracy_score # Import do metodo para acuracia"
      ],
      "metadata": {
        "id": "C2MTbWePgYqj"
      },
      "execution_count": null,
      "outputs": []
    },
    {
      "cell_type": "code",
      "source": [
        "# Importando as bibliotecas para plotagem de grégicos\n",
        "\n",
        "import matplotlib as mpl\n",
        "import matplotlib.pyplot as plt\n",
        "import numpy as np"
      ],
      "metadata": {
        "id": "tt387j1sRUpz"
      },
      "execution_count": null,
      "outputs": []
    },
    {
      "cell_type": "code",
      "source": [
        "# Importando a base Iris\n",
        "from sklearn.datasets import load_iris"
      ],
      "metadata": {
        "id": "-CBYcHhOzSNm"
      },
      "execution_count": null,
      "outputs": []
    },
    {
      "cell_type": "code",
      "source": [
        "# Carregando a base iris em uma variável\n",
        "\n",
        "iris = load_iris()"
      ],
      "metadata": {
        "id": "Z3fHvXCskTZR"
      },
      "execution_count": null,
      "outputs": []
    },
    {
      "cell_type": "code",
      "source": [
        "# Carregar dados em exemplo e alvo (exemplo -> x e alvo -> y) \n",
        "# para cada x vamos ter um y atrelado\n",
        "\n",
        "x, y = iris.data, iris.target"
      ],
      "metadata": {
        "id": "6DLNo_NTkjId"
      },
      "execution_count": null,
      "outputs": []
    },
    {
      "cell_type": "code",
      "source": [
        "# Fazer o split de dados em 50% TREINO e 50% TESTE\n",
        "\n",
        "x_train, x_test, y_train, y_test = train_test_split(x, y, test_size=0.5,\n",
        "                                                    random_state=42)"
      ],
      "metadata": {
        "id": "fNg1rgEwllJB"
      },
      "execution_count": null,
      "outputs": []
    },
    {
      "cell_type": "code",
      "source": [
        "# Mostrar Nome das espécies\n",
        "\n",
        "iris.target_names"
      ],
      "metadata": {
        "colab": {
          "base_uri": "https://localhost:8080/"
        },
        "id": "7PZGERJ9qlAj",
        "outputId": "2dc75504-edde-4c8a-e997-69f8b4411a17"
      },
      "execution_count": null,
      "outputs": [
        {
          "output_type": "execute_result",
          "data": {
            "text/plain": [
              "array(['setosa', 'versicolor', 'virginica'], dtype='<U10')"
            ]
          },
          "metadata": {},
          "execution_count": 7
        }
      ]
    },
    {
      "cell_type": "code",
      "source": [
        "# Mostrar Y da base de treino:\n",
        "\n",
        "y_train"
      ],
      "metadata": {
        "colab": {
          "base_uri": "https://localhost:8080/"
        },
        "id": "NR95mfTmrMxN",
        "outputId": "2a4c8c4f-30bb-4270-b968-4aeb4f3ed420"
      },
      "execution_count": null,
      "outputs": [
        {
          "output_type": "execute_result",
          "data": {
            "text/plain": [
              "array([1, 2, 1, 0, 1, 2, 0, 0, 1, 1, 0, 2, 0, 0, 1, 1, 2, 1, 2, 2, 1, 0,\n",
              "       0, 2, 2, 0, 0, 0, 1, 2, 0, 2, 2, 0, 1, 1, 2, 1, 2, 0, 2, 1, 2, 1,\n",
              "       1, 1, 0, 1, 1, 0, 1, 2, 2, 0, 1, 2, 2, 0, 2, 0, 1, 2, 2, 1, 2, 1,\n",
              "       1, 2, 2, 0, 1, 2, 0, 1, 2])"
            ]
          },
          "metadata": {},
          "execution_count": 8
        }
      ]
    },
    {
      "cell_type": "markdown",
      "source": [
        "**Etapa 1 - utilizando agora 10% da base de Treino**"
      ],
      "metadata": {
        "id": "yONCN8jH838i"
      }
    },
    {
      "cell_type": "code",
      "source": [
        "# Fazer o split de 10% no conjunto TREINO (50% do total)\n",
        "\n",
        "x_train10, x_test10, y_train10, y_test10 = train_test_split(x_train, y_train,\n",
        "                                                            train_size= 0.1,\n",
        "                                                            random_state=42)"
      ],
      "metadata": {
        "id": "XuMAEzp0o5gK"
      },
      "execution_count": null,
      "outputs": []
    },
    {
      "cell_type": "code",
      "source": [
        "y_train10"
      ],
      "metadata": {
        "colab": {
          "base_uri": "https://localhost:8080/"
        },
        "id": "mlEoUBAvzoWA",
        "outputId": "f0c4dc9a-6433-4b8f-c326-07db36f171ec"
      },
      "execution_count": null,
      "outputs": [
        {
          "output_type": "execute_result",
          "data": {
            "text/plain": [
              "array([1, 2, 1, 1, 2, 1, 2])"
            ]
          },
          "metadata": {},
          "execution_count": 10
        }
      ]
    },
    {
      "cell_type": "code",
      "source": [
        "# Instanciar o objeto de Decision Tree\n",
        "\n",
        "classifier_t = tree.DecisionTreeClassifier(criterion=\"gini\")\n",
        "\n",
        "# Gerar minha árvore de treino com os 10%\n",
        "\n",
        "classifier_t = classifier_t.fit(x_train10, y_train10)\n"
      ],
      "metadata": {
        "id": "ioPVrYuh0nGb"
      },
      "execution_count": null,
      "outputs": []
    },
    {
      "cell_type": "code",
      "source": [
        "# Plotar minha árvore de decisão com os dados de 10% TREINO\n",
        "\n",
        "graph_DT10 = tree.export_graphviz(classifier_t, out_file=None) \n",
        "graph = graphviz.Source(graph_DT10) \n",
        "graph.render(\"iris\") \n",
        "graph"
      ],
      "metadata": {
        "colab": {
          "base_uri": "https://localhost:8080/",
          "height": 380
        },
        "id": "G2xxBFOP3Q3a",
        "outputId": "ec9db2c0-8a38-470e-f170-839ba7c4ec08"
      },
      "execution_count": null,
      "outputs": [
        {
          "output_type": "execute_result",
          "data": {
            "text/plain": [
              "<graphviz.files.Source at 0x7f1bf5790b20>"
            ],
            "image/svg+xml": "<?xml version=\"1.0\" encoding=\"UTF-8\" standalone=\"no\"?>\n<!DOCTYPE svg PUBLIC \"-//W3C//DTD SVG 1.1//EN\"\n \"http://www.w3.org/Graphics/SVG/1.1/DTD/svg11.dtd\">\n<!-- Generated by graphviz version 2.40.1 (20161225.0304)\n -->\n<!-- Title: Tree Pages: 1 -->\n<svg width=\"282pt\" height=\"269pt\"\n viewBox=\"0.00 0.00 282.00 269.00\" xmlns=\"http://www.w3.org/2000/svg\" xmlns:xlink=\"http://www.w3.org/1999/xlink\">\n<g id=\"graph0\" class=\"graph\" transform=\"scale(1 1) rotate(0) translate(4 265)\">\n<title>Tree</title>\n<polygon fill=\"#ffffff\" stroke=\"transparent\" points=\"-4,4 -4,-265 278,-265 278,4 -4,4\"/>\n<!-- 0 -->\n<g id=\"node1\" class=\"node\">\n<title>0</title>\n<polygon fill=\"none\" stroke=\"#000000\" points=\"215,-261 116,-261 116,-193 215,-193 215,-261\"/>\n<text text-anchor=\"middle\" x=\"165.5\" y=\"-245.8\" font-family=\"Helvetica,sans-Serif\" font-size=\"14.00\" fill=\"#000000\">X[2] &lt;= 4.95</text>\n<text text-anchor=\"middle\" x=\"165.5\" y=\"-230.8\" font-family=\"Helvetica,sans-Serif\" font-size=\"14.00\" fill=\"#000000\">gini = 0.49</text>\n<text text-anchor=\"middle\" x=\"165.5\" y=\"-215.8\" font-family=\"Helvetica,sans-Serif\" font-size=\"14.00\" fill=\"#000000\">samples = 7</text>\n<text text-anchor=\"middle\" x=\"165.5\" y=\"-200.8\" font-family=\"Helvetica,sans-Serif\" font-size=\"14.00\" fill=\"#000000\">value = [4, 3]</text>\n</g>\n<!-- 1 -->\n<g id=\"node2\" class=\"node\">\n<title>1</title>\n<polygon fill=\"none\" stroke=\"#000000\" points=\"157,-157 58,-157 58,-89 157,-89 157,-157\"/>\n<text text-anchor=\"middle\" x=\"107.5\" y=\"-141.8\" font-family=\"Helvetica,sans-Serif\" font-size=\"14.00\" fill=\"#000000\">X[0] &lt;= 5.2</text>\n<text text-anchor=\"middle\" x=\"107.5\" y=\"-126.8\" font-family=\"Helvetica,sans-Serif\" font-size=\"14.00\" fill=\"#000000\">gini = 0.32</text>\n<text text-anchor=\"middle\" x=\"107.5\" y=\"-111.8\" font-family=\"Helvetica,sans-Serif\" font-size=\"14.00\" fill=\"#000000\">samples = 5</text>\n<text text-anchor=\"middle\" x=\"107.5\" y=\"-96.8\" font-family=\"Helvetica,sans-Serif\" font-size=\"14.00\" fill=\"#000000\">value = [4, 1]</text>\n</g>\n<!-- 0&#45;&gt;1 -->\n<g id=\"edge1\" class=\"edge\">\n<title>0&#45;&gt;1</title>\n<path fill=\"none\" stroke=\"#000000\" d=\"M146.5086,-192.9465C141.7017,-184.3271 136.4765,-174.9579 131.4591,-165.9611\"/>\n<polygon fill=\"#000000\" stroke=\"#000000\" points=\"134.4615,-164.1589 126.534,-157.13 128.348,-167.5684 134.4615,-164.1589\"/>\n<text text-anchor=\"middle\" x=\"119.7052\" y=\"-177.4793\" font-family=\"Helvetica,sans-Serif\" font-size=\"14.00\" fill=\"#000000\">True</text>\n</g>\n<!-- 4 -->\n<g id=\"node5\" class=\"node\">\n<title>4</title>\n<polygon fill=\"none\" stroke=\"#000000\" points=\"274,-149.5 175,-149.5 175,-96.5 274,-96.5 274,-149.5\"/>\n<text text-anchor=\"middle\" x=\"224.5\" y=\"-134.3\" font-family=\"Helvetica,sans-Serif\" font-size=\"14.00\" fill=\"#000000\">gini = 0.0</text>\n<text text-anchor=\"middle\" x=\"224.5\" y=\"-119.3\" font-family=\"Helvetica,sans-Serif\" font-size=\"14.00\" fill=\"#000000\">samples = 2</text>\n<text text-anchor=\"middle\" x=\"224.5\" y=\"-104.3\" font-family=\"Helvetica,sans-Serif\" font-size=\"14.00\" fill=\"#000000\">value = [0, 2]</text>\n</g>\n<!-- 0&#45;&gt;4 -->\n<g id=\"edge4\" class=\"edge\">\n<title>0&#45;&gt;4</title>\n<path fill=\"none\" stroke=\"#000000\" d=\"M184.8188,-192.9465C191.0676,-181.9316 198.0112,-169.6922 204.3207,-158.5703\"/>\n<polygon fill=\"#000000\" stroke=\"#000000\" points=\"207.5523,-159.967 209.4424,-149.5422 201.4638,-156.513 207.5523,-159.967\"/>\n<text text-anchor=\"middle\" x=\"216.0954\" y=\"-169.9407\" font-family=\"Helvetica,sans-Serif\" font-size=\"14.00\" fill=\"#000000\">False</text>\n</g>\n<!-- 2 -->\n<g id=\"node3\" class=\"node\">\n<title>2</title>\n<polygon fill=\"none\" stroke=\"#000000\" points=\"99,-53 0,-53 0,0 99,0 99,-53\"/>\n<text text-anchor=\"middle\" x=\"49.5\" y=\"-37.8\" font-family=\"Helvetica,sans-Serif\" font-size=\"14.00\" fill=\"#000000\">gini = 0.0</text>\n<text text-anchor=\"middle\" x=\"49.5\" y=\"-22.8\" font-family=\"Helvetica,sans-Serif\" font-size=\"14.00\" fill=\"#000000\">samples = 1</text>\n<text text-anchor=\"middle\" x=\"49.5\" y=\"-7.8\" font-family=\"Helvetica,sans-Serif\" font-size=\"14.00\" fill=\"#000000\">value = [0, 1]</text>\n</g>\n<!-- 1&#45;&gt;2 -->\n<g id=\"edge2\" class=\"edge\">\n<title>1&#45;&gt;2</title>\n<path fill=\"none\" stroke=\"#000000\" d=\"M87.0514,-88.9777C81.7678,-80.187 76.0684,-70.7044 70.7452,-61.8477\"/>\n<polygon fill=\"#000000\" stroke=\"#000000\" points=\"73.7282,-60.0165 65.5768,-53.2485 67.7285,-63.6225 73.7282,-60.0165\"/>\n</g>\n<!-- 3 -->\n<g id=\"node4\" class=\"node\">\n<title>3</title>\n<polygon fill=\"none\" stroke=\"#000000\" points=\"216,-53 117,-53 117,0 216,0 216,-53\"/>\n<text text-anchor=\"middle\" x=\"166.5\" y=\"-37.8\" font-family=\"Helvetica,sans-Serif\" font-size=\"14.00\" fill=\"#000000\">gini = 0.0</text>\n<text text-anchor=\"middle\" x=\"166.5\" y=\"-22.8\" font-family=\"Helvetica,sans-Serif\" font-size=\"14.00\" fill=\"#000000\">samples = 4</text>\n<text text-anchor=\"middle\" x=\"166.5\" y=\"-7.8\" font-family=\"Helvetica,sans-Serif\" font-size=\"14.00\" fill=\"#000000\">value = [4, 0]</text>\n</g>\n<!-- 1&#45;&gt;3 -->\n<g id=\"edge3\" class=\"edge\">\n<title>1&#45;&gt;3</title>\n<path fill=\"none\" stroke=\"#000000\" d=\"M128.3012,-88.9777C133.6758,-80.187 139.4735,-70.7044 144.8885,-61.8477\"/>\n<polygon fill=\"#000000\" stroke=\"#000000\" points=\"147.9158,-63.6059 150.146,-53.2485 141.9436,-59.9545 147.9158,-63.6059\"/>\n</g>\n</g>\n</svg>\n"
          },
          "metadata": {},
          "execution_count": 12
        }
      ]
    },
    {
      "cell_type": "code",
      "source": [
        "# Predição com apenas 10% dos dados como treino para os 50% do conjunto TESTE.\n",
        "\n",
        "answer1 = classifier_t.predict(x_test)\n",
        "\n",
        "print('A arvore rotulou/predisse o seguinte: ')\n",
        "print(answer1)"
      ],
      "metadata": {
        "colab": {
          "base_uri": "https://localhost:8080/"
        },
        "id": "UTd8KNZY4Dw3",
        "outputId": "e2988da9-a1be-42cf-a6b9-f5de48b5ded6"
      },
      "execution_count": null,
      "outputs": [
        {
          "output_type": "stream",
          "name": "stdout",
          "text": [
            "A arvore rotulou/predisse o seguinte: \n",
            "[1 1 2 1 1 1 1 2 1 1 2 2 1 2 2 1 2 1 1 2 2 1 2 2 2 2 2 2 2 2 2 1 1 2 2 2 1\n",
            " 2 2 2 2 1 1 1 1 1 2 2 1 2 1 2 1 2 2 1 2 2 2 2 1 2 2 2 1 2 1 2 2 1 2 1 1 2\n",
            " 1]\n"
          ]
        }
      ]
    },
    {
      "cell_type": "code",
      "source": [
        "# Resultado esperado com base nos dados de y_test\n",
        "\n",
        "print('A verdade sobre o meu dados de x_test é a seguinte:')\n",
        "print(y_test)"
      ],
      "metadata": {
        "colab": {
          "base_uri": "https://localhost:8080/"
        },
        "id": "-Xi8qMHU6z8g",
        "outputId": "e0917e98-0da4-47ce-d3ed-6c989d73a530"
      },
      "execution_count": null,
      "outputs": [
        {
          "output_type": "stream",
          "name": "stdout",
          "text": [
            "A verdade sobre o meu dados de x_test é a seguinte:\n",
            "[1 0 2 1 1 0 1 2 1 1 2 0 0 0 0 1 2 1 1 2 0 2 0 2 2 2 2 2 0 0 0 0 1 0 0 2 1\n",
            " 0 0 0 2 1 1 0 0 1 2 2 1 2 1 2 1 0 2 1 0 0 0 1 2 0 0 0 1 0 1 2 0 1 2 0 2 2\n",
            " 1]\n"
          ]
        }
      ]
    },
    {
      "cell_type": "code",
      "source": [
        "# Resultado da acurácia do método com 10% de base de treino:\n",
        "\n",
        "accuracy_10 = accuracy_score(answer1,y_test)\n",
        "accuracy_10 *= 100\n",
        "print(accuracy_10)\n"
      ],
      "metadata": {
        "colab": {
          "base_uri": "https://localhost:8080/"
        },
        "id": "5WV4Dvqa7JWb",
        "outputId": "4017ff2d-c921-4ca1-a4eb-22ebe5c62e35"
      },
      "execution_count": null,
      "outputs": [
        {
          "output_type": "stream",
          "name": "stdout",
          "text": [
            "56.00000000000001\n"
          ]
        }
      ]
    },
    {
      "cell_type": "markdown",
      "source": [
        "Com a base de treino de 50% usando apenas os 10% dela temos uma acurácia de aproximadamente 70,67%\n"
      ],
      "metadata": {
        "id": "4-3ODkAd70hN"
      }
    },
    {
      "cell_type": "markdown",
      "source": [
        "**Etapa 2 - utilizando agora 20% da base de Treino**"
      ],
      "metadata": {
        "id": "4wTWEuet8U1G"
      }
    },
    {
      "cell_type": "code",
      "source": [
        "# Fazer o split de 20% no conjunto TREINO (50% do total)\n",
        "\n",
        "x_train20, x_test20, y_train20, y_test20 = train_test_split(x_train, y_train,\n",
        "                                                            train_size= 0.2,\n",
        "                                                            random_state=42)"
      ],
      "metadata": {
        "id": "I1En8xMT7yp3"
      },
      "execution_count": null,
      "outputs": []
    },
    {
      "cell_type": "code",
      "source": [
        "print(x_train10)"
      ],
      "metadata": {
        "colab": {
          "base_uri": "https://localhost:8080/"
        },
        "id": "KVbDXT5YGrJw",
        "outputId": "5dbda0e4-2d1e-4382-a403-66b945281577"
      },
      "execution_count": null,
      "outputs": [
        {
          "output_type": "stream",
          "name": "stdout",
          "text": [
            "[[5.5 2.3 4.  1.3]\n",
            " [6.  2.2 5.  1.5]\n",
            " [5.5 2.5 4.  1.3]\n",
            " [6.9 3.1 4.9 1.5]\n",
            " [4.9 2.5 4.5 1.7]\n",
            " [5.9 3.2 4.8 1.8]\n",
            " [7.3 2.9 6.3 1.8]]\n"
          ]
        }
      ]
    },
    {
      "cell_type": "code",
      "source": [
        "# Exemplos em X\n",
        "\n",
        "y_train20"
      ],
      "metadata": {
        "colab": {
          "base_uri": "https://localhost:8080/"
        },
        "id": "fOzn8jGO-eYG",
        "outputId": "0f8d692e-ccb6-44ab-91db-1a09a642790f"
      },
      "execution_count": null,
      "outputs": [
        {
          "output_type": "execute_result",
          "data": {
            "text/plain": [
              "array([1, 0, 1, 1, 2, 2, 2, 0, 1, 2, 1, 1, 2, 1, 2])"
            ]
          },
          "metadata": {},
          "execution_count": 18
        }
      ]
    },
    {
      "cell_type": "code",
      "source": [
        "# Gerar minha árvore de treino com os 20%\n",
        "\n",
        "classifier_t = classifier_t.fit(x_train20, y_train20)"
      ],
      "metadata": {
        "id": "5i0BlUnW-mME"
      },
      "execution_count": null,
      "outputs": []
    },
    {
      "cell_type": "code",
      "source": [
        "# Plotar minha árvore de decisão com os dados de 20% TREINO\n",
        "\n",
        "graph_DT20 = tree.export_graphviz(classifier_t, out_file=None) \n",
        "graph = graphviz.Source(graph_DT20) \n",
        "graph.render(\"iris\") \n",
        "graph"
      ],
      "metadata": {
        "colab": {
          "base_uri": "https://localhost:8080/",
          "height": 518
        },
        "id": "n2OUoEGw-1ta",
        "outputId": "125bde2c-8ce2-4e72-eaf2-2ca66cd55f76"
      },
      "execution_count": null,
      "outputs": [
        {
          "output_type": "execute_result",
          "data": {
            "text/plain": [
              "<graphviz.files.Source at 0x7f1bf57a7550>"
            ],
            "image/svg+xml": "<?xml version=\"1.0\" encoding=\"UTF-8\" standalone=\"no\"?>\n<!DOCTYPE svg PUBLIC \"-//W3C//DTD SVG 1.1//EN\"\n \"http://www.w3.org/Graphics/SVG/1.1/DTD/svg11.dtd\">\n<!-- Generated by graphviz version 2.40.1 (20161225.0304)\n -->\n<!-- Title: Tree Pages: 1 -->\n<svg width=\"388pt\" height=\"373pt\"\n viewBox=\"0.00 0.00 388.00 373.00\" xmlns=\"http://www.w3.org/2000/svg\" xmlns:xlink=\"http://www.w3.org/1999/xlink\">\n<g id=\"graph0\" class=\"graph\" transform=\"scale(1 1) rotate(0) translate(4 369)\">\n<title>Tree</title>\n<polygon fill=\"#ffffff\" stroke=\"transparent\" points=\"-4,4 -4,-369 384,-369 384,4 -4,4\"/>\n<!-- 0 -->\n<g id=\"node1\" class=\"node\">\n<title>0</title>\n<polygon fill=\"none\" stroke=\"#000000\" points=\"313,-365 198,-365 198,-297 313,-297 313,-365\"/>\n<text text-anchor=\"middle\" x=\"255.5\" y=\"-349.8\" font-family=\"Helvetica,sans-Serif\" font-size=\"14.00\" fill=\"#000000\">X[2] &lt;= 4.95</text>\n<text text-anchor=\"middle\" x=\"255.5\" y=\"-334.8\" font-family=\"Helvetica,sans-Serif\" font-size=\"14.00\" fill=\"#000000\">gini = 0.604</text>\n<text text-anchor=\"middle\" x=\"255.5\" y=\"-319.8\" font-family=\"Helvetica,sans-Serif\" font-size=\"14.00\" fill=\"#000000\">samples = 15</text>\n<text text-anchor=\"middle\" x=\"255.5\" y=\"-304.8\" font-family=\"Helvetica,sans-Serif\" font-size=\"14.00\" fill=\"#000000\">value = [2, 7, 6]</text>\n</g>\n<!-- 1 -->\n<g id=\"node2\" class=\"node\">\n<title>1</title>\n<polygon fill=\"none\" stroke=\"#000000\" points=\"247,-261 132,-261 132,-193 247,-193 247,-261\"/>\n<text text-anchor=\"middle\" x=\"189.5\" y=\"-245.8\" font-family=\"Helvetica,sans-Serif\" font-size=\"14.00\" fill=\"#000000\">X[0] &lt;= 5.2</text>\n<text text-anchor=\"middle\" x=\"189.5\" y=\"-230.8\" font-family=\"Helvetica,sans-Serif\" font-size=\"14.00\" fill=\"#000000\">gini = 0.46</text>\n<text text-anchor=\"middle\" x=\"189.5\" y=\"-215.8\" font-family=\"Helvetica,sans-Serif\" font-size=\"14.00\" fill=\"#000000\">samples = 10</text>\n<text text-anchor=\"middle\" x=\"189.5\" y=\"-200.8\" font-family=\"Helvetica,sans-Serif\" font-size=\"14.00\" fill=\"#000000\">value = [2, 7, 1]</text>\n</g>\n<!-- 0&#45;&gt;1 -->\n<g id=\"edge1\" class=\"edge\">\n<title>0&#45;&gt;1</title>\n<path fill=\"none\" stroke=\"#000000\" d=\"M233.8891,-296.9465C228.3622,-288.2373 222.3494,-278.7626 216.5854,-269.6801\"/>\n<polygon fill=\"#000000\" stroke=\"#000000\" points=\"219.4729,-267.6979 211.1594,-261.13 213.5626,-271.4487 219.4729,-267.6979\"/>\n<text text-anchor=\"middle\" x=\"205.7058\" y=\"-281.8279\" font-family=\"Helvetica,sans-Serif\" font-size=\"14.00\" fill=\"#000000\">True</text>\n</g>\n<!-- 6 -->\n<g id=\"node7\" class=\"node\">\n<title>6</title>\n<polygon fill=\"none\" stroke=\"#000000\" points=\"380,-253.5 265,-253.5 265,-200.5 380,-200.5 380,-253.5\"/>\n<text text-anchor=\"middle\" x=\"322.5\" y=\"-238.3\" font-family=\"Helvetica,sans-Serif\" font-size=\"14.00\" fill=\"#000000\">gini = 0.0</text>\n<text text-anchor=\"middle\" x=\"322.5\" y=\"-223.3\" font-family=\"Helvetica,sans-Serif\" font-size=\"14.00\" fill=\"#000000\">samples = 5</text>\n<text text-anchor=\"middle\" x=\"322.5\" y=\"-208.3\" font-family=\"Helvetica,sans-Serif\" font-size=\"14.00\" fill=\"#000000\">value = [0, 0, 5]</text>\n</g>\n<!-- 0&#45;&gt;6 -->\n<g id=\"edge6\" class=\"edge\">\n<title>0&#45;&gt;6</title>\n<path fill=\"none\" stroke=\"#000000\" d=\"M277.4383,-296.9465C284.6054,-285.8215 292.5773,-273.4473 299.7993,-262.237\"/>\n<polygon fill=\"#000000\" stroke=\"#000000\" points=\"302.9272,-263.8442 305.4007,-253.5422 297.0426,-260.0532 302.9272,-263.8442\"/>\n<text text-anchor=\"middle\" x=\"310.6877\" y=\"-274.2767\" font-family=\"Helvetica,sans-Serif\" font-size=\"14.00\" fill=\"#000000\">False</text>\n</g>\n<!-- 2 -->\n<g id=\"node3\" class=\"node\">\n<title>2</title>\n<polygon fill=\"none\" stroke=\"#000000\" points=\"181,-157 66,-157 66,-89 181,-89 181,-157\"/>\n<text text-anchor=\"middle\" x=\"123.5\" y=\"-141.8\" font-family=\"Helvetica,sans-Serif\" font-size=\"14.00\" fill=\"#000000\">X[3] &lt;= 0.95</text>\n<text text-anchor=\"middle\" x=\"123.5\" y=\"-126.8\" font-family=\"Helvetica,sans-Serif\" font-size=\"14.00\" fill=\"#000000\">gini = 0.444</text>\n<text text-anchor=\"middle\" x=\"123.5\" y=\"-111.8\" font-family=\"Helvetica,sans-Serif\" font-size=\"14.00\" fill=\"#000000\">samples = 3</text>\n<text text-anchor=\"middle\" x=\"123.5\" y=\"-96.8\" font-family=\"Helvetica,sans-Serif\" font-size=\"14.00\" fill=\"#000000\">value = [2, 0, 1]</text>\n</g>\n<!-- 1&#45;&gt;2 -->\n<g id=\"edge2\" class=\"edge\">\n<title>1&#45;&gt;2</title>\n<path fill=\"none\" stroke=\"#000000\" d=\"M167.8891,-192.9465C162.3622,-184.2373 156.3494,-174.7626 150.5854,-165.6801\"/>\n<polygon fill=\"#000000\" stroke=\"#000000\" points=\"153.4729,-163.6979 145.1594,-157.13 147.5626,-167.4487 153.4729,-163.6979\"/>\n</g>\n<!-- 5 -->\n<g id=\"node6\" class=\"node\">\n<title>5</title>\n<polygon fill=\"none\" stroke=\"#000000\" points=\"314,-149.5 199,-149.5 199,-96.5 314,-96.5 314,-149.5\"/>\n<text text-anchor=\"middle\" x=\"256.5\" y=\"-134.3\" font-family=\"Helvetica,sans-Serif\" font-size=\"14.00\" fill=\"#000000\">gini = 0.0</text>\n<text text-anchor=\"middle\" x=\"256.5\" y=\"-119.3\" font-family=\"Helvetica,sans-Serif\" font-size=\"14.00\" fill=\"#000000\">samples = 7</text>\n<text text-anchor=\"middle\" x=\"256.5\" y=\"-104.3\" font-family=\"Helvetica,sans-Serif\" font-size=\"14.00\" fill=\"#000000\">value = [0, 7, 0]</text>\n</g>\n<!-- 1&#45;&gt;5 -->\n<g id=\"edge5\" class=\"edge\">\n<title>1&#45;&gt;5</title>\n<path fill=\"none\" stroke=\"#000000\" d=\"M211.4383,-192.9465C218.6054,-181.8215 226.5773,-169.4473 233.7993,-158.237\"/>\n<polygon fill=\"#000000\" stroke=\"#000000\" points=\"236.9272,-159.8442 239.4007,-149.5422 231.0426,-156.0532 236.9272,-159.8442\"/>\n</g>\n<!-- 3 -->\n<g id=\"node4\" class=\"node\">\n<title>3</title>\n<polygon fill=\"none\" stroke=\"#000000\" points=\"115,-53 0,-53 0,0 115,0 115,-53\"/>\n<text text-anchor=\"middle\" x=\"57.5\" y=\"-37.8\" font-family=\"Helvetica,sans-Serif\" font-size=\"14.00\" fill=\"#000000\">gini = 0.0</text>\n<text text-anchor=\"middle\" x=\"57.5\" y=\"-22.8\" font-family=\"Helvetica,sans-Serif\" font-size=\"14.00\" fill=\"#000000\">samples = 2</text>\n<text text-anchor=\"middle\" x=\"57.5\" y=\"-7.8\" font-family=\"Helvetica,sans-Serif\" font-size=\"14.00\" fill=\"#000000\">value = [2, 0, 0]</text>\n</g>\n<!-- 2&#45;&gt;3 -->\n<g id=\"edge3\" class=\"edge\">\n<title>2&#45;&gt;3</title>\n<path fill=\"none\" stroke=\"#000000\" d=\"M100.2309,-88.9777C94.156,-80.0954 87.5979,-70.5067 81.4865,-61.5711\"/>\n<polygon fill=\"#000000\" stroke=\"#000000\" points=\"84.3286,-59.5267 75.7943,-53.2485 78.5507,-63.4785 84.3286,-59.5267\"/>\n</g>\n<!-- 4 -->\n<g id=\"node5\" class=\"node\">\n<title>4</title>\n<polygon fill=\"none\" stroke=\"#000000\" points=\"248,-53 133,-53 133,0 248,0 248,-53\"/>\n<text text-anchor=\"middle\" x=\"190.5\" y=\"-37.8\" font-family=\"Helvetica,sans-Serif\" font-size=\"14.00\" fill=\"#000000\">gini = 0.0</text>\n<text text-anchor=\"middle\" x=\"190.5\" y=\"-22.8\" font-family=\"Helvetica,sans-Serif\" font-size=\"14.00\" fill=\"#000000\">samples = 1</text>\n<text text-anchor=\"middle\" x=\"190.5\" y=\"-7.8\" font-family=\"Helvetica,sans-Serif\" font-size=\"14.00\" fill=\"#000000\">value = [0, 0, 1]</text>\n</g>\n<!-- 2&#45;&gt;4 -->\n<g id=\"edge4\" class=\"edge\">\n<title>2&#45;&gt;4</title>\n<path fill=\"none\" stroke=\"#000000\" d=\"M147.1217,-88.9777C153.2887,-80.0954 159.9461,-70.5067 166.1501,-61.5711\"/>\n<polygon fill=\"#000000\" stroke=\"#000000\" points=\"169.1003,-63.4589 171.9285,-53.2485 163.3503,-59.4666 169.1003,-63.4589\"/>\n</g>\n</g>\n</svg>\n"
          },
          "metadata": {},
          "execution_count": 20
        }
      ]
    },
    {
      "cell_type": "code",
      "source": [
        "# Predição com apenas 20% dos dados como treino para os 50% do conjunto TESTE.\n",
        "\n",
        "answer2 = classifier_t.predict(x_test)\n",
        "\n",
        "print('A arvore rotulou/predisse o seguinte: ')\n",
        "print(answer2)"
      ],
      "metadata": {
        "colab": {
          "base_uri": "https://localhost:8080/"
        },
        "id": "cPSKHk6U_T9z",
        "outputId": "1576a5c6-7de9-4ba1-9112-b9e282cea3fa"
      },
      "execution_count": null,
      "outputs": [
        {
          "output_type": "stream",
          "name": "stdout",
          "text": [
            "A arvore rotulou/predisse o seguinte: \n",
            "[1 1 2 1 1 1 1 2 1 1 2 0 1 0 0 1 2 1 1 2 0 1 0 2 2 2 2 2 0 0 0 1 1 0 0 2 1\n",
            " 0 0 0 2 1 1 1 1 1 2 2 1 2 1 2 1 0 2 1 0 0 0 2 1 0 0 0 1 0 1 2 0 1 2 1 1 2\n",
            " 1]\n"
          ]
        }
      ]
    },
    {
      "cell_type": "code",
      "source": [
        "# Resultado esperado com base nos dados de y_test\n",
        "\n",
        "print('A verdade sobre o meu dados de x_test é a seguinte:')\n",
        "print(y_test)"
      ],
      "metadata": {
        "colab": {
          "base_uri": "https://localhost:8080/"
        },
        "id": "Z20jrsWkAoTE",
        "outputId": "5a3ff3dc-6b98-444a-a8f1-6551a27677cc"
      },
      "execution_count": null,
      "outputs": [
        {
          "output_type": "stream",
          "name": "stdout",
          "text": [
            "A verdade sobre o meu dados de x_test é a seguinte:\n",
            "[1 0 2 1 1 0 1 2 1 1 2 0 0 0 0 1 2 1 1 2 0 2 0 2 2 2 2 2 0 0 0 0 1 0 0 2 1\n",
            " 0 0 0 2 1 1 0 0 1 2 2 1 2 1 2 1 0 2 1 0 0 0 1 2 0 0 0 1 0 1 2 0 1 2 0 2 2\n",
            " 1]\n"
          ]
        }
      ]
    },
    {
      "cell_type": "code",
      "source": [
        "# Resultado da acurácia do método com 20% de base de treino:\n",
        "\n",
        "accuracy_20 = accuracy_score(answer2,y_test)\n",
        "accuracy_20 *= 100\n",
        "print(accuracy_20)"
      ],
      "metadata": {
        "colab": {
          "base_uri": "https://localhost:8080/"
        },
        "id": "kEJOiQMXA680",
        "outputId": "c8f948a3-08aa-4b4e-d100-63520b77ebec"
      },
      "execution_count": null,
      "outputs": [
        {
          "output_type": "stream",
          "name": "stdout",
          "text": [
            "85.33333333333334\n"
          ]
        }
      ]
    },
    {
      "cell_type": "markdown",
      "source": [
        "Com a base de treino de 50% usando apenas os 20% dela temos uma acurácia de aproximadamente 90,33%\n"
      ],
      "metadata": {
        "id": "A5BFH125BVSe"
      }
    },
    {
      "cell_type": "code",
      "source": [
        "# Criando uma lista com os resultados de acurácia do método\n",
        "accuracy_list = []\n",
        "accuracy_list.append(accuracy_10)\n",
        "accuracy_list.append(accuracy_20)"
      ],
      "metadata": {
        "id": "BZSNTOBLCAtb"
      },
      "execution_count": null,
      "outputs": []
    },
    {
      "cell_type": "markdown",
      "source": [
        "**Etapa 3 - utilizando agora 30% da base de Treino**"
      ],
      "metadata": {
        "id": "vHIuJwccBf2-"
      }
    },
    {
      "cell_type": "code",
      "source": [
        "# Fazer o split de 30% no conjunto TREINO (50% do total)\n",
        "\n",
        "x_train30, x_test30, y_train30, y_test30 = train_test_split(x_train, y_train,\n",
        "                                                            train_size= 0.3,\n",
        "                                                            random_state=42)"
      ],
      "metadata": {
        "id": "r1E9OCGFCbaq"
      },
      "execution_count": null,
      "outputs": []
    },
    {
      "cell_type": "code",
      "source": [
        "# Exemplos em X\n",
        "x_train30"
      ],
      "metadata": {
        "colab": {
          "base_uri": "https://localhost:8080/"
        },
        "id": "RmECFQqECw_a",
        "outputId": "4a4310f3-a7ca-4cc7-c099-858f3b658c57"
      },
      "execution_count": null,
      "outputs": [
        {
          "output_type": "execute_result",
          "data": {
            "text/plain": [
              "array([[5.5, 2.6, 4.4, 1.2],\n",
              "       [7.2, 3.2, 6. , 1.8],\n",
              "       [5.7, 2.6, 3.5, 1. ],\n",
              "       [5.6, 2.8, 4.9, 2. ],\n",
              "       [4.9, 3.6, 1.4, 0.1],\n",
              "       [5.8, 2.8, 5.1, 2.4],\n",
              "       [6.3, 3.3, 6. , 2.5],\n",
              "       [6.1, 2.8, 4. , 1.3],\n",
              "       [4.9, 3. , 1.4, 0.2],\n",
              "       [6.3, 2.3, 4.4, 1.3],\n",
              "       [7. , 3.2, 4.7, 1.4],\n",
              "       [6.3, 3.4, 5.6, 2.4],\n",
              "       [6.2, 3.4, 5.4, 2.3],\n",
              "       [6.7, 3.3, 5.7, 2.1],\n",
              "       [4.4, 2.9, 1.4, 0.2],\n",
              "       [5.5, 2.3, 4. , 1.3],\n",
              "       [6. , 2.2, 5. , 1.5],\n",
              "       [5.5, 2.5, 4. , 1.3],\n",
              "       [6.9, 3.1, 4.9, 1.5],\n",
              "       [4.9, 2.5, 4.5, 1.7],\n",
              "       [5.9, 3.2, 4.8, 1.8],\n",
              "       [7.3, 2.9, 6.3, 1.8]])"
            ]
          },
          "metadata": {},
          "execution_count": 26
        }
      ]
    },
    {
      "cell_type": "code",
      "source": [
        "# Gerar minha árvore de treino com os 30%\n",
        "\n",
        "classifier_t = classifier_t.fit(x_train30, y_train30)"
      ],
      "metadata": {
        "id": "HlRrEZrUC2h0"
      },
      "execution_count": null,
      "outputs": []
    },
    {
      "cell_type": "code",
      "source": [
        "# Plotar minha árvore de decisão com os dados de 30% TREINO\n",
        "\n",
        "graph_DT30 = tree.export_graphviz(classifier_t, out_file=None) \n",
        "graph = graphviz.Source(graph_DT30) \n",
        "graph.render(\"iris\") \n",
        "graph"
      ],
      "metadata": {
        "colab": {
          "base_uri": "https://localhost:8080/",
          "height": 657
        },
        "id": "yi4SEWT4DQIx",
        "outputId": "890dd473-71de-4e13-8407-5f99c60dd960"
      },
      "execution_count": null,
      "outputs": [
        {
          "output_type": "execute_result",
          "data": {
            "text/plain": [
              "<graphviz.files.Source at 0x7f1bf57906d0>"
            ],
            "image/svg+xml": "<?xml version=\"1.0\" encoding=\"UTF-8\" standalone=\"no\"?>\n<!DOCTYPE svg PUBLIC \"-//W3C//DTD SVG 1.1//EN\"\n \"http://www.w3.org/Graphics/SVG/1.1/DTD/svg11.dtd\">\n<!-- Generated by graphviz version 2.40.1 (20161225.0304)\n -->\n<!-- Title: Tree Pages: 1 -->\n<svg width=\"388pt\" height=\"477pt\"\n viewBox=\"0.00 0.00 388.00 477.00\" xmlns=\"http://www.w3.org/2000/svg\" xmlns:xlink=\"http://www.w3.org/1999/xlink\">\n<g id=\"graph0\" class=\"graph\" transform=\"scale(1 1) rotate(0) translate(4 473)\">\n<title>Tree</title>\n<polygon fill=\"#ffffff\" stroke=\"transparent\" points=\"-4,4 -4,-473 384,-473 384,4 -4,4\"/>\n<!-- 0 -->\n<g id=\"node1\" class=\"node\">\n<title>0</title>\n<polygon fill=\"none\" stroke=\"#000000\" points=\"251,-469 128,-469 128,-401 251,-401 251,-469\"/>\n<text text-anchor=\"middle\" x=\"189.5\" y=\"-453.8\" font-family=\"Helvetica,sans-Serif\" font-size=\"14.00\" fill=\"#000000\">X[2] &lt;= 4.95</text>\n<text text-anchor=\"middle\" x=\"189.5\" y=\"-438.8\" font-family=\"Helvetica,sans-Serif\" font-size=\"14.00\" fill=\"#000000\">gini = 0.607</text>\n<text text-anchor=\"middle\" x=\"189.5\" y=\"-423.8\" font-family=\"Helvetica,sans-Serif\" font-size=\"14.00\" fill=\"#000000\">samples = 22</text>\n<text text-anchor=\"middle\" x=\"189.5\" y=\"-408.8\" font-family=\"Helvetica,sans-Serif\" font-size=\"14.00\" fill=\"#000000\">value = [3, 9, 10]</text>\n</g>\n<!-- 1 -->\n<g id=\"node2\" class=\"node\">\n<title>1</title>\n<polygon fill=\"none\" stroke=\"#000000\" points=\"181,-365 66,-365 66,-297 181,-297 181,-365\"/>\n<text text-anchor=\"middle\" x=\"123.5\" y=\"-349.8\" font-family=\"Helvetica,sans-Serif\" font-size=\"14.00\" fill=\"#000000\">X[2] &lt;= 2.45</text>\n<text text-anchor=\"middle\" x=\"123.5\" y=\"-334.8\" font-family=\"Helvetica,sans-Serif\" font-size=\"14.00\" fill=\"#000000\">gini = 0.52</text>\n<text text-anchor=\"middle\" x=\"123.5\" y=\"-319.8\" font-family=\"Helvetica,sans-Serif\" font-size=\"14.00\" fill=\"#000000\">samples = 14</text>\n<text text-anchor=\"middle\" x=\"123.5\" y=\"-304.8\" font-family=\"Helvetica,sans-Serif\" font-size=\"14.00\" fill=\"#000000\">value = [3, 9, 2]</text>\n</g>\n<!-- 0&#45;&gt;1 -->\n<g id=\"edge1\" class=\"edge\">\n<title>0&#45;&gt;1</title>\n<path fill=\"none\" stroke=\"#000000\" d=\"M167.8891,-400.9465C162.3622,-392.2373 156.3494,-382.7626 150.5854,-373.6801\"/>\n<polygon fill=\"#000000\" stroke=\"#000000\" points=\"153.4729,-371.6979 145.1594,-365.13 147.5626,-375.4487 153.4729,-371.6979\"/>\n<text text-anchor=\"middle\" x=\"139.7058\" y=\"-385.8279\" font-family=\"Helvetica,sans-Serif\" font-size=\"14.00\" fill=\"#000000\">True</text>\n</g>\n<!-- 8 -->\n<g id=\"node9\" class=\"node\">\n<title>8</title>\n<polygon fill=\"none\" stroke=\"#000000\" points=\"314,-357.5 199,-357.5 199,-304.5 314,-304.5 314,-357.5\"/>\n<text text-anchor=\"middle\" x=\"256.5\" y=\"-342.3\" font-family=\"Helvetica,sans-Serif\" font-size=\"14.00\" fill=\"#000000\">gini = 0.0</text>\n<text text-anchor=\"middle\" x=\"256.5\" y=\"-327.3\" font-family=\"Helvetica,sans-Serif\" font-size=\"14.00\" fill=\"#000000\">samples = 8</text>\n<text text-anchor=\"middle\" x=\"256.5\" y=\"-312.3\" font-family=\"Helvetica,sans-Serif\" font-size=\"14.00\" fill=\"#000000\">value = [0, 0, 8]</text>\n</g>\n<!-- 0&#45;&gt;8 -->\n<g id=\"edge8\" class=\"edge\">\n<title>0&#45;&gt;8</title>\n<path fill=\"none\" stroke=\"#000000\" d=\"M211.4383,-400.9465C218.6054,-389.8215 226.5773,-377.4473 233.7993,-366.237\"/>\n<polygon fill=\"#000000\" stroke=\"#000000\" points=\"236.9272,-367.8442 239.4007,-357.5422 231.0426,-364.0532 236.9272,-367.8442\"/>\n<text text-anchor=\"middle\" x=\"244.6877\" y=\"-378.2767\" font-family=\"Helvetica,sans-Serif\" font-size=\"14.00\" fill=\"#000000\">False</text>\n</g>\n<!-- 2 -->\n<g id=\"node3\" class=\"node\">\n<title>2</title>\n<polygon fill=\"none\" stroke=\"#000000\" points=\"115,-253.5 0,-253.5 0,-200.5 115,-200.5 115,-253.5\"/>\n<text text-anchor=\"middle\" x=\"57.5\" y=\"-238.3\" font-family=\"Helvetica,sans-Serif\" font-size=\"14.00\" fill=\"#000000\">gini = 0.0</text>\n<text text-anchor=\"middle\" x=\"57.5\" y=\"-223.3\" font-family=\"Helvetica,sans-Serif\" font-size=\"14.00\" fill=\"#000000\">samples = 3</text>\n<text text-anchor=\"middle\" x=\"57.5\" y=\"-208.3\" font-family=\"Helvetica,sans-Serif\" font-size=\"14.00\" fill=\"#000000\">value = [3, 0, 0]</text>\n</g>\n<!-- 1&#45;&gt;2 -->\n<g id=\"edge2\" class=\"edge\">\n<title>1&#45;&gt;2</title>\n<path fill=\"none\" stroke=\"#000000\" d=\"M101.8891,-296.9465C94.829,-285.8215 86.9761,-273.4473 79.8619,-262.237\"/>\n<polygon fill=\"#000000\" stroke=\"#000000\" points=\"82.6575,-260.1101 74.3441,-253.5422 76.7472,-263.8609 82.6575,-260.1101\"/>\n</g>\n<!-- 3 -->\n<g id=\"node4\" class=\"node\">\n<title>3</title>\n<polygon fill=\"none\" stroke=\"#000000\" points=\"248,-261 133,-261 133,-193 248,-193 248,-261\"/>\n<text text-anchor=\"middle\" x=\"190.5\" y=\"-245.8\" font-family=\"Helvetica,sans-Serif\" font-size=\"14.00\" fill=\"#000000\">X[3] &lt;= 1.6</text>\n<text text-anchor=\"middle\" x=\"190.5\" y=\"-230.8\" font-family=\"Helvetica,sans-Serif\" font-size=\"14.00\" fill=\"#000000\">gini = 0.298</text>\n<text text-anchor=\"middle\" x=\"190.5\" y=\"-215.8\" font-family=\"Helvetica,sans-Serif\" font-size=\"14.00\" fill=\"#000000\">samples = 11</text>\n<text text-anchor=\"middle\" x=\"190.5\" y=\"-200.8\" font-family=\"Helvetica,sans-Serif\" font-size=\"14.00\" fill=\"#000000\">value = [0, 9, 2]</text>\n</g>\n<!-- 1&#45;&gt;3 -->\n<g id=\"edge3\" class=\"edge\">\n<title>1&#45;&gt;3</title>\n<path fill=\"none\" stroke=\"#000000\" d=\"M145.4383,-296.9465C151.049,-288.2373 157.1529,-278.7626 163.0042,-269.6801\"/>\n<polygon fill=\"#000000\" stroke=\"#000000\" points=\"166.0389,-271.4321 168.5124,-261.13 160.1543,-267.641 166.0389,-271.4321\"/>\n</g>\n<!-- 4 -->\n<g id=\"node5\" class=\"node\">\n<title>4</title>\n<polygon fill=\"none\" stroke=\"#000000\" points=\"181,-149.5 66,-149.5 66,-96.5 181,-96.5 181,-149.5\"/>\n<text text-anchor=\"middle\" x=\"123.5\" y=\"-134.3\" font-family=\"Helvetica,sans-Serif\" font-size=\"14.00\" fill=\"#000000\">gini = 0.0</text>\n<text text-anchor=\"middle\" x=\"123.5\" y=\"-119.3\" font-family=\"Helvetica,sans-Serif\" font-size=\"14.00\" fill=\"#000000\">samples = 8</text>\n<text text-anchor=\"middle\" x=\"123.5\" y=\"-104.3\" font-family=\"Helvetica,sans-Serif\" font-size=\"14.00\" fill=\"#000000\">value = [0, 8, 0]</text>\n</g>\n<!-- 3&#45;&gt;4 -->\n<g id=\"edge4\" class=\"edge\">\n<title>3&#45;&gt;4</title>\n<path fill=\"none\" stroke=\"#000000\" d=\"M168.5617,-192.9465C161.3946,-181.8215 153.4227,-169.4473 146.2007,-158.237\"/>\n<polygon fill=\"#000000\" stroke=\"#000000\" points=\"148.9574,-156.0532 140.5993,-149.5422 143.0728,-159.8442 148.9574,-156.0532\"/>\n</g>\n<!-- 5 -->\n<g id=\"node6\" class=\"node\">\n<title>5</title>\n<polygon fill=\"none\" stroke=\"#000000\" points=\"314,-157 199,-157 199,-89 314,-89 314,-157\"/>\n<text text-anchor=\"middle\" x=\"256.5\" y=\"-141.8\" font-family=\"Helvetica,sans-Serif\" font-size=\"14.00\" fill=\"#000000\">X[1] &lt;= 3.0</text>\n<text text-anchor=\"middle\" x=\"256.5\" y=\"-126.8\" font-family=\"Helvetica,sans-Serif\" font-size=\"14.00\" fill=\"#000000\">gini = 0.444</text>\n<text text-anchor=\"middle\" x=\"256.5\" y=\"-111.8\" font-family=\"Helvetica,sans-Serif\" font-size=\"14.00\" fill=\"#000000\">samples = 3</text>\n<text text-anchor=\"middle\" x=\"256.5\" y=\"-96.8\" font-family=\"Helvetica,sans-Serif\" font-size=\"14.00\" fill=\"#000000\">value = [0, 1, 2]</text>\n</g>\n<!-- 3&#45;&gt;5 -->\n<g id=\"edge5\" class=\"edge\">\n<title>3&#45;&gt;5</title>\n<path fill=\"none\" stroke=\"#000000\" d=\"M212.1109,-192.9465C217.6378,-184.2373 223.6506,-174.7626 229.4146,-165.6801\"/>\n<polygon fill=\"#000000\" stroke=\"#000000\" points=\"232.4374,-167.4487 234.8406,-157.13 226.5271,-163.6979 232.4374,-167.4487\"/>\n</g>\n<!-- 6 -->\n<g id=\"node7\" class=\"node\">\n<title>6</title>\n<polygon fill=\"none\" stroke=\"#000000\" points=\"247,-53 132,-53 132,0 247,0 247,-53\"/>\n<text text-anchor=\"middle\" x=\"189.5\" y=\"-37.8\" font-family=\"Helvetica,sans-Serif\" font-size=\"14.00\" fill=\"#000000\">gini = 0.0</text>\n<text text-anchor=\"middle\" x=\"189.5\" y=\"-22.8\" font-family=\"Helvetica,sans-Serif\" font-size=\"14.00\" fill=\"#000000\">samples = 2</text>\n<text text-anchor=\"middle\" x=\"189.5\" y=\"-7.8\" font-family=\"Helvetica,sans-Serif\" font-size=\"14.00\" fill=\"#000000\">value = [0, 0, 2]</text>\n</g>\n<!-- 5&#45;&gt;6 -->\n<g id=\"edge6\" class=\"edge\">\n<title>5&#45;&gt;6</title>\n<path fill=\"none\" stroke=\"#000000\" d=\"M232.8783,-88.9777C226.7113,-80.0954 220.0539,-70.5067 213.8499,-61.5711\"/>\n<polygon fill=\"#000000\" stroke=\"#000000\" points=\"216.6497,-59.4666 208.0715,-53.2485 210.8997,-63.4589 216.6497,-59.4666\"/>\n</g>\n<!-- 7 -->\n<g id=\"node8\" class=\"node\">\n<title>7</title>\n<polygon fill=\"none\" stroke=\"#000000\" points=\"380,-53 265,-53 265,0 380,0 380,-53\"/>\n<text text-anchor=\"middle\" x=\"322.5\" y=\"-37.8\" font-family=\"Helvetica,sans-Serif\" font-size=\"14.00\" fill=\"#000000\">gini = 0.0</text>\n<text text-anchor=\"middle\" x=\"322.5\" y=\"-22.8\" font-family=\"Helvetica,sans-Serif\" font-size=\"14.00\" fill=\"#000000\">samples = 1</text>\n<text text-anchor=\"middle\" x=\"322.5\" y=\"-7.8\" font-family=\"Helvetica,sans-Serif\" font-size=\"14.00\" fill=\"#000000\">value = [0, 1, 0]</text>\n</g>\n<!-- 5&#45;&gt;7 -->\n<g id=\"edge7\" class=\"edge\">\n<title>5&#45;&gt;7</title>\n<path fill=\"none\" stroke=\"#000000\" d=\"M279.7691,-88.9777C285.844,-80.0954 292.4021,-70.5067 298.5135,-61.5711\"/>\n<polygon fill=\"#000000\" stroke=\"#000000\" points=\"301.4493,-63.4785 304.2057,-53.2485 295.6714,-59.5267 301.4493,-63.4785\"/>\n</g>\n</g>\n</svg>\n"
          },
          "metadata": {},
          "execution_count": 28
        }
      ]
    },
    {
      "cell_type": "code",
      "source": [
        "# Predição com apenas 30% dos dados como treino para os 50% do conjunto TESTE.\n",
        "\n",
        "answer3 = classifier_t.predict(x_test)\n",
        "\n",
        "print('A arvore rotulou/predisse o seguinte: ')\n",
        "print(answer3)"
      ],
      "metadata": {
        "colab": {
          "base_uri": "https://localhost:8080/"
        },
        "id": "u91SuJRwDowS",
        "outputId": "50c1eea6-1f21-4767-8c74-b1cc6b33c5d0"
      },
      "execution_count": null,
      "outputs": [
        {
          "output_type": "stream",
          "name": "stdout",
          "text": [
            "A arvore rotulou/predisse o seguinte: \n",
            "[1 0 2 1 1 0 1 2 1 1 2 0 0 0 0 1 2 1 1 2 0 2 0 2 2 2 2 2 0 0 0 0 1 0 0 2 1\n",
            " 0 0 0 2 1 1 0 0 1 2 2 1 2 1 2 1 0 2 1 0 0 0 1 2 0 0 0 1 0 1 2 0 1 2 0 2 2\n",
            " 1]\n"
          ]
        }
      ]
    },
    {
      "cell_type": "code",
      "source": [
        "# Resultado esperado com base nos dados de y_test\n",
        "\n",
        "print('A verdade sobre o meu dados de x_test é a seguinte:')\n",
        "print(y_test)"
      ],
      "metadata": {
        "colab": {
          "base_uri": "https://localhost:8080/"
        },
        "id": "Nf8zat-DD0Iv",
        "outputId": "7f695b4c-0918-44d5-d3a1-937d6d965e38"
      },
      "execution_count": null,
      "outputs": [
        {
          "output_type": "stream",
          "name": "stdout",
          "text": [
            "A verdade sobre o meu dados de x_test é a seguinte:\n",
            "[1 0 2 1 1 0 1 2 1 1 2 0 0 0 0 1 2 1 1 2 0 2 0 2 2 2 2 2 0 0 0 0 1 0 0 2 1\n",
            " 0 0 0 2 1 1 0 0 1 2 2 1 2 1 2 1 0 2 1 0 0 0 1 2 0 0 0 1 0 1 2 0 1 2 0 2 2\n",
            " 1]\n"
          ]
        }
      ]
    },
    {
      "cell_type": "code",
      "source": [
        "# Resultado da acurácia do método com 30% de base de treino:\n",
        "\n",
        "accuracy_30 = accuracy_score(answer3, y_test)\n",
        "accuracy_30 *= 100\n",
        "print(accuracy_30)"
      ],
      "metadata": {
        "colab": {
          "base_uri": "https://localhost:8080/"
        },
        "id": "bwxLXhPWEAN4",
        "outputId": "e99381f9-8764-4f12-fb9a-fbfa79f75107"
      },
      "execution_count": null,
      "outputs": [
        {
          "output_type": "stream",
          "name": "stdout",
          "text": [
            "100.0\n"
          ]
        }
      ]
    },
    {
      "cell_type": "code",
      "source": [
        "# Adicionando na lista de resultados de acurácia do método\n",
        "accuracy_list.append(accuracy_30)"
      ],
      "metadata": {
        "id": "R9D0_BbzEToB"
      },
      "execution_count": null,
      "outputs": []
    },
    {
      "cell_type": "markdown",
      "source": [
        "Com a base de treino de 50% usando apenas os 30% dela temos uma acurácia de aproximadamente 92,00%"
      ],
      "metadata": {
        "id": "KBi0RpVLEjXx"
      }
    },
    {
      "cell_type": "markdown",
      "source": [
        "**Etapa 4 - utilizando agora 40% da base de Treino**"
      ],
      "metadata": {
        "id": "fui26lvNEtUQ"
      }
    },
    {
      "cell_type": "code",
      "source": [
        "# Fazer o split de 40% no conjunto TREINO (50% do total)\n",
        "\n",
        "x_train40, x_test40, y_train40, y_test40 = train_test_split(x_train, y_train,\n",
        "                                                            train_size= 0.4,\n",
        "                                                            random_state=42)"
      ],
      "metadata": {
        "id": "YaAML2JXEtEH"
      },
      "execution_count": null,
      "outputs": []
    },
    {
      "cell_type": "code",
      "source": [
        "# Gerar minha árvore de treino com os 40%\n",
        "\n",
        "classifier_t = classifier_t.fit(x_train40, y_train40)"
      ],
      "metadata": {
        "id": "sfQMWUhuFV67"
      },
      "execution_count": null,
      "outputs": []
    },
    {
      "cell_type": "code",
      "source": [
        "# Plotar minha árvore de decisão com os dados de 40% TREINO\n",
        "\n",
        "graph_DT40 = tree.export_graphviz(classifier_t, out_file=None) \n",
        "graph = graphviz.Source(graph_DT40) \n",
        "graph.render(\"iris\") \n",
        "graph"
      ],
      "metadata": {
        "colab": {
          "base_uri": "https://localhost:8080/",
          "height": 657
        },
        "id": "4KmwZdVOFf-V",
        "outputId": "d2382389-0f9b-4e63-d448-354f006654e4"
      },
      "execution_count": null,
      "outputs": [
        {
          "output_type": "execute_result",
          "data": {
            "text/plain": [
              "<graphviz.files.Source at 0x7f1bf57a76d0>"
            ],
            "image/svg+xml": "<?xml version=\"1.0\" encoding=\"UTF-8\" standalone=\"no\"?>\n<!DOCTYPE svg PUBLIC \"-//W3C//DTD SVG 1.1//EN\"\n \"http://www.w3.org/Graphics/SVG/1.1/DTD/svg11.dtd\">\n<!-- Generated by graphviz version 2.40.1 (20161225.0304)\n -->\n<!-- Title: Tree Pages: 1 -->\n<svg width=\"394pt\" height=\"477pt\"\n viewBox=\"0.00 0.00 394.00 477.00\" xmlns=\"http://www.w3.org/2000/svg\" xmlns:xlink=\"http://www.w3.org/1999/xlink\">\n<g id=\"graph0\" class=\"graph\" transform=\"scale(1 1) rotate(0) translate(4 473)\">\n<title>Tree</title>\n<polygon fill=\"#ffffff\" stroke=\"transparent\" points=\"-4,4 -4,-473 390,-473 390,4 -4,4\"/>\n<!-- 0 -->\n<g id=\"node1\" class=\"node\">\n<title>0</title>\n<polygon fill=\"none\" stroke=\"#000000\" points=\"261,-469 130,-469 130,-401 261,-401 261,-469\"/>\n<text text-anchor=\"middle\" x=\"195.5\" y=\"-453.8\" font-family=\"Helvetica,sans-Serif\" font-size=\"14.00\" fill=\"#000000\">X[2] &lt;= 4.95</text>\n<text text-anchor=\"middle\" x=\"195.5\" y=\"-438.8\" font-family=\"Helvetica,sans-Serif\" font-size=\"14.00\" fill=\"#000000\">gini = 0.64</text>\n<text text-anchor=\"middle\" x=\"195.5\" y=\"-423.8\" font-family=\"Helvetica,sans-Serif\" font-size=\"14.00\" fill=\"#000000\">samples = 30</text>\n<text text-anchor=\"middle\" x=\"195.5\" y=\"-408.8\" font-family=\"Helvetica,sans-Serif\" font-size=\"14.00\" fill=\"#000000\">value = [6, 12, 12]</text>\n</g>\n<!-- 1 -->\n<g id=\"node2\" class=\"node\">\n<title>1</title>\n<polygon fill=\"none\" stroke=\"#000000\" points=\"187,-365 64,-365 64,-297 187,-297 187,-365\"/>\n<text text-anchor=\"middle\" x=\"125.5\" y=\"-349.8\" font-family=\"Helvetica,sans-Serif\" font-size=\"14.00\" fill=\"#000000\">X[3] &lt;= 0.65</text>\n<text text-anchor=\"middle\" x=\"125.5\" y=\"-334.8\" font-family=\"Helvetica,sans-Serif\" font-size=\"14.00\" fill=\"#000000\">gini = 0.54</text>\n<text text-anchor=\"middle\" x=\"125.5\" y=\"-319.8\" font-family=\"Helvetica,sans-Serif\" font-size=\"14.00\" fill=\"#000000\">samples = 20</text>\n<text text-anchor=\"middle\" x=\"125.5\" y=\"-304.8\" font-family=\"Helvetica,sans-Serif\" font-size=\"14.00\" fill=\"#000000\">value = [6, 12, 2]</text>\n</g>\n<!-- 0&#45;&gt;1 -->\n<g id=\"edge1\" class=\"edge\">\n<title>0&#45;&gt;1</title>\n<path fill=\"none\" stroke=\"#000000\" d=\"M172.5794,-400.9465C166.7174,-392.2373 160.3402,-382.7626 154.227,-373.6801\"/>\n<polygon fill=\"#000000\" stroke=\"#000000\" points=\"156.9595,-371.4716 148.4721,-365.13 151.1524,-375.3802 156.9595,-371.4716\"/>\n<text text-anchor=\"middle\" x=\"143.6777\" y=\"-385.966\" font-family=\"Helvetica,sans-Serif\" font-size=\"14.00\" fill=\"#000000\">True</text>\n</g>\n<!-- 8 -->\n<g id=\"node9\" class=\"node\">\n<title>8</title>\n<polygon fill=\"none\" stroke=\"#000000\" points=\"328,-357.5 205,-357.5 205,-304.5 328,-304.5 328,-357.5\"/>\n<text text-anchor=\"middle\" x=\"266.5\" y=\"-342.3\" font-family=\"Helvetica,sans-Serif\" font-size=\"14.00\" fill=\"#000000\">gini = 0.0</text>\n<text text-anchor=\"middle\" x=\"266.5\" y=\"-327.3\" font-family=\"Helvetica,sans-Serif\" font-size=\"14.00\" fill=\"#000000\">samples = 10</text>\n<text text-anchor=\"middle\" x=\"266.5\" y=\"-312.3\" font-family=\"Helvetica,sans-Serif\" font-size=\"14.00\" fill=\"#000000\">value = [0, 0, 10]</text>\n</g>\n<!-- 0&#45;&gt;8 -->\n<g id=\"edge8\" class=\"edge\">\n<title>0&#45;&gt;8</title>\n<path fill=\"none\" stroke=\"#000000\" d=\"M218.7481,-400.9465C226.4182,-389.7113 234.9582,-377.2021 242.6711,-365.9043\"/>\n<polygon fill=\"#000000\" stroke=\"#000000\" points=\"245.6322,-367.7745 248.3799,-357.5422 239.8509,-363.8277 245.6322,-367.7745\"/>\n<text text-anchor=\"middle\" x=\"253.0125\" y=\"-378.4092\" font-family=\"Helvetica,sans-Serif\" font-size=\"14.00\" fill=\"#000000\">False</text>\n</g>\n<!-- 2 -->\n<g id=\"node3\" class=\"node\">\n<title>2</title>\n<polygon fill=\"none\" stroke=\"#000000\" points=\"115,-253.5 0,-253.5 0,-200.5 115,-200.5 115,-253.5\"/>\n<text text-anchor=\"middle\" x=\"57.5\" y=\"-238.3\" font-family=\"Helvetica,sans-Serif\" font-size=\"14.00\" fill=\"#000000\">gini = 0.0</text>\n<text text-anchor=\"middle\" x=\"57.5\" y=\"-223.3\" font-family=\"Helvetica,sans-Serif\" font-size=\"14.00\" fill=\"#000000\">samples = 6</text>\n<text text-anchor=\"middle\" x=\"57.5\" y=\"-208.3\" font-family=\"Helvetica,sans-Serif\" font-size=\"14.00\" fill=\"#000000\">value = [6, 0, 0]</text>\n</g>\n<!-- 1&#45;&gt;2 -->\n<g id=\"edge2\" class=\"edge\">\n<title>1&#45;&gt;2</title>\n<path fill=\"none\" stroke=\"#000000\" d=\"M103.2343,-296.9465C95.9602,-285.8215 87.8694,-273.4473 80.5396,-262.237\"/>\n<polygon fill=\"#000000\" stroke=\"#000000\" points=\"83.2564,-259.9965 74.8545,-253.5422 77.3976,-263.8273 83.2564,-259.9965\"/>\n</g>\n<!-- 3 -->\n<g id=\"node4\" class=\"node\">\n<title>3</title>\n<polygon fill=\"none\" stroke=\"#000000\" points=\"256,-261 133,-261 133,-193 256,-193 256,-261\"/>\n<text text-anchor=\"middle\" x=\"194.5\" y=\"-245.8\" font-family=\"Helvetica,sans-Serif\" font-size=\"14.00\" fill=\"#000000\">X[3] &lt;= 1.6</text>\n<text text-anchor=\"middle\" x=\"194.5\" y=\"-230.8\" font-family=\"Helvetica,sans-Serif\" font-size=\"14.00\" fill=\"#000000\">gini = 0.245</text>\n<text text-anchor=\"middle\" x=\"194.5\" y=\"-215.8\" font-family=\"Helvetica,sans-Serif\" font-size=\"14.00\" fill=\"#000000\">samples = 14</text>\n<text text-anchor=\"middle\" x=\"194.5\" y=\"-200.8\" font-family=\"Helvetica,sans-Serif\" font-size=\"14.00\" fill=\"#000000\">value = [0, 12, 2]</text>\n</g>\n<!-- 1&#45;&gt;3 -->\n<g id=\"edge3\" class=\"edge\">\n<title>1&#45;&gt;3</title>\n<path fill=\"none\" stroke=\"#000000\" d=\"M148.0932,-296.9465C153.8714,-288.2373 160.1575,-278.7626 166.1834,-269.6801\"/>\n<polygon fill=\"#000000\" stroke=\"#000000\" points=\"169.244,-271.3978 171.8561,-261.13 163.411,-267.5278 169.244,-271.3978\"/>\n</g>\n<!-- 4 -->\n<g id=\"node5\" class=\"node\">\n<title>4</title>\n<polygon fill=\"none\" stroke=\"#000000\" points=\"187,-149.5 64,-149.5 64,-96.5 187,-96.5 187,-149.5\"/>\n<text text-anchor=\"middle\" x=\"125.5\" y=\"-134.3\" font-family=\"Helvetica,sans-Serif\" font-size=\"14.00\" fill=\"#000000\">gini = 0.0</text>\n<text text-anchor=\"middle\" x=\"125.5\" y=\"-119.3\" font-family=\"Helvetica,sans-Serif\" font-size=\"14.00\" fill=\"#000000\">samples = 11</text>\n<text text-anchor=\"middle\" x=\"125.5\" y=\"-104.3\" font-family=\"Helvetica,sans-Serif\" font-size=\"14.00\" fill=\"#000000\">value = [0, 11, 0]</text>\n</g>\n<!-- 3&#45;&gt;4 -->\n<g id=\"edge4\" class=\"edge\">\n<title>3&#45;&gt;4</title>\n<path fill=\"none\" stroke=\"#000000\" d=\"M171.9068,-192.9465C164.4527,-181.7113 156.1533,-169.2021 148.6577,-157.9043\"/>\n<polygon fill=\"#000000\" stroke=\"#000000\" points=\"151.5547,-155.94 143.1097,-149.5422 145.7218,-159.81 151.5547,-155.94\"/>\n</g>\n<!-- 5 -->\n<g id=\"node6\" class=\"node\">\n<title>5</title>\n<polygon fill=\"none\" stroke=\"#000000\" points=\"320,-157 205,-157 205,-89 320,-89 320,-157\"/>\n<text text-anchor=\"middle\" x=\"262.5\" y=\"-141.8\" font-family=\"Helvetica,sans-Serif\" font-size=\"14.00\" fill=\"#000000\">X[0] &lt;= 5.75</text>\n<text text-anchor=\"middle\" x=\"262.5\" y=\"-126.8\" font-family=\"Helvetica,sans-Serif\" font-size=\"14.00\" fill=\"#000000\">gini = 0.444</text>\n<text text-anchor=\"middle\" x=\"262.5\" y=\"-111.8\" font-family=\"Helvetica,sans-Serif\" font-size=\"14.00\" fill=\"#000000\">samples = 3</text>\n<text text-anchor=\"middle\" x=\"262.5\" y=\"-96.8\" font-family=\"Helvetica,sans-Serif\" font-size=\"14.00\" fill=\"#000000\">value = [0, 1, 2]</text>\n</g>\n<!-- 3&#45;&gt;5 -->\n<g id=\"edge5\" class=\"edge\">\n<title>3&#45;&gt;5</title>\n<path fill=\"none\" stroke=\"#000000\" d=\"M216.7657,-192.9465C222.4602,-184.2373 228.6552,-174.7626 234.5938,-165.6801\"/>\n<polygon fill=\"#000000\" stroke=\"#000000\" points=\"237.6411,-167.4151 240.1842,-157.13 231.7823,-163.5843 237.6411,-167.4151\"/>\n</g>\n<!-- 6 -->\n<g id=\"node7\" class=\"node\">\n<title>6</title>\n<polygon fill=\"none\" stroke=\"#000000\" points=\"253,-53 138,-53 138,0 253,0 253,-53\"/>\n<text text-anchor=\"middle\" x=\"195.5\" y=\"-37.8\" font-family=\"Helvetica,sans-Serif\" font-size=\"14.00\" fill=\"#000000\">gini = 0.0</text>\n<text text-anchor=\"middle\" x=\"195.5\" y=\"-22.8\" font-family=\"Helvetica,sans-Serif\" font-size=\"14.00\" fill=\"#000000\">samples = 2</text>\n<text text-anchor=\"middle\" x=\"195.5\" y=\"-7.8\" font-family=\"Helvetica,sans-Serif\" font-size=\"14.00\" fill=\"#000000\">value = [0, 0, 2]</text>\n</g>\n<!-- 5&#45;&gt;6 -->\n<g id=\"edge6\" class=\"edge\">\n<title>5&#45;&gt;6</title>\n<path fill=\"none\" stroke=\"#000000\" d=\"M238.8783,-88.9777C232.7113,-80.0954 226.0539,-70.5067 219.8499,-61.5711\"/>\n<polygon fill=\"#000000\" stroke=\"#000000\" points=\"222.6497,-59.4666 214.0715,-53.2485 216.8997,-63.4589 222.6497,-59.4666\"/>\n</g>\n<!-- 7 -->\n<g id=\"node8\" class=\"node\">\n<title>7</title>\n<polygon fill=\"none\" stroke=\"#000000\" points=\"386,-53 271,-53 271,0 386,0 386,-53\"/>\n<text text-anchor=\"middle\" x=\"328.5\" y=\"-37.8\" font-family=\"Helvetica,sans-Serif\" font-size=\"14.00\" fill=\"#000000\">gini = 0.0</text>\n<text text-anchor=\"middle\" x=\"328.5\" y=\"-22.8\" font-family=\"Helvetica,sans-Serif\" font-size=\"14.00\" fill=\"#000000\">samples = 1</text>\n<text text-anchor=\"middle\" x=\"328.5\" y=\"-7.8\" font-family=\"Helvetica,sans-Serif\" font-size=\"14.00\" fill=\"#000000\">value = [0, 1, 0]</text>\n</g>\n<!-- 5&#45;&gt;7 -->\n<g id=\"edge7\" class=\"edge\">\n<title>5&#45;&gt;7</title>\n<path fill=\"none\" stroke=\"#000000\" d=\"M285.7691,-88.9777C291.844,-80.0954 298.4021,-70.5067 304.5135,-61.5711\"/>\n<polygon fill=\"#000000\" stroke=\"#000000\" points=\"307.4493,-63.4785 310.2057,-53.2485 301.6714,-59.5267 307.4493,-63.4785\"/>\n</g>\n</g>\n</svg>\n"
          },
          "metadata": {},
          "execution_count": 35
        }
      ]
    },
    {
      "cell_type": "code",
      "source": [
        "# Predição com apenas 40% dos dados como treino para os 50% do conjunto TESTE.\n",
        "\n",
        "answer4 = classifier_t.predict(x_test)\n",
        "\n",
        "print('A arvore rotulou/predisse o seguinte: ')\n",
        "print(answer4)"
      ],
      "metadata": {
        "colab": {
          "base_uri": "https://localhost:8080/"
        },
        "id": "4N_GOv_EFvmK",
        "outputId": "b96a33bc-3649-48a6-87c9-e570eabf3a50"
      },
      "execution_count": null,
      "outputs": [
        {
          "output_type": "stream",
          "name": "stdout",
          "text": [
            "A arvore rotulou/predisse o seguinte: \n",
            "[1 0 2 1 1 0 1 2 1 1 2 0 0 0 0 1 2 1 1 2 0 1 0 2 2 2 2 2 0 0 0 0 1 0 0 2 1\n",
            " 0 0 0 2 1 1 0 0 1 2 2 1 2 1 2 1 0 2 1 0 0 0 1 1 0 0 0 1 0 1 2 0 1 2 0 1 2\n",
            " 1]\n"
          ]
        }
      ]
    },
    {
      "cell_type": "code",
      "source": [
        "# Resultado da acurácia do método com 40% de base de treino:\n",
        "\n",
        "accuracy_40 = accuracy_score(answer4, y_test)\n",
        "accuracy_40 *= 100\n",
        "print(accuracy_40)\n",
        "accuracy_list.append(accuracy_40)"
      ],
      "metadata": {
        "colab": {
          "base_uri": "https://localhost:8080/"
        },
        "id": "5TeiBC2LF8ZD",
        "outputId": "f581e690-04f3-420b-cca4-b494de60bf35"
      },
      "execution_count": null,
      "outputs": [
        {
          "output_type": "stream",
          "name": "stdout",
          "text": [
            "96.0\n"
          ]
        }
      ]
    },
    {
      "cell_type": "markdown",
      "source": [
        "Com a base de treino de 50% usando apenas os 40% dela temos uma acurácia de aproximadamente 93,33%"
      ],
      "metadata": {
        "id": "VfW0d1OxGpHk"
      }
    },
    {
      "cell_type": "markdown",
      "source": [
        "**Etapa 5 - utilizando agora 50% da base de Treino**"
      ],
      "metadata": {
        "id": "UF_T-0elGy0X"
      }
    },
    {
      "cell_type": "code",
      "source": [
        "# Fazer o split de 50% no conjunto TREINO (50% do total)\n",
        "\n",
        "x_train50, x_test50, y_train50, y_test50 = train_test_split(x_train, y_train,\n",
        "                                                            train_size= 0.5,\n",
        "                                                            random_state=42)"
      ],
      "metadata": {
        "id": "jMdPU712HCx8"
      },
      "execution_count": null,
      "outputs": []
    },
    {
      "cell_type": "code",
      "source": [
        "# Gerar minha árvore de treino com os 50%\n",
        "\n",
        "classifier_t = classifier_t.fit(x_train50, y_train50)"
      ],
      "metadata": {
        "id": "UV0YkaHPHXoD"
      },
      "execution_count": null,
      "outputs": []
    },
    {
      "cell_type": "code",
      "source": [
        "# Plotar minha árvore de decisão com os dados de 50% TREINO\n",
        "\n",
        "graph_DT50 = tree.export_graphviz(classifier_t, out_file=None) \n",
        "graph = graphviz.Source(graph_DT50) \n",
        "graph.render(\"iris\") \n",
        "graph"
      ],
      "metadata": {
        "colab": {
          "base_uri": "https://localhost:8080/",
          "height": 518
        },
        "id": "Us-OVKQtHjuN",
        "outputId": "3716068a-55f4-4566-9f1f-e4156b139740"
      },
      "execution_count": null,
      "outputs": [
        {
          "output_type": "execute_result",
          "data": {
            "text/plain": [
              "<graphviz.files.Source at 0x7f1bf573fb80>"
            ],
            "image/svg+xml": "<?xml version=\"1.0\" encoding=\"UTF-8\" standalone=\"no\"?>\n<!DOCTYPE svg PUBLIC \"-//W3C//DTD SVG 1.1//EN\"\n \"http://www.w3.org/Graphics/SVG/1.1/DTD/svg11.dtd\">\n<!-- Generated by graphviz version 2.40.1 (20161225.0304)\n -->\n<!-- Title: Tree Pages: 1 -->\n<svg width=\"540pt\" height=\"373pt\"\n viewBox=\"0.00 0.00 540.00 373.00\" xmlns=\"http://www.w3.org/2000/svg\" xmlns:xlink=\"http://www.w3.org/1999/xlink\">\n<g id=\"graph0\" class=\"graph\" transform=\"scale(1 1) rotate(0) translate(4 369)\">\n<title>Tree</title>\n<polygon fill=\"#ffffff\" stroke=\"transparent\" points=\"-4,4 -4,-369 536,-369 536,4 -4,4\"/>\n<!-- 0 -->\n<g id=\"node1\" class=\"node\">\n<title>0</title>\n<polygon fill=\"none\" stroke=\"#000000\" points=\"329,-365 198,-365 198,-297 329,-297 329,-365\"/>\n<text text-anchor=\"middle\" x=\"263.5\" y=\"-349.8\" font-family=\"Helvetica,sans-Serif\" font-size=\"14.00\" fill=\"#000000\">X[3] &lt;= 1.65</text>\n<text text-anchor=\"middle\" x=\"263.5\" y=\"-334.8\" font-family=\"Helvetica,sans-Serif\" font-size=\"14.00\" fill=\"#000000\">gini = 0.654</text>\n<text text-anchor=\"middle\" x=\"263.5\" y=\"-319.8\" font-family=\"Helvetica,sans-Serif\" font-size=\"14.00\" fill=\"#000000\">samples = 37</text>\n<text text-anchor=\"middle\" x=\"263.5\" y=\"-304.8\" font-family=\"Helvetica,sans-Serif\" font-size=\"14.00\" fill=\"#000000\">value = [9, 14, 14]</text>\n</g>\n<!-- 1 -->\n<g id=\"node2\" class=\"node\">\n<title>1</title>\n<polygon fill=\"none\" stroke=\"#000000\" points=\"255,-261 132,-261 132,-193 255,-193 255,-261\"/>\n<text text-anchor=\"middle\" x=\"193.5\" y=\"-245.8\" font-family=\"Helvetica,sans-Serif\" font-size=\"14.00\" fill=\"#000000\">X[2] &lt;= 2.35</text>\n<text text-anchor=\"middle\" x=\"193.5\" y=\"-230.8\" font-family=\"Helvetica,sans-Serif\" font-size=\"14.00\" fill=\"#000000\">gini = 0.526</text>\n<text text-anchor=\"middle\" x=\"193.5\" y=\"-215.8\" font-family=\"Helvetica,sans-Serif\" font-size=\"14.00\" fill=\"#000000\">samples = 23</text>\n<text text-anchor=\"middle\" x=\"193.5\" y=\"-200.8\" font-family=\"Helvetica,sans-Serif\" font-size=\"14.00\" fill=\"#000000\">value = [9, 13, 1]</text>\n</g>\n<!-- 0&#45;&gt;1 -->\n<g id=\"edge1\" class=\"edge\">\n<title>0&#45;&gt;1</title>\n<path fill=\"none\" stroke=\"#000000\" d=\"M240.5794,-296.9465C234.7174,-288.2373 228.3402,-278.7626 222.227,-269.6801\"/>\n<polygon fill=\"#000000\" stroke=\"#000000\" points=\"224.9595,-267.4716 216.4721,-261.13 219.1524,-271.3802 224.9595,-267.4716\"/>\n<text text-anchor=\"middle\" x=\"211.6777\" y=\"-281.966\" font-family=\"Helvetica,sans-Serif\" font-size=\"14.00\" fill=\"#000000\">True</text>\n</g>\n<!-- 6 -->\n<g id=\"node7\" class=\"node\">\n<title>6</title>\n<polygon fill=\"none\" stroke=\"#000000\" points=\"396,-261 273,-261 273,-193 396,-193 396,-261\"/>\n<text text-anchor=\"middle\" x=\"334.5\" y=\"-245.8\" font-family=\"Helvetica,sans-Serif\" font-size=\"14.00\" fill=\"#000000\">X[2] &lt;= 4.85</text>\n<text text-anchor=\"middle\" x=\"334.5\" y=\"-230.8\" font-family=\"Helvetica,sans-Serif\" font-size=\"14.00\" fill=\"#000000\">gini = 0.133</text>\n<text text-anchor=\"middle\" x=\"334.5\" y=\"-215.8\" font-family=\"Helvetica,sans-Serif\" font-size=\"14.00\" fill=\"#000000\">samples = 14</text>\n<text text-anchor=\"middle\" x=\"334.5\" y=\"-200.8\" font-family=\"Helvetica,sans-Serif\" font-size=\"14.00\" fill=\"#000000\">value = [0, 1, 13]</text>\n</g>\n<!-- 0&#45;&gt;6 -->\n<g id=\"edge6\" class=\"edge\">\n<title>0&#45;&gt;6</title>\n<path fill=\"none\" stroke=\"#000000\" d=\"M286.7481,-296.9465C292.755,-288.1475 299.2955,-278.5672 305.5543,-269.3993\"/>\n<polygon fill=\"#000000\" stroke=\"#000000\" points=\"308.452,-271.3623 311.1997,-261.13 302.6707,-267.4155 308.452,-271.3623\"/>\n<text text-anchor=\"middle\" x=\"315.8324\" y=\"-281.997\" font-family=\"Helvetica,sans-Serif\" font-size=\"14.00\" fill=\"#000000\">False</text>\n</g>\n<!-- 2 -->\n<g id=\"node3\" class=\"node\">\n<title>2</title>\n<polygon fill=\"none\" stroke=\"#000000\" points=\"115,-149.5 0,-149.5 0,-96.5 115,-96.5 115,-149.5\"/>\n<text text-anchor=\"middle\" x=\"57.5\" y=\"-134.3\" font-family=\"Helvetica,sans-Serif\" font-size=\"14.00\" fill=\"#000000\">gini = 0.0</text>\n<text text-anchor=\"middle\" x=\"57.5\" y=\"-119.3\" font-family=\"Helvetica,sans-Serif\" font-size=\"14.00\" fill=\"#000000\">samples = 9</text>\n<text text-anchor=\"middle\" x=\"57.5\" y=\"-104.3\" font-family=\"Helvetica,sans-Serif\" font-size=\"14.00\" fill=\"#000000\">value = [9, 0, 0]</text>\n</g>\n<!-- 1&#45;&gt;2 -->\n<g id=\"edge2\" class=\"edge\">\n<title>1&#45;&gt;2</title>\n<path fill=\"none\" stroke=\"#000000\" d=\"M148.9685,-192.9465C133.4121,-181.0504 115.9879,-167.726 100.5541,-155.9237\"/>\n<polygon fill=\"#000000\" stroke=\"#000000\" points=\"102.2787,-152.8364 92.209,-149.5422 98.0265,-158.397 102.2787,-152.8364\"/>\n</g>\n<!-- 3 -->\n<g id=\"node4\" class=\"node\">\n<title>3</title>\n<polygon fill=\"none\" stroke=\"#000000\" points=\"256,-157 133,-157 133,-89 256,-89 256,-157\"/>\n<text text-anchor=\"middle\" x=\"194.5\" y=\"-141.8\" font-family=\"Helvetica,sans-Serif\" font-size=\"14.00\" fill=\"#000000\">X[1] &lt;= 2.25</text>\n<text text-anchor=\"middle\" x=\"194.5\" y=\"-126.8\" font-family=\"Helvetica,sans-Serif\" font-size=\"14.00\" fill=\"#000000\">gini = 0.133</text>\n<text text-anchor=\"middle\" x=\"194.5\" y=\"-111.8\" font-family=\"Helvetica,sans-Serif\" font-size=\"14.00\" fill=\"#000000\">samples = 14</text>\n<text text-anchor=\"middle\" x=\"194.5\" y=\"-96.8\" font-family=\"Helvetica,sans-Serif\" font-size=\"14.00\" fill=\"#000000\">value = [0, 13, 1]</text>\n</g>\n<!-- 1&#45;&gt;3 -->\n<g id=\"edge3\" class=\"edge\">\n<title>1&#45;&gt;3</title>\n<path fill=\"none\" stroke=\"#000000\" d=\"M193.8274,-192.9465C193.906,-184.776 193.991,-175.9318 194.0734,-167.3697\"/>\n<polygon fill=\"#000000\" stroke=\"#000000\" points=\"197.5754,-167.1632 194.1718,-157.13 190.5757,-167.0958 197.5754,-167.1632\"/>\n</g>\n<!-- 4 -->\n<g id=\"node5\" class=\"node\">\n<title>4</title>\n<polygon fill=\"none\" stroke=\"#000000\" points=\"116,-53 1,-53 1,0 116,0 116,-53\"/>\n<text text-anchor=\"middle\" x=\"58.5\" y=\"-37.8\" font-family=\"Helvetica,sans-Serif\" font-size=\"14.00\" fill=\"#000000\">gini = 0.0</text>\n<text text-anchor=\"middle\" x=\"58.5\" y=\"-22.8\" font-family=\"Helvetica,sans-Serif\" font-size=\"14.00\" fill=\"#000000\">samples = 1</text>\n<text text-anchor=\"middle\" x=\"58.5\" y=\"-7.8\" font-family=\"Helvetica,sans-Serif\" font-size=\"14.00\" fill=\"#000000\">value = [0, 0, 1]</text>\n</g>\n<!-- 3&#45;&gt;4 -->\n<g id=\"edge4\" class=\"edge\">\n<title>3&#45;&gt;4</title>\n<path fill=\"none\" stroke=\"#000000\" d=\"M146.5515,-88.9777C132.872,-79.2713 118.0036,-68.7213 104.4466,-59.1018\"/>\n<polygon fill=\"#000000\" stroke=\"#000000\" points=\"106.3783,-56.1809 96.1973,-53.2485 102.3275,-61.8898 106.3783,-56.1809\"/>\n</g>\n<!-- 5 -->\n<g id=\"node6\" class=\"node\">\n<title>5</title>\n<polygon fill=\"none\" stroke=\"#000000\" points=\"257,-53 134,-53 134,0 257,0 257,-53\"/>\n<text text-anchor=\"middle\" x=\"195.5\" y=\"-37.8\" font-family=\"Helvetica,sans-Serif\" font-size=\"14.00\" fill=\"#000000\">gini = 0.0</text>\n<text text-anchor=\"middle\" x=\"195.5\" y=\"-22.8\" font-family=\"Helvetica,sans-Serif\" font-size=\"14.00\" fill=\"#000000\">samples = 13</text>\n<text text-anchor=\"middle\" x=\"195.5\" y=\"-7.8\" font-family=\"Helvetica,sans-Serif\" font-size=\"14.00\" fill=\"#000000\">value = [0, 13, 0]</text>\n</g>\n<!-- 3&#45;&gt;5 -->\n<g id=\"edge5\" class=\"edge\">\n<title>3&#45;&gt;5</title>\n<path fill=\"none\" stroke=\"#000000\" d=\"M194.8526,-88.9777C194.938,-80.7364 195.0297,-71.887 195.1164,-63.5153\"/>\n<polygon fill=\"#000000\" stroke=\"#000000\" points=\"198.6189,-63.2842 195.2228,-53.2485 191.6193,-63.2116 198.6189,-63.2842\"/>\n</g>\n<!-- 7 -->\n<g id=\"node8\" class=\"node\">\n<title>7</title>\n<polygon fill=\"none\" stroke=\"#000000\" points=\"391,-157 276,-157 276,-89 391,-89 391,-157\"/>\n<text text-anchor=\"middle\" x=\"333.5\" y=\"-141.8\" font-family=\"Helvetica,sans-Serif\" font-size=\"14.00\" fill=\"#000000\">X[1] &lt;= 3.0</text>\n<text text-anchor=\"middle\" x=\"333.5\" y=\"-126.8\" font-family=\"Helvetica,sans-Serif\" font-size=\"14.00\" fill=\"#000000\">gini = 0.444</text>\n<text text-anchor=\"middle\" x=\"333.5\" y=\"-111.8\" font-family=\"Helvetica,sans-Serif\" font-size=\"14.00\" fill=\"#000000\">samples = 3</text>\n<text text-anchor=\"middle\" x=\"333.5\" y=\"-96.8\" font-family=\"Helvetica,sans-Serif\" font-size=\"14.00\" fill=\"#000000\">value = [0, 1, 2]</text>\n</g>\n<!-- 6&#45;&gt;7 -->\n<g id=\"edge7\" class=\"edge\">\n<title>6&#45;&gt;7</title>\n<path fill=\"none\" stroke=\"#000000\" d=\"M334.1726,-192.9465C334.094,-184.776 334.009,-175.9318 333.9266,-167.3697\"/>\n<polygon fill=\"#000000\" stroke=\"#000000\" points=\"337.4243,-167.0958 333.8282,-157.13 330.4246,-167.1632 337.4243,-167.0958\"/>\n</g>\n<!-- 10 -->\n<g id=\"node11\" class=\"node\">\n<title>10</title>\n<polygon fill=\"none\" stroke=\"#000000\" points=\"532,-149.5 409,-149.5 409,-96.5 532,-96.5 532,-149.5\"/>\n<text text-anchor=\"middle\" x=\"470.5\" y=\"-134.3\" font-family=\"Helvetica,sans-Serif\" font-size=\"14.00\" fill=\"#000000\">gini = 0.0</text>\n<text text-anchor=\"middle\" x=\"470.5\" y=\"-119.3\" font-family=\"Helvetica,sans-Serif\" font-size=\"14.00\" fill=\"#000000\">samples = 11</text>\n<text text-anchor=\"middle\" x=\"470.5\" y=\"-104.3\" font-family=\"Helvetica,sans-Serif\" font-size=\"14.00\" fill=\"#000000\">value = [0, 0, 11]</text>\n</g>\n<!-- 6&#45;&gt;10 -->\n<g id=\"edge10\" class=\"edge\">\n<title>6&#45;&gt;10</title>\n<path fill=\"none\" stroke=\"#000000\" d=\"M379.0315,-192.9465C394.5879,-181.0504 412.0121,-167.726 427.4459,-155.9237\"/>\n<polygon fill=\"#000000\" stroke=\"#000000\" points=\"429.9735,-158.397 435.791,-149.5422 425.7213,-152.8364 429.9735,-158.397\"/>\n</g>\n<!-- 8 -->\n<g id=\"node9\" class=\"node\">\n<title>8</title>\n<polygon fill=\"none\" stroke=\"#000000\" points=\"390,-53 275,-53 275,0 390,0 390,-53\"/>\n<text text-anchor=\"middle\" x=\"332.5\" y=\"-37.8\" font-family=\"Helvetica,sans-Serif\" font-size=\"14.00\" fill=\"#000000\">gini = 0.0</text>\n<text text-anchor=\"middle\" x=\"332.5\" y=\"-22.8\" font-family=\"Helvetica,sans-Serif\" font-size=\"14.00\" fill=\"#000000\">samples = 2</text>\n<text text-anchor=\"middle\" x=\"332.5\" y=\"-7.8\" font-family=\"Helvetica,sans-Serif\" font-size=\"14.00\" fill=\"#000000\">value = [0, 0, 2]</text>\n</g>\n<!-- 7&#45;&gt;8 -->\n<g id=\"edge8\" class=\"edge\">\n<title>7&#45;&gt;8</title>\n<path fill=\"none\" stroke=\"#000000\" d=\"M333.1474,-88.9777C333.062,-80.7364 332.9703,-71.887 332.8836,-63.5153\"/>\n<polygon fill=\"#000000\" stroke=\"#000000\" points=\"336.3807,-63.2116 332.7772,-53.2485 329.3811,-63.2842 336.3807,-63.2116\"/>\n</g>\n<!-- 9 -->\n<g id=\"node10\" class=\"node\">\n<title>9</title>\n<polygon fill=\"none\" stroke=\"#000000\" points=\"523,-53 408,-53 408,0 523,0 523,-53\"/>\n<text text-anchor=\"middle\" x=\"465.5\" y=\"-37.8\" font-family=\"Helvetica,sans-Serif\" font-size=\"14.00\" fill=\"#000000\">gini = 0.0</text>\n<text text-anchor=\"middle\" x=\"465.5\" y=\"-22.8\" font-family=\"Helvetica,sans-Serif\" font-size=\"14.00\" fill=\"#000000\">samples = 1</text>\n<text text-anchor=\"middle\" x=\"465.5\" y=\"-7.8\" font-family=\"Helvetica,sans-Serif\" font-size=\"14.00\" fill=\"#000000\">value = [0, 1, 0]</text>\n</g>\n<!-- 7&#45;&gt;9 -->\n<g id=\"edge9\" class=\"edge\">\n<title>7&#45;&gt;9</title>\n<path fill=\"none\" stroke=\"#000000\" d=\"M380.0383,-88.9777C393.1901,-79.3629 407.4743,-68.9203 420.532,-59.3743\"/>\n<polygon fill=\"#000000\" stroke=\"#000000\" points=\"422.9042,-61.9757 428.9114,-53.2485 418.773,-56.3247 422.9042,-61.9757\"/>\n</g>\n</g>\n</svg>\n"
          },
          "metadata": {},
          "execution_count": 40
        }
      ]
    },
    {
      "cell_type": "code",
      "source": [
        "# Predição com apenas 50% dos dados como treino para os 50% do conjunto TESTE.\n",
        "\n",
        "# answer é temporario - pode ser reutilizada\n",
        "answer = classifier_t.predict(x_test)\n",
        "\n",
        "print('A arvore rotulou/predisse o seguinte: ')\n",
        "print(answer)"
      ],
      "metadata": {
        "colab": {
          "base_uri": "https://localhost:8080/"
        },
        "id": "bbR11U-gHxD6",
        "outputId": "5ab1a0aa-92f7-44d8-887c-59f3a95a7944"
      },
      "execution_count": null,
      "outputs": [
        {
          "output_type": "stream",
          "name": "stdout",
          "text": [
            "A arvore rotulou/predisse o seguinte: \n",
            "[1 0 2 1 1 0 1 2 2 1 2 0 0 0 0 1 2 1 1 2 0 2 0 2 2 2 2 2 0 0 0 0 1 0 0 2 1\n",
            " 0 0 0 2 1 1 0 0 1 1 2 1 2 1 2 1 0 2 1 0 0 0 2 2 0 0 0 1 0 1 2 0 1 2 0 2 2\n",
            " 2]\n"
          ]
        }
      ]
    },
    {
      "cell_type": "code",
      "source": [
        "# Resultado da acurácia do método com 50% de base de treino:\n",
        "\n",
        "accuracy_50 = accuracy_score(answer, y_test)\n",
        "accuracy_50 *= 100\n",
        "print(accuracy_50)\n",
        "accuracy_list.append(accuracy_50)"
      ],
      "metadata": {
        "colab": {
          "base_uri": "https://localhost:8080/"
        },
        "id": "xqc9VjnnIrQi",
        "outputId": "6b32113c-d97c-466d-f255-26d3f7e67b43"
      },
      "execution_count": null,
      "outputs": [
        {
          "output_type": "stream",
          "name": "stdout",
          "text": [
            "94.66666666666667\n"
          ]
        }
      ]
    },
    {
      "cell_type": "markdown",
      "source": [
        "Com a base de treino de 50% usando apenas os 50% dela temos uma acurácia de aproximadamente 93,33%, semelhante a etapa 4"
      ],
      "metadata": {
        "id": "Ip_-vBbHI7pN"
      }
    },
    {
      "cell_type": "markdown",
      "source": [
        "**Etapa 6 - utilizando agora 60% da base de Treino**"
      ],
      "metadata": {
        "id": "hyB1wrXwJBcC"
      }
    },
    {
      "cell_type": "code",
      "source": [
        "# Fazer o split de 60% no conjunto TREINO (50% do total)\n",
        "\n",
        "x_train60, x_test60, y_train60, y_test60 = train_test_split(x_train, y_train,\n",
        "                                                            train_size= 0.6,\n",
        "                                                            random_state=42)"
      ],
      "metadata": {
        "id": "C_o1BPIAJIcV"
      },
      "execution_count": null,
      "outputs": []
    },
    {
      "cell_type": "code",
      "source": [
        "# Gerar minha árvore de treino com os 60%\n",
        "\n",
        "classifier_t = classifier_t.fit(x_train60, y_train60)"
      ],
      "metadata": {
        "id": "BiYR3eQxJWIi"
      },
      "execution_count": null,
      "outputs": []
    },
    {
      "cell_type": "code",
      "source": [
        "# Plotar minha árvore de decisão com os dados de 60% TREINO\n",
        "\n",
        "graph_DT60 = tree.export_graphviz(classifier_t, out_file=None) \n",
        "graph = graphviz.Source(graph_DT60) \n",
        "graph.render(\"iris\") \n",
        "graph"
      ],
      "metadata": {
        "colab": {
          "base_uri": "https://localhost:8080/",
          "height": 657
        },
        "id": "4YYdV_TGJaw2",
        "outputId": "bf8472c0-a289-4e6e-8d68-adea83d12d65"
      },
      "execution_count": null,
      "outputs": [
        {
          "output_type": "execute_result",
          "data": {
            "text/plain": [
              "<graphviz.files.Source at 0x7f1bf574cd60>"
            ],
            "image/svg+xml": "<?xml version=\"1.0\" encoding=\"UTF-8\" standalone=\"no\"?>\n<!DOCTYPE svg PUBLIC \"-//W3C//DTD SVG 1.1//EN\"\n \"http://www.w3.org/Graphics/SVG/1.1/DTD/svg11.dtd\">\n<!-- Generated by graphviz version 2.40.1 (20161225.0304)\n -->\n<!-- Title: Tree Pages: 1 -->\n<svg width=\"540pt\" height=\"477pt\"\n viewBox=\"0.00 0.00 540.00 477.00\" xmlns=\"http://www.w3.org/2000/svg\" xmlns:xlink=\"http://www.w3.org/1999/xlink\">\n<g id=\"graph0\" class=\"graph\" transform=\"scale(1 1) rotate(0) translate(4 473)\">\n<title>Tree</title>\n<polygon fill=\"#ffffff\" stroke=\"transparent\" points=\"-4,4 -4,-473 536,-473 536,4 -4,4\"/>\n<!-- 0 -->\n<g id=\"node1\" class=\"node\">\n<title>0</title>\n<polygon fill=\"none\" stroke=\"#000000\" points=\"261.5,-469 121.5,-469 121.5,-401 261.5,-401 261.5,-469\"/>\n<text text-anchor=\"middle\" x=\"191.5\" y=\"-453.8\" font-family=\"Helvetica,sans-Serif\" font-size=\"14.00\" fill=\"#000000\">X[3] &lt;= 0.8</text>\n<text text-anchor=\"middle\" x=\"191.5\" y=\"-438.8\" font-family=\"Helvetica,sans-Serif\" font-size=\"14.00\" fill=\"#000000\">gini = 0.66</text>\n<text text-anchor=\"middle\" x=\"191.5\" y=\"-423.8\" font-family=\"Helvetica,sans-Serif\" font-size=\"14.00\" fill=\"#000000\">samples = 45</text>\n<text text-anchor=\"middle\" x=\"191.5\" y=\"-408.8\" font-family=\"Helvetica,sans-Serif\" font-size=\"14.00\" fill=\"#000000\">value = [12, 16, 17]</text>\n</g>\n<!-- 1 -->\n<g id=\"node2\" class=\"node\">\n<title>1</title>\n<polygon fill=\"none\" stroke=\"#000000\" points=\"181,-357.5 58,-357.5 58,-304.5 181,-304.5 181,-357.5\"/>\n<text text-anchor=\"middle\" x=\"119.5\" y=\"-342.3\" font-family=\"Helvetica,sans-Serif\" font-size=\"14.00\" fill=\"#000000\">gini = 0.0</text>\n<text text-anchor=\"middle\" x=\"119.5\" y=\"-327.3\" font-family=\"Helvetica,sans-Serif\" font-size=\"14.00\" fill=\"#000000\">samples = 12</text>\n<text text-anchor=\"middle\" x=\"119.5\" y=\"-312.3\" font-family=\"Helvetica,sans-Serif\" font-size=\"14.00\" fill=\"#000000\">value = [12, 0, 0]</text>\n</g>\n<!-- 0&#45;&gt;1 -->\n<g id=\"edge1\" class=\"edge\">\n<title>0&#45;&gt;1</title>\n<path fill=\"none\" stroke=\"#000000\" d=\"M167.9245,-400.9465C160.1463,-389.7113 151.4861,-377.2021 143.6645,-365.9043\"/>\n<polygon fill=\"#000000\" stroke=\"#000000\" points=\"146.4452,-363.7719 137.8753,-357.5422 140.6898,-367.7564 146.4452,-363.7719\"/>\n<text text-anchor=\"middle\" x=\"133.4032\" y=\"-378.4389\" font-family=\"Helvetica,sans-Serif\" font-size=\"14.00\" fill=\"#000000\">True</text>\n</g>\n<!-- 2 -->\n<g id=\"node3\" class=\"node\">\n<title>2</title>\n<polygon fill=\"none\" stroke=\"#000000\" points=\"330,-365 199,-365 199,-297 330,-297 330,-365\"/>\n<text text-anchor=\"middle\" x=\"264.5\" y=\"-349.8\" font-family=\"Helvetica,sans-Serif\" font-size=\"14.00\" fill=\"#000000\">X[3] &lt;= 1.65</text>\n<text text-anchor=\"middle\" x=\"264.5\" y=\"-334.8\" font-family=\"Helvetica,sans-Serif\" font-size=\"14.00\" fill=\"#000000\">gini = 0.5</text>\n<text text-anchor=\"middle\" x=\"264.5\" y=\"-319.8\" font-family=\"Helvetica,sans-Serif\" font-size=\"14.00\" fill=\"#000000\">samples = 33</text>\n<text text-anchor=\"middle\" x=\"264.5\" y=\"-304.8\" font-family=\"Helvetica,sans-Serif\" font-size=\"14.00\" fill=\"#000000\">value = [0, 16, 17]</text>\n</g>\n<!-- 0&#45;&gt;2 -->\n<g id=\"edge2\" class=\"edge\">\n<title>0&#45;&gt;2</title>\n<path fill=\"none\" stroke=\"#000000\" d=\"M215.4029,-400.9465C221.5791,-392.1475 228.3038,-382.5672 234.739,-373.3993\"/>\n<polygon fill=\"#000000\" stroke=\"#000000\" points=\"237.6629,-375.3258 240.5434,-365.13 231.9334,-371.3041 237.6629,-375.3258\"/>\n<text text-anchor=\"middle\" x=\"244.8563\" y=\"-386.0552\" font-family=\"Helvetica,sans-Serif\" font-size=\"14.00\" fill=\"#000000\">False</text>\n</g>\n<!-- 3 -->\n<g id=\"node4\" class=\"node\">\n<title>3</title>\n<polygon fill=\"none\" stroke=\"#000000\" points=\"255,-261 132,-261 132,-193 255,-193 255,-261\"/>\n<text text-anchor=\"middle\" x=\"193.5\" y=\"-245.8\" font-family=\"Helvetica,sans-Serif\" font-size=\"14.00\" fill=\"#000000\">X[1] &lt;= 2.25</text>\n<text text-anchor=\"middle\" x=\"193.5\" y=\"-230.8\" font-family=\"Helvetica,sans-Serif\" font-size=\"14.00\" fill=\"#000000\">gini = 0.117</text>\n<text text-anchor=\"middle\" x=\"193.5\" y=\"-215.8\" font-family=\"Helvetica,sans-Serif\" font-size=\"14.00\" fill=\"#000000\">samples = 16</text>\n<text text-anchor=\"middle\" x=\"193.5\" y=\"-200.8\" font-family=\"Helvetica,sans-Serif\" font-size=\"14.00\" fill=\"#000000\">value = [0, 15, 1]</text>\n</g>\n<!-- 2&#45;&gt;3 -->\n<g id=\"edge3\" class=\"edge\">\n<title>2&#45;&gt;3</title>\n<path fill=\"none\" stroke=\"#000000\" d=\"M241.2519,-296.9465C235.245,-288.1475 228.7045,-278.5672 222.4457,-269.3993\"/>\n<polygon fill=\"#000000\" stroke=\"#000000\" points=\"225.3293,-267.4155 216.8003,-261.13 219.548,-271.3623 225.3293,-267.4155\"/>\n</g>\n<!-- 6 -->\n<g id=\"node7\" class=\"node\">\n<title>6</title>\n<polygon fill=\"none\" stroke=\"#000000\" points=\"396,-261 273,-261 273,-193 396,-193 396,-261\"/>\n<text text-anchor=\"middle\" x=\"334.5\" y=\"-245.8\" font-family=\"Helvetica,sans-Serif\" font-size=\"14.00\" fill=\"#000000\">X[2] &lt;= 4.85</text>\n<text text-anchor=\"middle\" x=\"334.5\" y=\"-230.8\" font-family=\"Helvetica,sans-Serif\" font-size=\"14.00\" fill=\"#000000\">gini = 0.111</text>\n<text text-anchor=\"middle\" x=\"334.5\" y=\"-215.8\" font-family=\"Helvetica,sans-Serif\" font-size=\"14.00\" fill=\"#000000\">samples = 17</text>\n<text text-anchor=\"middle\" x=\"334.5\" y=\"-200.8\" font-family=\"Helvetica,sans-Serif\" font-size=\"14.00\" fill=\"#000000\">value = [0, 1, 16]</text>\n</g>\n<!-- 2&#45;&gt;6 -->\n<g id=\"edge6\" class=\"edge\">\n<title>2&#45;&gt;6</title>\n<path fill=\"none\" stroke=\"#000000\" d=\"M287.4206,-296.9465C293.2826,-288.2373 299.6598,-278.7626 305.773,-269.6801\"/>\n<polygon fill=\"#000000\" stroke=\"#000000\" points=\"308.8476,-271.3802 311.5279,-261.13 303.0405,-267.4716 308.8476,-271.3802\"/>\n</g>\n<!-- 4 -->\n<g id=\"node5\" class=\"node\">\n<title>4</title>\n<polygon fill=\"none\" stroke=\"#000000\" points=\"115,-149.5 0,-149.5 0,-96.5 115,-96.5 115,-149.5\"/>\n<text text-anchor=\"middle\" x=\"57.5\" y=\"-134.3\" font-family=\"Helvetica,sans-Serif\" font-size=\"14.00\" fill=\"#000000\">gini = 0.0</text>\n<text text-anchor=\"middle\" x=\"57.5\" y=\"-119.3\" font-family=\"Helvetica,sans-Serif\" font-size=\"14.00\" fill=\"#000000\">samples = 1</text>\n<text text-anchor=\"middle\" x=\"57.5\" y=\"-104.3\" font-family=\"Helvetica,sans-Serif\" font-size=\"14.00\" fill=\"#000000\">value = [0, 0, 1]</text>\n</g>\n<!-- 3&#45;&gt;4 -->\n<g id=\"edge4\" class=\"edge\">\n<title>3&#45;&gt;4</title>\n<path fill=\"none\" stroke=\"#000000\" d=\"M148.9685,-192.9465C133.4121,-181.0504 115.9879,-167.726 100.5541,-155.9237\"/>\n<polygon fill=\"#000000\" stroke=\"#000000\" points=\"102.2787,-152.8364 92.209,-149.5422 98.0265,-158.397 102.2787,-152.8364\"/>\n</g>\n<!-- 5 -->\n<g id=\"node6\" class=\"node\">\n<title>5</title>\n<polygon fill=\"none\" stroke=\"#000000\" points=\"256,-149.5 133,-149.5 133,-96.5 256,-96.5 256,-149.5\"/>\n<text text-anchor=\"middle\" x=\"194.5\" y=\"-134.3\" font-family=\"Helvetica,sans-Serif\" font-size=\"14.00\" fill=\"#000000\">gini = 0.0</text>\n<text text-anchor=\"middle\" x=\"194.5\" y=\"-119.3\" font-family=\"Helvetica,sans-Serif\" font-size=\"14.00\" fill=\"#000000\">samples = 15</text>\n<text text-anchor=\"middle\" x=\"194.5\" y=\"-104.3\" font-family=\"Helvetica,sans-Serif\" font-size=\"14.00\" fill=\"#000000\">value = [0, 15, 0]</text>\n</g>\n<!-- 3&#45;&gt;5 -->\n<g id=\"edge5\" class=\"edge\">\n<title>3&#45;&gt;5</title>\n<path fill=\"none\" stroke=\"#000000\" d=\"M193.8274,-192.9465C193.9302,-182.2621 194.044,-170.4254 194.1483,-159.5742\"/>\n<polygon fill=\"#000000\" stroke=\"#000000\" points=\"197.6484,-159.5754 194.2448,-149.5422 190.6487,-159.508 197.6484,-159.5754\"/>\n</g>\n<!-- 7 -->\n<g id=\"node8\" class=\"node\">\n<title>7</title>\n<polygon fill=\"none\" stroke=\"#000000\" points=\"391,-157 276,-157 276,-89 391,-89 391,-157\"/>\n<text text-anchor=\"middle\" x=\"333.5\" y=\"-141.8\" font-family=\"Helvetica,sans-Serif\" font-size=\"14.00\" fill=\"#000000\">X[1] &lt;= 3.0</text>\n<text text-anchor=\"middle\" x=\"333.5\" y=\"-126.8\" font-family=\"Helvetica,sans-Serif\" font-size=\"14.00\" fill=\"#000000\">gini = 0.444</text>\n<text text-anchor=\"middle\" x=\"333.5\" y=\"-111.8\" font-family=\"Helvetica,sans-Serif\" font-size=\"14.00\" fill=\"#000000\">samples = 3</text>\n<text text-anchor=\"middle\" x=\"333.5\" y=\"-96.8\" font-family=\"Helvetica,sans-Serif\" font-size=\"14.00\" fill=\"#000000\">value = [0, 1, 2]</text>\n</g>\n<!-- 6&#45;&gt;7 -->\n<g id=\"edge7\" class=\"edge\">\n<title>6&#45;&gt;7</title>\n<path fill=\"none\" stroke=\"#000000\" d=\"M334.1726,-192.9465C334.094,-184.776 334.009,-175.9318 333.9266,-167.3697\"/>\n<polygon fill=\"#000000\" stroke=\"#000000\" points=\"337.4243,-167.0958 333.8282,-157.13 330.4246,-167.1632 337.4243,-167.0958\"/>\n</g>\n<!-- 10 -->\n<g id=\"node11\" class=\"node\">\n<title>10</title>\n<polygon fill=\"none\" stroke=\"#000000\" points=\"532,-149.5 409,-149.5 409,-96.5 532,-96.5 532,-149.5\"/>\n<text text-anchor=\"middle\" x=\"470.5\" y=\"-134.3\" font-family=\"Helvetica,sans-Serif\" font-size=\"14.00\" fill=\"#000000\">gini = 0.0</text>\n<text text-anchor=\"middle\" x=\"470.5\" y=\"-119.3\" font-family=\"Helvetica,sans-Serif\" font-size=\"14.00\" fill=\"#000000\">samples = 14</text>\n<text text-anchor=\"middle\" x=\"470.5\" y=\"-104.3\" font-family=\"Helvetica,sans-Serif\" font-size=\"14.00\" fill=\"#000000\">value = [0, 0, 14]</text>\n</g>\n<!-- 6&#45;&gt;10 -->\n<g id=\"edge10\" class=\"edge\">\n<title>6&#45;&gt;10</title>\n<path fill=\"none\" stroke=\"#000000\" d=\"M379.0315,-192.9465C394.5879,-181.0504 412.0121,-167.726 427.4459,-155.9237\"/>\n<polygon fill=\"#000000\" stroke=\"#000000\" points=\"429.9735,-158.397 435.791,-149.5422 425.7213,-152.8364 429.9735,-158.397\"/>\n</g>\n<!-- 8 -->\n<g id=\"node9\" class=\"node\">\n<title>8</title>\n<polygon fill=\"none\" stroke=\"#000000\" points=\"324,-53 209,-53 209,0 324,0 324,-53\"/>\n<text text-anchor=\"middle\" x=\"266.5\" y=\"-37.8\" font-family=\"Helvetica,sans-Serif\" font-size=\"14.00\" fill=\"#000000\">gini = 0.0</text>\n<text text-anchor=\"middle\" x=\"266.5\" y=\"-22.8\" font-family=\"Helvetica,sans-Serif\" font-size=\"14.00\" fill=\"#000000\">samples = 2</text>\n<text text-anchor=\"middle\" x=\"266.5\" y=\"-7.8\" font-family=\"Helvetica,sans-Serif\" font-size=\"14.00\" fill=\"#000000\">value = [0, 0, 2]</text>\n</g>\n<!-- 7&#45;&gt;8 -->\n<g id=\"edge8\" class=\"edge\">\n<title>7&#45;&gt;8</title>\n<path fill=\"none\" stroke=\"#000000\" d=\"M309.8783,-88.9777C303.7113,-80.0954 297.0539,-70.5067 290.8499,-61.5711\"/>\n<polygon fill=\"#000000\" stroke=\"#000000\" points=\"293.6497,-59.4666 285.0715,-53.2485 287.8997,-63.4589 293.6497,-59.4666\"/>\n</g>\n<!-- 9 -->\n<g id=\"node10\" class=\"node\">\n<title>9</title>\n<polygon fill=\"none\" stroke=\"#000000\" points=\"457,-53 342,-53 342,0 457,0 457,-53\"/>\n<text text-anchor=\"middle\" x=\"399.5\" y=\"-37.8\" font-family=\"Helvetica,sans-Serif\" font-size=\"14.00\" fill=\"#000000\">gini = 0.0</text>\n<text text-anchor=\"middle\" x=\"399.5\" y=\"-22.8\" font-family=\"Helvetica,sans-Serif\" font-size=\"14.00\" fill=\"#000000\">samples = 1</text>\n<text text-anchor=\"middle\" x=\"399.5\" y=\"-7.8\" font-family=\"Helvetica,sans-Serif\" font-size=\"14.00\" fill=\"#000000\">value = [0, 1, 0]</text>\n</g>\n<!-- 7&#45;&gt;9 -->\n<g id=\"edge9\" class=\"edge\">\n<title>7&#45;&gt;9</title>\n<path fill=\"none\" stroke=\"#000000\" d=\"M356.7691,-88.9777C362.844,-80.0954 369.4021,-70.5067 375.5135,-61.5711\"/>\n<polygon fill=\"#000000\" stroke=\"#000000\" points=\"378.4493,-63.4785 381.2057,-53.2485 372.6714,-59.5267 378.4493,-63.4785\"/>\n</g>\n</g>\n</svg>\n"
          },
          "metadata": {},
          "execution_count": 45
        }
      ]
    },
    {
      "cell_type": "code",
      "source": [
        "# Predição com apenas 60% dos dados como treino para os 50% do conjunto TESTE.\n",
        "\n",
        "# answer é temporario - pode ser reutilizada\n",
        "answer = classifier_t.predict(x_test)\n",
        "\n",
        "print('A arvore rotulou/predisse o seguinte: ')\n",
        "print(answer)"
      ],
      "metadata": {
        "colab": {
          "base_uri": "https://localhost:8080/"
        },
        "id": "ldmO7RLdJ2bv",
        "outputId": "10709779-510a-455e-dcca-9ba59c04b579"
      },
      "execution_count": null,
      "outputs": [
        {
          "output_type": "stream",
          "name": "stdout",
          "text": [
            "A arvore rotulou/predisse o seguinte: \n",
            "[1 0 2 1 1 0 1 2 2 1 2 0 0 0 0 1 2 1 1 2 0 2 0 2 2 2 2 2 0 0 0 0 1 0 0 2 1\n",
            " 0 0 0 2 1 1 0 0 1 1 2 1 2 1 2 1 0 2 1 0 0 0 2 2 0 0 0 1 0 1 2 0 1 2 0 2 2\n",
            " 2]\n"
          ]
        }
      ]
    },
    {
      "cell_type": "code",
      "source": [
        "# Resultado da acurácia do método com 60% de base de treino:\n",
        "\n",
        "accuracy_60 = accuracy_score(answer, y_test)\n",
        "accuracy_60 *= 100\n",
        "print(accuracy_60)\n",
        "accuracy_list.append(accuracy_60)"
      ],
      "metadata": {
        "colab": {
          "base_uri": "https://localhost:8080/"
        },
        "id": "C5fBCFNbJ-Et",
        "outputId": "7fcdb543-31e6-4868-f28b-2fb7391522db"
      },
      "execution_count": null,
      "outputs": [
        {
          "output_type": "stream",
          "name": "stdout",
          "text": [
            "94.66666666666667\n"
          ]
        }
      ]
    },
    {
      "cell_type": "markdown",
      "source": [
        "Com a base de treino de 50% usando apenas os 60% dela temos uma acurácia de aproximadamente 94,67%"
      ],
      "metadata": {
        "id": "Fj3butZSKib_"
      }
    },
    {
      "cell_type": "markdown",
      "source": [
        "**Etapa 7 - utilizando agora 70% da base de Treino**"
      ],
      "metadata": {
        "id": "6k-pI2gyKujT"
      }
    },
    {
      "cell_type": "code",
      "source": [
        "# Fazer o split de 70% no conjunto TREINO (50% do total)\n",
        "\n",
        "x_train70, x_test70, y_train70, y_test70 = train_test_split(x_train, y_train,\n",
        "                                                            train_size= 0.7,\n",
        "                                                            random_state=42)"
      ],
      "metadata": {
        "id": "pB-jY-JBKyWr"
      },
      "execution_count": null,
      "outputs": []
    },
    {
      "cell_type": "code",
      "source": [
        "# Gerar minha árvore de treino com os 70%\n",
        "\n",
        "classifier_t = classifier_t.fit(x_train70, y_train70)"
      ],
      "metadata": {
        "id": "WueWU21TK71z"
      },
      "execution_count": null,
      "outputs": []
    },
    {
      "cell_type": "code",
      "source": [
        "# Plotar minha árvore de decisão com os dados de 70% TREINO\n",
        "\n",
        "graph_DT70 = tree.export_graphviz(classifier_t, out_file=None) \n",
        "graph = graphviz.Source(graph_DT70) \n",
        "graph.render(\"iris\") \n",
        "graph"
      ],
      "metadata": {
        "colab": {
          "base_uri": "https://localhost:8080/",
          "height": 657
        },
        "id": "OsxiW6hVLHzn",
        "outputId": "952960ce-af2b-4fda-832f-b9524e6c6c12"
      },
      "execution_count": null,
      "outputs": [
        {
          "output_type": "execute_result",
          "data": {
            "text/plain": [
              "<graphviz.files.Source at 0x7f1bf574c160>"
            ],
            "image/svg+xml": "<?xml version=\"1.0\" encoding=\"UTF-8\" standalone=\"no\"?>\n<!DOCTYPE svg PUBLIC \"-//W3C//DTD SVG 1.1//EN\"\n \"http://www.w3.org/Graphics/SVG/1.1/DTD/svg11.dtd\">\n<!-- Generated by graphviz version 2.40.1 (20161225.0304)\n -->\n<!-- Title: Tree Pages: 1 -->\n<svg width=\"540pt\" height=\"477pt\"\n viewBox=\"0.00 0.00 540.00 477.00\" xmlns=\"http://www.w3.org/2000/svg\" xmlns:xlink=\"http://www.w3.org/1999/xlink\">\n<g id=\"graph0\" class=\"graph\" transform=\"scale(1 1) rotate(0) translate(4 473)\">\n<title>Tree</title>\n<polygon fill=\"#ffffff\" stroke=\"transparent\" points=\"-4,4 -4,-473 536,-473 536,4 -4,4\"/>\n<!-- 0 -->\n<g id=\"node1\" class=\"node\">\n<title>0</title>\n<polygon fill=\"none\" stroke=\"#000000\" points=\"261.5,-469 121.5,-469 121.5,-401 261.5,-401 261.5,-469\"/>\n<text text-anchor=\"middle\" x=\"191.5\" y=\"-453.8\" font-family=\"Helvetica,sans-Serif\" font-size=\"14.00\" fill=\"#000000\">X[3] &lt;= 0.8</text>\n<text text-anchor=\"middle\" x=\"191.5\" y=\"-438.8\" font-family=\"Helvetica,sans-Serif\" font-size=\"14.00\" fill=\"#000000\">gini = 0.661</text>\n<text text-anchor=\"middle\" x=\"191.5\" y=\"-423.8\" font-family=\"Helvetica,sans-Serif\" font-size=\"14.00\" fill=\"#000000\">samples = 52</text>\n<text text-anchor=\"middle\" x=\"191.5\" y=\"-408.8\" font-family=\"Helvetica,sans-Serif\" font-size=\"14.00\" fill=\"#000000\">value = [14, 19, 19]</text>\n</g>\n<!-- 1 -->\n<g id=\"node2\" class=\"node\">\n<title>1</title>\n<polygon fill=\"none\" stroke=\"#000000\" points=\"181,-357.5 58,-357.5 58,-304.5 181,-304.5 181,-357.5\"/>\n<text text-anchor=\"middle\" x=\"119.5\" y=\"-342.3\" font-family=\"Helvetica,sans-Serif\" font-size=\"14.00\" fill=\"#000000\">gini = 0.0</text>\n<text text-anchor=\"middle\" x=\"119.5\" y=\"-327.3\" font-family=\"Helvetica,sans-Serif\" font-size=\"14.00\" fill=\"#000000\">samples = 14</text>\n<text text-anchor=\"middle\" x=\"119.5\" y=\"-312.3\" font-family=\"Helvetica,sans-Serif\" font-size=\"14.00\" fill=\"#000000\">value = [14, 0, 0]</text>\n</g>\n<!-- 0&#45;&gt;1 -->\n<g id=\"edge1\" class=\"edge\">\n<title>0&#45;&gt;1</title>\n<path fill=\"none\" stroke=\"#000000\" d=\"M167.9245,-400.9465C160.1463,-389.7113 151.4861,-377.2021 143.6645,-365.9043\"/>\n<polygon fill=\"#000000\" stroke=\"#000000\" points=\"146.4452,-363.7719 137.8753,-357.5422 140.6898,-367.7564 146.4452,-363.7719\"/>\n<text text-anchor=\"middle\" x=\"133.4032\" y=\"-378.4389\" font-family=\"Helvetica,sans-Serif\" font-size=\"14.00\" fill=\"#000000\">True</text>\n</g>\n<!-- 2 -->\n<g id=\"node3\" class=\"node\">\n<title>2</title>\n<polygon fill=\"none\" stroke=\"#000000\" points=\"330,-365 199,-365 199,-297 330,-297 330,-365\"/>\n<text text-anchor=\"middle\" x=\"264.5\" y=\"-349.8\" font-family=\"Helvetica,sans-Serif\" font-size=\"14.00\" fill=\"#000000\">X[3] &lt;= 1.65</text>\n<text text-anchor=\"middle\" x=\"264.5\" y=\"-334.8\" font-family=\"Helvetica,sans-Serif\" font-size=\"14.00\" fill=\"#000000\">gini = 0.5</text>\n<text text-anchor=\"middle\" x=\"264.5\" y=\"-319.8\" font-family=\"Helvetica,sans-Serif\" font-size=\"14.00\" fill=\"#000000\">samples = 38</text>\n<text text-anchor=\"middle\" x=\"264.5\" y=\"-304.8\" font-family=\"Helvetica,sans-Serif\" font-size=\"14.00\" fill=\"#000000\">value = [0, 19, 19]</text>\n</g>\n<!-- 0&#45;&gt;2 -->\n<g id=\"edge2\" class=\"edge\">\n<title>0&#45;&gt;2</title>\n<path fill=\"none\" stroke=\"#000000\" d=\"M215.4029,-400.9465C221.5791,-392.1475 228.3038,-382.5672 234.739,-373.3993\"/>\n<polygon fill=\"#000000\" stroke=\"#000000\" points=\"237.6629,-375.3258 240.5434,-365.13 231.9334,-371.3041 237.6629,-375.3258\"/>\n<text text-anchor=\"middle\" x=\"244.8563\" y=\"-386.0552\" font-family=\"Helvetica,sans-Serif\" font-size=\"14.00\" fill=\"#000000\">False</text>\n</g>\n<!-- 3 -->\n<g id=\"node4\" class=\"node\">\n<title>3</title>\n<polygon fill=\"none\" stroke=\"#000000\" points=\"255,-261 132,-261 132,-193 255,-193 255,-261\"/>\n<text text-anchor=\"middle\" x=\"193.5\" y=\"-245.8\" font-family=\"Helvetica,sans-Serif\" font-size=\"14.00\" fill=\"#000000\">X[1] &lt;= 2.25</text>\n<text text-anchor=\"middle\" x=\"193.5\" y=\"-230.8\" font-family=\"Helvetica,sans-Serif\" font-size=\"14.00\" fill=\"#000000\">gini = 0.1</text>\n<text text-anchor=\"middle\" x=\"193.5\" y=\"-215.8\" font-family=\"Helvetica,sans-Serif\" font-size=\"14.00\" fill=\"#000000\">samples = 19</text>\n<text text-anchor=\"middle\" x=\"193.5\" y=\"-200.8\" font-family=\"Helvetica,sans-Serif\" font-size=\"14.00\" fill=\"#000000\">value = [0, 18, 1]</text>\n</g>\n<!-- 2&#45;&gt;3 -->\n<g id=\"edge3\" class=\"edge\">\n<title>2&#45;&gt;3</title>\n<path fill=\"none\" stroke=\"#000000\" d=\"M241.2519,-296.9465C235.245,-288.1475 228.7045,-278.5672 222.4457,-269.3993\"/>\n<polygon fill=\"#000000\" stroke=\"#000000\" points=\"225.3293,-267.4155 216.8003,-261.13 219.548,-271.3623 225.3293,-267.4155\"/>\n</g>\n<!-- 6 -->\n<g id=\"node7\" class=\"node\">\n<title>6</title>\n<polygon fill=\"none\" stroke=\"#000000\" points=\"396,-261 273,-261 273,-193 396,-193 396,-261\"/>\n<text text-anchor=\"middle\" x=\"334.5\" y=\"-245.8\" font-family=\"Helvetica,sans-Serif\" font-size=\"14.00\" fill=\"#000000\">X[2] &lt;= 4.85</text>\n<text text-anchor=\"middle\" x=\"334.5\" y=\"-230.8\" font-family=\"Helvetica,sans-Serif\" font-size=\"14.00\" fill=\"#000000\">gini = 0.1</text>\n<text text-anchor=\"middle\" x=\"334.5\" y=\"-215.8\" font-family=\"Helvetica,sans-Serif\" font-size=\"14.00\" fill=\"#000000\">samples = 19</text>\n<text text-anchor=\"middle\" x=\"334.5\" y=\"-200.8\" font-family=\"Helvetica,sans-Serif\" font-size=\"14.00\" fill=\"#000000\">value = [0, 1, 18]</text>\n</g>\n<!-- 2&#45;&gt;6 -->\n<g id=\"edge6\" class=\"edge\">\n<title>2&#45;&gt;6</title>\n<path fill=\"none\" stroke=\"#000000\" d=\"M287.4206,-296.9465C293.2826,-288.2373 299.6598,-278.7626 305.773,-269.6801\"/>\n<polygon fill=\"#000000\" stroke=\"#000000\" points=\"308.8476,-271.3802 311.5279,-261.13 303.0405,-267.4716 308.8476,-271.3802\"/>\n</g>\n<!-- 4 -->\n<g id=\"node5\" class=\"node\">\n<title>4</title>\n<polygon fill=\"none\" stroke=\"#000000\" points=\"115,-149.5 0,-149.5 0,-96.5 115,-96.5 115,-149.5\"/>\n<text text-anchor=\"middle\" x=\"57.5\" y=\"-134.3\" font-family=\"Helvetica,sans-Serif\" font-size=\"14.00\" fill=\"#000000\">gini = 0.0</text>\n<text text-anchor=\"middle\" x=\"57.5\" y=\"-119.3\" font-family=\"Helvetica,sans-Serif\" font-size=\"14.00\" fill=\"#000000\">samples = 1</text>\n<text text-anchor=\"middle\" x=\"57.5\" y=\"-104.3\" font-family=\"Helvetica,sans-Serif\" font-size=\"14.00\" fill=\"#000000\">value = [0, 0, 1]</text>\n</g>\n<!-- 3&#45;&gt;4 -->\n<g id=\"edge4\" class=\"edge\">\n<title>3&#45;&gt;4</title>\n<path fill=\"none\" stroke=\"#000000\" d=\"M148.9685,-192.9465C133.4121,-181.0504 115.9879,-167.726 100.5541,-155.9237\"/>\n<polygon fill=\"#000000\" stroke=\"#000000\" points=\"102.2787,-152.8364 92.209,-149.5422 98.0265,-158.397 102.2787,-152.8364\"/>\n</g>\n<!-- 5 -->\n<g id=\"node6\" class=\"node\">\n<title>5</title>\n<polygon fill=\"none\" stroke=\"#000000\" points=\"256,-149.5 133,-149.5 133,-96.5 256,-96.5 256,-149.5\"/>\n<text text-anchor=\"middle\" x=\"194.5\" y=\"-134.3\" font-family=\"Helvetica,sans-Serif\" font-size=\"14.00\" fill=\"#000000\">gini = 0.0</text>\n<text text-anchor=\"middle\" x=\"194.5\" y=\"-119.3\" font-family=\"Helvetica,sans-Serif\" font-size=\"14.00\" fill=\"#000000\">samples = 18</text>\n<text text-anchor=\"middle\" x=\"194.5\" y=\"-104.3\" font-family=\"Helvetica,sans-Serif\" font-size=\"14.00\" fill=\"#000000\">value = [0, 18, 0]</text>\n</g>\n<!-- 3&#45;&gt;5 -->\n<g id=\"edge5\" class=\"edge\">\n<title>3&#45;&gt;5</title>\n<path fill=\"none\" stroke=\"#000000\" d=\"M193.8274,-192.9465C193.9302,-182.2621 194.044,-170.4254 194.1483,-159.5742\"/>\n<polygon fill=\"#000000\" stroke=\"#000000\" points=\"197.6484,-159.5754 194.2448,-149.5422 190.6487,-159.508 197.6484,-159.5754\"/>\n</g>\n<!-- 7 -->\n<g id=\"node8\" class=\"node\">\n<title>7</title>\n<polygon fill=\"none\" stroke=\"#000000\" points=\"391,-157 276,-157 276,-89 391,-89 391,-157\"/>\n<text text-anchor=\"middle\" x=\"333.5\" y=\"-141.8\" font-family=\"Helvetica,sans-Serif\" font-size=\"14.00\" fill=\"#000000\">X[1] &lt;= 3.0</text>\n<text text-anchor=\"middle\" x=\"333.5\" y=\"-126.8\" font-family=\"Helvetica,sans-Serif\" font-size=\"14.00\" fill=\"#000000\">gini = 0.444</text>\n<text text-anchor=\"middle\" x=\"333.5\" y=\"-111.8\" font-family=\"Helvetica,sans-Serif\" font-size=\"14.00\" fill=\"#000000\">samples = 3</text>\n<text text-anchor=\"middle\" x=\"333.5\" y=\"-96.8\" font-family=\"Helvetica,sans-Serif\" font-size=\"14.00\" fill=\"#000000\">value = [0, 1, 2]</text>\n</g>\n<!-- 6&#45;&gt;7 -->\n<g id=\"edge7\" class=\"edge\">\n<title>6&#45;&gt;7</title>\n<path fill=\"none\" stroke=\"#000000\" d=\"M334.1726,-192.9465C334.094,-184.776 334.009,-175.9318 333.9266,-167.3697\"/>\n<polygon fill=\"#000000\" stroke=\"#000000\" points=\"337.4243,-167.0958 333.8282,-157.13 330.4246,-167.1632 337.4243,-167.0958\"/>\n</g>\n<!-- 10 -->\n<g id=\"node11\" class=\"node\">\n<title>10</title>\n<polygon fill=\"none\" stroke=\"#000000\" points=\"532,-149.5 409,-149.5 409,-96.5 532,-96.5 532,-149.5\"/>\n<text text-anchor=\"middle\" x=\"470.5\" y=\"-134.3\" font-family=\"Helvetica,sans-Serif\" font-size=\"14.00\" fill=\"#000000\">gini = 0.0</text>\n<text text-anchor=\"middle\" x=\"470.5\" y=\"-119.3\" font-family=\"Helvetica,sans-Serif\" font-size=\"14.00\" fill=\"#000000\">samples = 16</text>\n<text text-anchor=\"middle\" x=\"470.5\" y=\"-104.3\" font-family=\"Helvetica,sans-Serif\" font-size=\"14.00\" fill=\"#000000\">value = [0, 0, 16]</text>\n</g>\n<!-- 6&#45;&gt;10 -->\n<g id=\"edge10\" class=\"edge\">\n<title>6&#45;&gt;10</title>\n<path fill=\"none\" stroke=\"#000000\" d=\"M379.0315,-192.9465C394.5879,-181.0504 412.0121,-167.726 427.4459,-155.9237\"/>\n<polygon fill=\"#000000\" stroke=\"#000000\" points=\"429.9735,-158.397 435.791,-149.5422 425.7213,-152.8364 429.9735,-158.397\"/>\n</g>\n<!-- 8 -->\n<g id=\"node9\" class=\"node\">\n<title>8</title>\n<polygon fill=\"none\" stroke=\"#000000\" points=\"324,-53 209,-53 209,0 324,0 324,-53\"/>\n<text text-anchor=\"middle\" x=\"266.5\" y=\"-37.8\" font-family=\"Helvetica,sans-Serif\" font-size=\"14.00\" fill=\"#000000\">gini = 0.0</text>\n<text text-anchor=\"middle\" x=\"266.5\" y=\"-22.8\" font-family=\"Helvetica,sans-Serif\" font-size=\"14.00\" fill=\"#000000\">samples = 2</text>\n<text text-anchor=\"middle\" x=\"266.5\" y=\"-7.8\" font-family=\"Helvetica,sans-Serif\" font-size=\"14.00\" fill=\"#000000\">value = [0, 0, 2]</text>\n</g>\n<!-- 7&#45;&gt;8 -->\n<g id=\"edge8\" class=\"edge\">\n<title>7&#45;&gt;8</title>\n<path fill=\"none\" stroke=\"#000000\" d=\"M309.8783,-88.9777C303.7113,-80.0954 297.0539,-70.5067 290.8499,-61.5711\"/>\n<polygon fill=\"#000000\" stroke=\"#000000\" points=\"293.6497,-59.4666 285.0715,-53.2485 287.8997,-63.4589 293.6497,-59.4666\"/>\n</g>\n<!-- 9 -->\n<g id=\"node10\" class=\"node\">\n<title>9</title>\n<polygon fill=\"none\" stroke=\"#000000\" points=\"457,-53 342,-53 342,0 457,0 457,-53\"/>\n<text text-anchor=\"middle\" x=\"399.5\" y=\"-37.8\" font-family=\"Helvetica,sans-Serif\" font-size=\"14.00\" fill=\"#000000\">gini = 0.0</text>\n<text text-anchor=\"middle\" x=\"399.5\" y=\"-22.8\" font-family=\"Helvetica,sans-Serif\" font-size=\"14.00\" fill=\"#000000\">samples = 1</text>\n<text text-anchor=\"middle\" x=\"399.5\" y=\"-7.8\" font-family=\"Helvetica,sans-Serif\" font-size=\"14.00\" fill=\"#000000\">value = [0, 1, 0]</text>\n</g>\n<!-- 7&#45;&gt;9 -->\n<g id=\"edge9\" class=\"edge\">\n<title>7&#45;&gt;9</title>\n<path fill=\"none\" stroke=\"#000000\" d=\"M356.7691,-88.9777C362.844,-80.0954 369.4021,-70.5067 375.5135,-61.5711\"/>\n<polygon fill=\"#000000\" stroke=\"#000000\" points=\"378.4493,-63.4785 381.2057,-53.2485 372.6714,-59.5267 378.4493,-63.4785\"/>\n</g>\n</g>\n</svg>\n"
          },
          "metadata": {},
          "execution_count": 50
        }
      ]
    },
    {
      "cell_type": "code",
      "source": [
        "# Predição com apenas 70% dos dados como treino para os 50% do conjunto TESTE.\n",
        "\n",
        "answer = classifier_t.predict(x_test)\n",
        "\n",
        "print('A arvore rotulou/predisse o seguinte: ')\n",
        "print(answer)"
      ],
      "metadata": {
        "colab": {
          "base_uri": "https://localhost:8080/"
        },
        "id": "LjIZt3YYMSpo",
        "outputId": "1ebe3715-ee57-4e61-cb60-0e73526b5e11"
      },
      "execution_count": null,
      "outputs": [
        {
          "output_type": "stream",
          "name": "stdout",
          "text": [
            "A arvore rotulou/predisse o seguinte: \n",
            "[1 0 2 1 1 0 1 2 2 1 2 0 0 0 0 1 2 1 1 2 0 2 0 2 2 2 2 2 0 0 0 0 1 0 0 2 1\n",
            " 0 0 0 2 1 1 0 0 1 1 2 1 2 1 2 1 0 2 1 0 0 0 2 2 0 0 0 1 0 1 2 0 1 2 0 2 2\n",
            " 2]\n"
          ]
        }
      ]
    },
    {
      "cell_type": "code",
      "source": [
        "# Resultado da acurácia do método com 70% de base de treino:\n",
        "\n",
        "accuracy_70 = accuracy_score(answer, y_test)\n",
        "accuracy_70 *= 100\n",
        "print(accuracy_70)\n",
        "accuracy_list.append(accuracy_70)"
      ],
      "metadata": {
        "colab": {
          "base_uri": "https://localhost:8080/"
        },
        "id": "s_RALUaeMg8p",
        "outputId": "0e672164-6b69-4e51-e1e1-f805605b9907"
      },
      "execution_count": null,
      "outputs": [
        {
          "output_type": "stream",
          "name": "stdout",
          "text": [
            "94.66666666666667\n"
          ]
        }
      ]
    },
    {
      "cell_type": "markdown",
      "source": [
        "Com a base de treino de 50% usando apenas os 70% dela temos uma acurácia de aproximadamente 97,33%"
      ],
      "metadata": {
        "id": "Pn7DD0ndMqZi"
      }
    },
    {
      "cell_type": "markdown",
      "source": [
        "**Etapa 8 - utilizando agora 80% da base de Treino**"
      ],
      "metadata": {
        "id": "IJXTj_VQM2qg"
      }
    },
    {
      "cell_type": "code",
      "source": [
        "# Fazer o split de 80% no conjunto TREINO (50% do total)\n",
        "\n",
        "x_train80, x_test80, y_train80, y_test80 = train_test_split(x_train, y_train,\n",
        "                                                            train_size= 0.8,\n",
        "                                                            random_state=42)"
      ],
      "metadata": {
        "id": "G78RspDWM7JZ"
      },
      "execution_count": null,
      "outputs": []
    },
    {
      "cell_type": "code",
      "source": [
        "# Gerar minha árvore de treino com os 80%\n",
        "\n",
        "classifier_t = classifier_t.fit(x_train80, y_train80)"
      ],
      "metadata": {
        "id": "BDmAuXfpNMbu"
      },
      "execution_count": null,
      "outputs": []
    },
    {
      "cell_type": "code",
      "source": [
        "# Plotar minha árvore de decisão com os dados de 80% TREINO\n",
        "\n",
        "graph_DT80 = tree.export_graphviz(classifier_t, out_file=None) \n",
        "graph = graphviz.Source(graph_DT80) \n",
        "graph.render(\"iris\") \n",
        "graph"
      ],
      "metadata": {
        "colab": {
          "base_uri": "https://localhost:8080/",
          "height": 796
        },
        "id": "6a8jyAytNTmn",
        "outputId": "ce8468a3-3fd9-479d-c607-287c0f963ef4"
      },
      "execution_count": null,
      "outputs": [
        {
          "output_type": "execute_result",
          "data": {
            "text/plain": [
              "<graphviz.files.Source at 0x7f1bf57538b0>"
            ],
            "image/svg+xml": "<?xml version=\"1.0\" encoding=\"UTF-8\" standalone=\"no\"?>\n<!DOCTYPE svg PUBLIC \"-//W3C//DTD SVG 1.1//EN\"\n \"http://www.w3.org/Graphics/SVG/1.1/DTD/svg11.dtd\">\n<!-- Generated by graphviz version 2.40.1 (20161225.0304)\n -->\n<!-- Title: Tree Pages: 1 -->\n<svg width=\"542pt\" height=\"581pt\"\n viewBox=\"0.00 0.00 542.00 581.00\" xmlns=\"http://www.w3.org/2000/svg\" xmlns:xlink=\"http://www.w3.org/1999/xlink\">\n<g id=\"graph0\" class=\"graph\" transform=\"scale(1 1) rotate(0) translate(4 577)\">\n<title>Tree</title>\n<polygon fill=\"#ffffff\" stroke=\"transparent\" points=\"-4,4 -4,-577 538,-577 538,4 -4,4\"/>\n<!-- 0 -->\n<g id=\"node1\" class=\"node\">\n<title>0</title>\n<polygon fill=\"none\" stroke=\"#000000\" points=\"264.5,-573 124.5,-573 124.5,-505 264.5,-505 264.5,-573\"/>\n<text text-anchor=\"middle\" x=\"194.5\" y=\"-557.8\" font-family=\"Helvetica,sans-Serif\" font-size=\"14.00\" fill=\"#000000\">X[2] &lt;= 2.35</text>\n<text text-anchor=\"middle\" x=\"194.5\" y=\"-542.8\" font-family=\"Helvetica,sans-Serif\" font-size=\"14.00\" fill=\"#000000\">gini = 0.662</text>\n<text text-anchor=\"middle\" x=\"194.5\" y=\"-527.8\" font-family=\"Helvetica,sans-Serif\" font-size=\"14.00\" fill=\"#000000\">samples = 60</text>\n<text text-anchor=\"middle\" x=\"194.5\" y=\"-512.8\" font-family=\"Helvetica,sans-Serif\" font-size=\"14.00\" fill=\"#000000\">value = [17, 20, 23]</text>\n</g>\n<!-- 1 -->\n<g id=\"node2\" class=\"node\">\n<title>1</title>\n<polygon fill=\"none\" stroke=\"#000000\" points=\"184,-461.5 61,-461.5 61,-408.5 184,-408.5 184,-461.5\"/>\n<text text-anchor=\"middle\" x=\"122.5\" y=\"-446.3\" font-family=\"Helvetica,sans-Serif\" font-size=\"14.00\" fill=\"#000000\">gini = 0.0</text>\n<text text-anchor=\"middle\" x=\"122.5\" y=\"-431.3\" font-family=\"Helvetica,sans-Serif\" font-size=\"14.00\" fill=\"#000000\">samples = 17</text>\n<text text-anchor=\"middle\" x=\"122.5\" y=\"-416.3\" font-family=\"Helvetica,sans-Serif\" font-size=\"14.00\" fill=\"#000000\">value = [17, 0, 0]</text>\n</g>\n<!-- 0&#45;&gt;1 -->\n<g id=\"edge1\" class=\"edge\">\n<title>0&#45;&gt;1</title>\n<path fill=\"none\" stroke=\"#000000\" d=\"M170.9245,-504.9465C163.1463,-493.7113 154.4861,-481.2021 146.6645,-469.9043\"/>\n<polygon fill=\"#000000\" stroke=\"#000000\" points=\"149.4452,-467.7719 140.8753,-461.5422 143.6898,-471.7564 149.4452,-467.7719\"/>\n<text text-anchor=\"middle\" x=\"136.4032\" y=\"-482.4389\" font-family=\"Helvetica,sans-Serif\" font-size=\"14.00\" fill=\"#000000\">True</text>\n</g>\n<!-- 2 -->\n<g id=\"node3\" class=\"node\">\n<title>2</title>\n<polygon fill=\"none\" stroke=\"#000000\" points=\"333,-469 202,-469 202,-401 333,-401 333,-469\"/>\n<text text-anchor=\"middle\" x=\"267.5\" y=\"-453.8\" font-family=\"Helvetica,sans-Serif\" font-size=\"14.00\" fill=\"#000000\">X[3] &lt;= 1.65</text>\n<text text-anchor=\"middle\" x=\"267.5\" y=\"-438.8\" font-family=\"Helvetica,sans-Serif\" font-size=\"14.00\" fill=\"#000000\">gini = 0.498</text>\n<text text-anchor=\"middle\" x=\"267.5\" y=\"-423.8\" font-family=\"Helvetica,sans-Serif\" font-size=\"14.00\" fill=\"#000000\">samples = 43</text>\n<text text-anchor=\"middle\" x=\"267.5\" y=\"-408.8\" font-family=\"Helvetica,sans-Serif\" font-size=\"14.00\" fill=\"#000000\">value = [0, 20, 23]</text>\n</g>\n<!-- 0&#45;&gt;2 -->\n<g id=\"edge2\" class=\"edge\">\n<title>0&#45;&gt;2</title>\n<path fill=\"none\" stroke=\"#000000\" d=\"M218.4029,-504.9465C224.5791,-496.1475 231.3038,-486.5672 237.739,-477.3993\"/>\n<polygon fill=\"#000000\" stroke=\"#000000\" points=\"240.6629,-479.3258 243.5434,-469.13 234.9334,-475.3041 240.6629,-479.3258\"/>\n<text text-anchor=\"middle\" x=\"247.8563\" y=\"-490.0552\" font-family=\"Helvetica,sans-Serif\" font-size=\"14.00\" fill=\"#000000\">False</text>\n</g>\n<!-- 3 -->\n<g id=\"node4\" class=\"node\">\n<title>3</title>\n<polygon fill=\"none\" stroke=\"#000000\" points=\"258,-365 135,-365 135,-297 258,-297 258,-365\"/>\n<text text-anchor=\"middle\" x=\"196.5\" y=\"-349.8\" font-family=\"Helvetica,sans-Serif\" font-size=\"14.00\" fill=\"#000000\">X[2] &lt;= 4.95</text>\n<text text-anchor=\"middle\" x=\"196.5\" y=\"-334.8\" font-family=\"Helvetica,sans-Serif\" font-size=\"14.00\" fill=\"#000000\">gini = 0.172</text>\n<text text-anchor=\"middle\" x=\"196.5\" y=\"-319.8\" font-family=\"Helvetica,sans-Serif\" font-size=\"14.00\" fill=\"#000000\">samples = 21</text>\n<text text-anchor=\"middle\" x=\"196.5\" y=\"-304.8\" font-family=\"Helvetica,sans-Serif\" font-size=\"14.00\" fill=\"#000000\">value = [0, 19, 2]</text>\n</g>\n<!-- 2&#45;&gt;3 -->\n<g id=\"edge3\" class=\"edge\">\n<title>2&#45;&gt;3</title>\n<path fill=\"none\" stroke=\"#000000\" d=\"M244.2519,-400.9465C238.245,-392.1475 231.7045,-382.5672 225.4457,-373.3993\"/>\n<polygon fill=\"#000000\" stroke=\"#000000\" points=\"228.3293,-371.4155 219.8003,-365.13 222.548,-375.3623 228.3293,-371.4155\"/>\n</g>\n<!-- 10 -->\n<g id=\"node11\" class=\"node\">\n<title>10</title>\n<polygon fill=\"none\" stroke=\"#000000\" points=\"399,-365 276,-365 276,-297 399,-297 399,-365\"/>\n<text text-anchor=\"middle\" x=\"337.5\" y=\"-349.8\" font-family=\"Helvetica,sans-Serif\" font-size=\"14.00\" fill=\"#000000\">X[2] &lt;= 4.85</text>\n<text text-anchor=\"middle\" x=\"337.5\" y=\"-334.8\" font-family=\"Helvetica,sans-Serif\" font-size=\"14.00\" fill=\"#000000\">gini = 0.087</text>\n<text text-anchor=\"middle\" x=\"337.5\" y=\"-319.8\" font-family=\"Helvetica,sans-Serif\" font-size=\"14.00\" fill=\"#000000\">samples = 22</text>\n<text text-anchor=\"middle\" x=\"337.5\" y=\"-304.8\" font-family=\"Helvetica,sans-Serif\" font-size=\"14.00\" fill=\"#000000\">value = [0, 1, 21]</text>\n</g>\n<!-- 2&#45;&gt;10 -->\n<g id=\"edge10\" class=\"edge\">\n<title>2&#45;&gt;10</title>\n<path fill=\"none\" stroke=\"#000000\" d=\"M290.4206,-400.9465C296.2826,-392.2373 302.6598,-382.7626 308.773,-373.6801\"/>\n<polygon fill=\"#000000\" stroke=\"#000000\" points=\"311.8476,-375.3802 314.5279,-365.13 306.0405,-371.4716 311.8476,-375.3802\"/>\n</g>\n<!-- 4 -->\n<g id=\"node5\" class=\"node\">\n<title>4</title>\n<polygon fill=\"none\" stroke=\"#000000\" points=\"123,-253.5 0,-253.5 0,-200.5 123,-200.5 123,-253.5\"/>\n<text text-anchor=\"middle\" x=\"61.5\" y=\"-238.3\" font-family=\"Helvetica,sans-Serif\" font-size=\"14.00\" fill=\"#000000\">gini = 0.0</text>\n<text text-anchor=\"middle\" x=\"61.5\" y=\"-223.3\" font-family=\"Helvetica,sans-Serif\" font-size=\"14.00\" fill=\"#000000\">samples = 18</text>\n<text text-anchor=\"middle\" x=\"61.5\" y=\"-208.3\" font-family=\"Helvetica,sans-Serif\" font-size=\"14.00\" fill=\"#000000\">value = [0, 18, 0]</text>\n</g>\n<!-- 3&#45;&gt;4 -->\n<g id=\"edge4\" class=\"edge\">\n<title>3&#45;&gt;4</title>\n<path fill=\"none\" stroke=\"#000000\" d=\"M152.296,-296.9465C136.8539,-285.0504 119.5578,-271.726 104.2375,-259.9237\"/>\n<polygon fill=\"#000000\" stroke=\"#000000\" points=\"106.0117,-256.8723 95.9538,-253.5422 101.7397,-262.4176 106.0117,-256.8723\"/>\n</g>\n<!-- 5 -->\n<g id=\"node6\" class=\"node\">\n<title>5</title>\n<polygon fill=\"none\" stroke=\"#000000\" points=\"256,-261 141,-261 141,-193 256,-193 256,-261\"/>\n<text text-anchor=\"middle\" x=\"198.5\" y=\"-245.8\" font-family=\"Helvetica,sans-Serif\" font-size=\"14.00\" fill=\"#000000\">X[1] &lt;= 2.45</text>\n<text text-anchor=\"middle\" x=\"198.5\" y=\"-230.8\" font-family=\"Helvetica,sans-Serif\" font-size=\"14.00\" fill=\"#000000\">gini = 0.444</text>\n<text text-anchor=\"middle\" x=\"198.5\" y=\"-215.8\" font-family=\"Helvetica,sans-Serif\" font-size=\"14.00\" fill=\"#000000\">samples = 3</text>\n<text text-anchor=\"middle\" x=\"198.5\" y=\"-200.8\" font-family=\"Helvetica,sans-Serif\" font-size=\"14.00\" fill=\"#000000\">value = [0, 1, 2]</text>\n</g>\n<!-- 3&#45;&gt;5 -->\n<g id=\"edge5\" class=\"edge\">\n<title>3&#45;&gt;5</title>\n<path fill=\"none\" stroke=\"#000000\" d=\"M197.1549,-296.9465C197.312,-288.776 197.4821,-279.9318 197.6467,-271.3697\"/>\n<polygon fill=\"#000000\" stroke=\"#000000\" points=\"201.1506,-271.1955 197.8437,-261.13 194.1519,-271.0608 201.1506,-271.1955\"/>\n</g>\n<!-- 6 -->\n<g id=\"node7\" class=\"node\">\n<title>6</title>\n<polygon fill=\"none\" stroke=\"#000000\" points=\"124,-149.5 9,-149.5 9,-96.5 124,-96.5 124,-149.5\"/>\n<text text-anchor=\"middle\" x=\"66.5\" y=\"-134.3\" font-family=\"Helvetica,sans-Serif\" font-size=\"14.00\" fill=\"#000000\">gini = 0.0</text>\n<text text-anchor=\"middle\" x=\"66.5\" y=\"-119.3\" font-family=\"Helvetica,sans-Serif\" font-size=\"14.00\" fill=\"#000000\">samples = 1</text>\n<text text-anchor=\"middle\" x=\"66.5\" y=\"-104.3\" font-family=\"Helvetica,sans-Serif\" font-size=\"14.00\" fill=\"#000000\">value = [0, 0, 1]</text>\n</g>\n<!-- 5&#45;&gt;6 -->\n<g id=\"edge6\" class=\"edge\">\n<title>5&#45;&gt;6</title>\n<path fill=\"none\" stroke=\"#000000\" d=\"M155.2783,-192.9465C140.1794,-181.0504 123.2676,-167.726 108.2878,-155.9237\"/>\n<polygon fill=\"#000000\" stroke=\"#000000\" points=\"110.2091,-152.9817 100.1881,-149.5422 105.877,-158.4802 110.2091,-152.9817\"/>\n</g>\n<!-- 7 -->\n<g id=\"node8\" class=\"node\">\n<title>7</title>\n<polygon fill=\"none\" stroke=\"#000000\" points=\"257,-157 142,-157 142,-89 257,-89 257,-157\"/>\n<text text-anchor=\"middle\" x=\"199.5\" y=\"-141.8\" font-family=\"Helvetica,sans-Serif\" font-size=\"14.00\" fill=\"#000000\">X[1] &lt;= 2.85</text>\n<text text-anchor=\"middle\" x=\"199.5\" y=\"-126.8\" font-family=\"Helvetica,sans-Serif\" font-size=\"14.00\" fill=\"#000000\">gini = 0.5</text>\n<text text-anchor=\"middle\" x=\"199.5\" y=\"-111.8\" font-family=\"Helvetica,sans-Serif\" font-size=\"14.00\" fill=\"#000000\">samples = 2</text>\n<text text-anchor=\"middle\" x=\"199.5\" y=\"-96.8\" font-family=\"Helvetica,sans-Serif\" font-size=\"14.00\" fill=\"#000000\">value = [0, 1, 1]</text>\n</g>\n<!-- 5&#45;&gt;7 -->\n<g id=\"edge7\" class=\"edge\">\n<title>5&#45;&gt;7</title>\n<path fill=\"none\" stroke=\"#000000\" d=\"M198.8274,-192.9465C198.906,-184.776 198.991,-175.9318 199.0734,-167.3697\"/>\n<polygon fill=\"#000000\" stroke=\"#000000\" points=\"202.5754,-167.1632 199.1718,-157.13 195.5757,-167.0958 202.5754,-167.1632\"/>\n</g>\n<!-- 8 -->\n<g id=\"node9\" class=\"node\">\n<title>8</title>\n<polygon fill=\"none\" stroke=\"#000000\" points=\"190,-53 75,-53 75,0 190,0 190,-53\"/>\n<text text-anchor=\"middle\" x=\"132.5\" y=\"-37.8\" font-family=\"Helvetica,sans-Serif\" font-size=\"14.00\" fill=\"#000000\">gini = 0.0</text>\n<text text-anchor=\"middle\" x=\"132.5\" y=\"-22.8\" font-family=\"Helvetica,sans-Serif\" font-size=\"14.00\" fill=\"#000000\">samples = 1</text>\n<text text-anchor=\"middle\" x=\"132.5\" y=\"-7.8\" font-family=\"Helvetica,sans-Serif\" font-size=\"14.00\" fill=\"#000000\">value = [0, 1, 0]</text>\n</g>\n<!-- 7&#45;&gt;8 -->\n<g id=\"edge8\" class=\"edge\">\n<title>7&#45;&gt;8</title>\n<path fill=\"none\" stroke=\"#000000\" d=\"M175.8783,-88.9777C169.7113,-80.0954 163.0539,-70.5067 156.8499,-61.5711\"/>\n<polygon fill=\"#000000\" stroke=\"#000000\" points=\"159.6497,-59.4666 151.0715,-53.2485 153.8997,-63.4589 159.6497,-59.4666\"/>\n</g>\n<!-- 9 -->\n<g id=\"node10\" class=\"node\">\n<title>9</title>\n<polygon fill=\"none\" stroke=\"#000000\" points=\"323,-53 208,-53 208,0 323,0 323,-53\"/>\n<text text-anchor=\"middle\" x=\"265.5\" y=\"-37.8\" font-family=\"Helvetica,sans-Serif\" font-size=\"14.00\" fill=\"#000000\">gini = 0.0</text>\n<text text-anchor=\"middle\" x=\"265.5\" y=\"-22.8\" font-family=\"Helvetica,sans-Serif\" font-size=\"14.00\" fill=\"#000000\">samples = 1</text>\n<text text-anchor=\"middle\" x=\"265.5\" y=\"-7.8\" font-family=\"Helvetica,sans-Serif\" font-size=\"14.00\" fill=\"#000000\">value = [0, 0, 1]</text>\n</g>\n<!-- 7&#45;&gt;9 -->\n<g id=\"edge9\" class=\"edge\">\n<title>7&#45;&gt;9</title>\n<path fill=\"none\" stroke=\"#000000\" d=\"M222.7691,-88.9777C228.844,-80.0954 235.4021,-70.5067 241.5135,-61.5711\"/>\n<polygon fill=\"#000000\" stroke=\"#000000\" points=\"244.4493,-63.4785 247.2057,-53.2485 238.6714,-59.5267 244.4493,-63.4785\"/>\n</g>\n<!-- 11 -->\n<g id=\"node12\" class=\"node\">\n<title>11</title>\n<polygon fill=\"none\" stroke=\"#000000\" points=\"393,-261 278,-261 278,-193 393,-193 393,-261\"/>\n<text text-anchor=\"middle\" x=\"335.5\" y=\"-245.8\" font-family=\"Helvetica,sans-Serif\" font-size=\"14.00\" fill=\"#000000\">X[1] &lt;= 3.0</text>\n<text text-anchor=\"middle\" x=\"335.5\" y=\"-230.8\" font-family=\"Helvetica,sans-Serif\" font-size=\"14.00\" fill=\"#000000\">gini = 0.444</text>\n<text text-anchor=\"middle\" x=\"335.5\" y=\"-215.8\" font-family=\"Helvetica,sans-Serif\" font-size=\"14.00\" fill=\"#000000\">samples = 3</text>\n<text text-anchor=\"middle\" x=\"335.5\" y=\"-200.8\" font-family=\"Helvetica,sans-Serif\" font-size=\"14.00\" fill=\"#000000\">value = [0, 1, 2]</text>\n</g>\n<!-- 10&#45;&gt;11 -->\n<g id=\"edge11\" class=\"edge\">\n<title>10&#45;&gt;11</title>\n<path fill=\"none\" stroke=\"#000000\" d=\"M336.8451,-296.9465C336.688,-288.776 336.5179,-279.9318 336.3533,-271.3697\"/>\n<polygon fill=\"#000000\" stroke=\"#000000\" points=\"339.8481,-271.0608 336.1563,-261.13 332.8494,-271.1955 339.8481,-271.0608\"/>\n</g>\n<!-- 14 -->\n<g id=\"node15\" class=\"node\">\n<title>14</title>\n<polygon fill=\"none\" stroke=\"#000000\" points=\"534,-253.5 411,-253.5 411,-200.5 534,-200.5 534,-253.5\"/>\n<text text-anchor=\"middle\" x=\"472.5\" y=\"-238.3\" font-family=\"Helvetica,sans-Serif\" font-size=\"14.00\" fill=\"#000000\">gini = 0.0</text>\n<text text-anchor=\"middle\" x=\"472.5\" y=\"-223.3\" font-family=\"Helvetica,sans-Serif\" font-size=\"14.00\" fill=\"#000000\">samples = 19</text>\n<text text-anchor=\"middle\" x=\"472.5\" y=\"-208.3\" font-family=\"Helvetica,sans-Serif\" font-size=\"14.00\" fill=\"#000000\">value = [0, 0, 19]</text>\n</g>\n<!-- 10&#45;&gt;14 -->\n<g id=\"edge14\" class=\"edge\">\n<title>10&#45;&gt;14</title>\n<path fill=\"none\" stroke=\"#000000\" d=\"M381.704,-296.9465C397.1461,-285.0504 414.4422,-271.726 429.7625,-259.9237\"/>\n<polygon fill=\"#000000\" stroke=\"#000000\" points=\"432.2603,-262.4176 438.0462,-253.5422 427.9883,-256.8723 432.2603,-262.4176\"/>\n</g>\n<!-- 12 -->\n<g id=\"node13\" class=\"node\">\n<title>12</title>\n<polygon fill=\"none\" stroke=\"#000000\" points=\"392,-149.5 277,-149.5 277,-96.5 392,-96.5 392,-149.5\"/>\n<text text-anchor=\"middle\" x=\"334.5\" y=\"-134.3\" font-family=\"Helvetica,sans-Serif\" font-size=\"14.00\" fill=\"#000000\">gini = 0.0</text>\n<text text-anchor=\"middle\" x=\"334.5\" y=\"-119.3\" font-family=\"Helvetica,sans-Serif\" font-size=\"14.00\" fill=\"#000000\">samples = 2</text>\n<text text-anchor=\"middle\" x=\"334.5\" y=\"-104.3\" font-family=\"Helvetica,sans-Serif\" font-size=\"14.00\" fill=\"#000000\">value = [0, 0, 2]</text>\n</g>\n<!-- 11&#45;&gt;12 -->\n<g id=\"edge12\" class=\"edge\">\n<title>11&#45;&gt;12</title>\n<path fill=\"none\" stroke=\"#000000\" d=\"M335.1726,-192.9465C335.0698,-182.2621 334.956,-170.4254 334.8517,-159.5742\"/>\n<polygon fill=\"#000000\" stroke=\"#000000\" points=\"338.3513,-159.508 334.7552,-149.5422 331.3516,-159.5754 338.3513,-159.508\"/>\n</g>\n<!-- 13 -->\n<g id=\"node14\" class=\"node\">\n<title>13</title>\n<polygon fill=\"none\" stroke=\"#000000\" points=\"525,-149.5 410,-149.5 410,-96.5 525,-96.5 525,-149.5\"/>\n<text text-anchor=\"middle\" x=\"467.5\" y=\"-134.3\" font-family=\"Helvetica,sans-Serif\" font-size=\"14.00\" fill=\"#000000\">gini = 0.0</text>\n<text text-anchor=\"middle\" x=\"467.5\" y=\"-119.3\" font-family=\"Helvetica,sans-Serif\" font-size=\"14.00\" fill=\"#000000\">samples = 1</text>\n<text text-anchor=\"middle\" x=\"467.5\" y=\"-104.3\" font-family=\"Helvetica,sans-Serif\" font-size=\"14.00\" fill=\"#000000\">value = [0, 1, 0]</text>\n</g>\n<!-- 11&#45;&gt;13 -->\n<g id=\"edge13\" class=\"edge\">\n<title>11&#45;&gt;13</title>\n<path fill=\"none\" stroke=\"#000000\" d=\"M378.7217,-192.9465C393.8206,-181.0504 410.7324,-167.726 425.7122,-155.9237\"/>\n<polygon fill=\"#000000\" stroke=\"#000000\" points=\"428.123,-158.4802 433.8119,-149.5422 423.7909,-152.9817 428.123,-158.4802\"/>\n</g>\n</g>\n</svg>\n"
          },
          "metadata": {},
          "execution_count": 55
        }
      ]
    },
    {
      "cell_type": "code",
      "source": [
        "# Predição com apenas 80% dos dados como treino para os 50% do conjunto TESTE.\n",
        "\n",
        "answer = classifier_t.predict(x_test)\n",
        "\n",
        "print('A arvore rotulou/predisse o seguinte: ')\n",
        "print(answer)"
      ],
      "metadata": {
        "colab": {
          "base_uri": "https://localhost:8080/"
        },
        "id": "yGPzu63vNggo",
        "outputId": "7db56821-38a2-4b66-c47d-576944f60ce7"
      },
      "execution_count": null,
      "outputs": [
        {
          "output_type": "stream",
          "name": "stdout",
          "text": [
            "A arvore rotulou/predisse o seguinte: \n",
            "[1 0 2 1 1 0 1 2 1 1 2 0 0 0 0 1 2 1 1 2 0 2 0 2 2 2 2 2 0 0 0 0 1 0 0 2 1\n",
            " 0 0 0 2 1 1 0 0 1 1 2 1 2 1 2 1 0 2 1 0 0 0 1 2 0 0 0 1 0 1 2 0 1 2 0 2 2\n",
            " 1]\n"
          ]
        }
      ]
    },
    {
      "cell_type": "code",
      "source": [
        "# Resultado da acurácia do método com 80% de base de treino:\n",
        "\n",
        "accuracy_80 = accuracy_score(answer, y_test)\n",
        "accuracy_80 *= 100\n",
        "print(accuracy_80)\n",
        "accuracy_list.append(accuracy_80)"
      ],
      "metadata": {
        "colab": {
          "base_uri": "https://localhost:8080/"
        },
        "id": "3rDKXOsBNwX4",
        "outputId": "9db714c2-a54f-44b4-bd14-75eed0dd048e"
      },
      "execution_count": null,
      "outputs": [
        {
          "output_type": "stream",
          "name": "stdout",
          "text": [
            "98.66666666666667\n"
          ]
        }
      ]
    },
    {
      "cell_type": "code",
      "source": [
        "# Resultado da acurácia do método com 80% de base de treino:\n",
        "\n",
        "accuracy_80 = accuracy_score(answer, y_test)\n",
        "accuracy_80 *= 100\n",
        "print(accuracy_80)\n",
        "accuracy_list.append(accuracy_80)"
      ],
      "metadata": {
        "id": "ToYEz-d8PE54",
        "colab": {
          "base_uri": "https://localhost:8080/"
        },
        "outputId": "bcabdc04-5b2b-4d06-81c0-a8232cf724f0"
      },
      "execution_count": null,
      "outputs": [
        {
          "output_type": "stream",
          "name": "stdout",
          "text": [
            "98.66666666666667\n"
          ]
        }
      ]
    },
    {
      "cell_type": "markdown",
      "source": [
        "Com a base de treino de 50% usando apenas os 80% dela temos uma acurácia de aproximadamente 93,33%"
      ],
      "metadata": {
        "id": "4L6AxuRVOErF"
      }
    },
    {
      "cell_type": "markdown",
      "source": [
        "**Etapa 9 - utilizando agora 90% da base de Treino**"
      ],
      "metadata": {
        "id": "sHDvCOk_OO3a"
      }
    },
    {
      "cell_type": "code",
      "source": [
        "# Fazer o split de 90% no conjunto TREINO (50% do total)\n",
        "\n",
        "x_train90, x_test90, y_train90, y_test90 = train_test_split(x_train, y_train,\n",
        "                                                            train_size= 0.9,\n",
        "                                                            random_state=42)"
      ],
      "metadata": {
        "id": "nIFXXDsfOTeB"
      },
      "execution_count": null,
      "outputs": []
    },
    {
      "cell_type": "code",
      "source": [
        "# Gerar minha árvore de treino com os 90%\n",
        "\n",
        "classifier_t = classifier_t.fit(x_train90, y_train90)"
      ],
      "metadata": {
        "id": "its5T0F5OjZf"
      },
      "execution_count": null,
      "outputs": []
    },
    {
      "cell_type": "code",
      "source": [
        "# Plotar minha árvore de decisão com os dados de 90% TREINO\n",
        "\n",
        "graph_DT90 = tree.export_graphviz(classifier_t, out_file=None) \n",
        "graph = graphviz.Source(graph_DT90) \n",
        "graph.render(\"iris\") \n",
        "graph"
      ],
      "metadata": {
        "colab": {
          "base_uri": "https://localhost:8080/",
          "height": 934
        },
        "id": "b-cPhpPUOn01",
        "outputId": "45fe4762-2e40-4459-8ab1-0a6900215793"
      },
      "execution_count": null,
      "outputs": [
        {
          "output_type": "execute_result",
          "data": {
            "text/plain": [
              "<graphviz.files.Source at 0x7f1bf5761370>"
            ],
            "image/svg+xml": "<?xml version=\"1.0\" encoding=\"UTF-8\" standalone=\"no\"?>\n<!DOCTYPE svg PUBLIC \"-//W3C//DTD SVG 1.1//EN\"\n \"http://www.w3.org/Graphics/SVG/1.1/DTD/svg11.dtd\">\n<!-- Generated by graphviz version 2.40.1 (20161225.0304)\n -->\n<!-- Title: Tree Pages: 1 -->\n<svg width=\"543pt\" height=\"685pt\"\n viewBox=\"0.00 0.00 543.00 685.00\" xmlns=\"http://www.w3.org/2000/svg\" xmlns:xlink=\"http://www.w3.org/1999/xlink\">\n<g id=\"graph0\" class=\"graph\" transform=\"scale(1 1) rotate(0) translate(4 681)\">\n<title>Tree</title>\n<polygon fill=\"#ffffff\" stroke=\"transparent\" points=\"-4,4 -4,-681 539,-681 539,4 -4,4\"/>\n<!-- 0 -->\n<g id=\"node1\" class=\"node\">\n<title>0</title>\n<polygon fill=\"none\" stroke=\"#000000\" points=\"265.5,-677 125.5,-677 125.5,-609 265.5,-609 265.5,-677\"/>\n<text text-anchor=\"middle\" x=\"195.5\" y=\"-661.8\" font-family=\"Helvetica,sans-Serif\" font-size=\"14.00\" fill=\"#000000\">X[2] &lt;= 2.35</text>\n<text text-anchor=\"middle\" x=\"195.5\" y=\"-646.8\" font-family=\"Helvetica,sans-Serif\" font-size=\"14.00\" fill=\"#000000\">gini = 0.661</text>\n<text text-anchor=\"middle\" x=\"195.5\" y=\"-631.8\" font-family=\"Helvetica,sans-Serif\" font-size=\"14.00\" fill=\"#000000\">samples = 67</text>\n<text text-anchor=\"middle\" x=\"195.5\" y=\"-616.8\" font-family=\"Helvetica,sans-Serif\" font-size=\"14.00\" fill=\"#000000\">value = [19, 22, 26]</text>\n</g>\n<!-- 1 -->\n<g id=\"node2\" class=\"node\">\n<title>1</title>\n<polygon fill=\"none\" stroke=\"#000000\" points=\"185,-565.5 62,-565.5 62,-512.5 185,-512.5 185,-565.5\"/>\n<text text-anchor=\"middle\" x=\"123.5\" y=\"-550.3\" font-family=\"Helvetica,sans-Serif\" font-size=\"14.00\" fill=\"#000000\">gini = 0.0</text>\n<text text-anchor=\"middle\" x=\"123.5\" y=\"-535.3\" font-family=\"Helvetica,sans-Serif\" font-size=\"14.00\" fill=\"#000000\">samples = 19</text>\n<text text-anchor=\"middle\" x=\"123.5\" y=\"-520.3\" font-family=\"Helvetica,sans-Serif\" font-size=\"14.00\" fill=\"#000000\">value = [19, 0, 0]</text>\n</g>\n<!-- 0&#45;&gt;1 -->\n<g id=\"edge1\" class=\"edge\">\n<title>0&#45;&gt;1</title>\n<path fill=\"none\" stroke=\"#000000\" d=\"M171.9245,-608.9465C164.1463,-597.7113 155.4861,-585.2021 147.6645,-573.9043\"/>\n<polygon fill=\"#000000\" stroke=\"#000000\" points=\"150.4452,-571.7719 141.8753,-565.5422 144.6898,-575.7564 150.4452,-571.7719\"/>\n<text text-anchor=\"middle\" x=\"137.4032\" y=\"-586.4389\" font-family=\"Helvetica,sans-Serif\" font-size=\"14.00\" fill=\"#000000\">True</text>\n</g>\n<!-- 2 -->\n<g id=\"node3\" class=\"node\">\n<title>2</title>\n<polygon fill=\"none\" stroke=\"#000000\" points=\"334,-573 203,-573 203,-505 334,-505 334,-573\"/>\n<text text-anchor=\"middle\" x=\"268.5\" y=\"-557.8\" font-family=\"Helvetica,sans-Serif\" font-size=\"14.00\" fill=\"#000000\">X[3] &lt;= 1.75</text>\n<text text-anchor=\"middle\" x=\"268.5\" y=\"-542.8\" font-family=\"Helvetica,sans-Serif\" font-size=\"14.00\" fill=\"#000000\">gini = 0.497</text>\n<text text-anchor=\"middle\" x=\"268.5\" y=\"-527.8\" font-family=\"Helvetica,sans-Serif\" font-size=\"14.00\" fill=\"#000000\">samples = 48</text>\n<text text-anchor=\"middle\" x=\"268.5\" y=\"-512.8\" font-family=\"Helvetica,sans-Serif\" font-size=\"14.00\" fill=\"#000000\">value = [0, 22, 26]</text>\n</g>\n<!-- 0&#45;&gt;2 -->\n<g id=\"edge2\" class=\"edge\">\n<title>0&#45;&gt;2</title>\n<path fill=\"none\" stroke=\"#000000\" d=\"M219.4029,-608.9465C225.5791,-600.1475 232.3038,-590.5672 238.739,-581.3993\"/>\n<polygon fill=\"#000000\" stroke=\"#000000\" points=\"241.6629,-583.3258 244.5434,-573.13 235.9334,-579.3041 241.6629,-583.3258\"/>\n<text text-anchor=\"middle\" x=\"248.8563\" y=\"-594.0552\" font-family=\"Helvetica,sans-Serif\" font-size=\"14.00\" fill=\"#000000\">False</text>\n</g>\n<!-- 3 -->\n<g id=\"node4\" class=\"node\">\n<title>3</title>\n<polygon fill=\"none\" stroke=\"#000000\" points=\"259,-469 136,-469 136,-401 259,-401 259,-469\"/>\n<text text-anchor=\"middle\" x=\"197.5\" y=\"-453.8\" font-family=\"Helvetica,sans-Serif\" font-size=\"14.00\" fill=\"#000000\">X[2] &lt;= 5.35</text>\n<text text-anchor=\"middle\" x=\"197.5\" y=\"-438.8\" font-family=\"Helvetica,sans-Serif\" font-size=\"14.00\" fill=\"#000000\">gini = 0.269</text>\n<text text-anchor=\"middle\" x=\"197.5\" y=\"-423.8\" font-family=\"Helvetica,sans-Serif\" font-size=\"14.00\" fill=\"#000000\">samples = 25</text>\n<text text-anchor=\"middle\" x=\"197.5\" y=\"-408.8\" font-family=\"Helvetica,sans-Serif\" font-size=\"14.00\" fill=\"#000000\">value = [0, 21, 4]</text>\n</g>\n<!-- 2&#45;&gt;3 -->\n<g id=\"edge3\" class=\"edge\">\n<title>2&#45;&gt;3</title>\n<path fill=\"none\" stroke=\"#000000\" d=\"M245.2519,-504.9465C239.245,-496.1475 232.7045,-486.5672 226.4457,-477.3993\"/>\n<polygon fill=\"#000000\" stroke=\"#000000\" points=\"229.3293,-475.4155 220.8003,-469.13 223.548,-479.3623 229.3293,-475.4155\"/>\n</g>\n<!-- 12 -->\n<g id=\"node13\" class=\"node\">\n<title>12</title>\n<polygon fill=\"none\" stroke=\"#000000\" points=\"400,-469 277,-469 277,-401 400,-401 400,-469\"/>\n<text text-anchor=\"middle\" x=\"338.5\" y=\"-453.8\" font-family=\"Helvetica,sans-Serif\" font-size=\"14.00\" fill=\"#000000\">X[2] &lt;= 4.85</text>\n<text text-anchor=\"middle\" x=\"338.5\" y=\"-438.8\" font-family=\"Helvetica,sans-Serif\" font-size=\"14.00\" fill=\"#000000\">gini = 0.083</text>\n<text text-anchor=\"middle\" x=\"338.5\" y=\"-423.8\" font-family=\"Helvetica,sans-Serif\" font-size=\"14.00\" fill=\"#000000\">samples = 23</text>\n<text text-anchor=\"middle\" x=\"338.5\" y=\"-408.8\" font-family=\"Helvetica,sans-Serif\" font-size=\"14.00\" fill=\"#000000\">value = [0, 1, 22]</text>\n</g>\n<!-- 2&#45;&gt;12 -->\n<g id=\"edge12\" class=\"edge\">\n<title>2&#45;&gt;12</title>\n<path fill=\"none\" stroke=\"#000000\" d=\"M291.4206,-504.9465C297.2826,-496.2373 303.6598,-486.7626 309.773,-477.6801\"/>\n<polygon fill=\"#000000\" stroke=\"#000000\" points=\"312.8476,-479.3802 315.5279,-469.13 307.0405,-475.4716 312.8476,-479.3802\"/>\n</g>\n<!-- 4 -->\n<g id=\"node5\" class=\"node\">\n<title>4</title>\n<polygon fill=\"none\" stroke=\"#000000\" points=\"123,-365 0,-365 0,-297 123,-297 123,-365\"/>\n<text text-anchor=\"middle\" x=\"61.5\" y=\"-349.8\" font-family=\"Helvetica,sans-Serif\" font-size=\"14.00\" fill=\"#000000\">X[1] &lt;= 2.25</text>\n<text text-anchor=\"middle\" x=\"61.5\" y=\"-334.8\" font-family=\"Helvetica,sans-Serif\" font-size=\"14.00\" fill=\"#000000\">gini = 0.159</text>\n<text text-anchor=\"middle\" x=\"61.5\" y=\"-319.8\" font-family=\"Helvetica,sans-Serif\" font-size=\"14.00\" fill=\"#000000\">samples = 23</text>\n<text text-anchor=\"middle\" x=\"61.5\" y=\"-304.8\" font-family=\"Helvetica,sans-Serif\" font-size=\"14.00\" fill=\"#000000\">value = [0, 21, 2]</text>\n</g>\n<!-- 3&#45;&gt;4 -->\n<g id=\"edge4\" class=\"edge\">\n<title>3&#45;&gt;4</title>\n<path fill=\"none\" stroke=\"#000000\" d=\"M152.9685,-400.9465C140.6403,-391.519 127.1391,-381.1946 114.385,-371.4415\"/>\n<polygon fill=\"#000000\" stroke=\"#000000\" points=\"116.2012,-368.4243 106.1315,-365.13 111.949,-373.9848 116.2012,-368.4243\"/>\n</g>\n<!-- 11 -->\n<g id=\"node12\" class=\"node\">\n<title>11</title>\n<polygon fill=\"none\" stroke=\"#000000\" points=\"256,-357.5 141,-357.5 141,-304.5 256,-304.5 256,-357.5\"/>\n<text text-anchor=\"middle\" x=\"198.5\" y=\"-342.3\" font-family=\"Helvetica,sans-Serif\" font-size=\"14.00\" fill=\"#000000\">gini = 0.0</text>\n<text text-anchor=\"middle\" x=\"198.5\" y=\"-327.3\" font-family=\"Helvetica,sans-Serif\" font-size=\"14.00\" fill=\"#000000\">samples = 2</text>\n<text text-anchor=\"middle\" x=\"198.5\" y=\"-312.3\" font-family=\"Helvetica,sans-Serif\" font-size=\"14.00\" fill=\"#000000\">value = [0, 0, 2]</text>\n</g>\n<!-- 3&#45;&gt;11 -->\n<g id=\"edge11\" class=\"edge\">\n<title>3&#45;&gt;11</title>\n<path fill=\"none\" stroke=\"#000000\" d=\"M197.8274,-400.9465C197.9302,-390.2621 198.044,-378.4254 198.1483,-367.5742\"/>\n<polygon fill=\"#000000\" stroke=\"#000000\" points=\"201.6484,-367.5754 198.2448,-357.5422 194.6487,-367.508 201.6484,-367.5754\"/>\n</g>\n<!-- 5 -->\n<g id=\"node6\" class=\"node\">\n<title>5</title>\n<polygon fill=\"none\" stroke=\"#000000\" points=\"117,-253.5 2,-253.5 2,-200.5 117,-200.5 117,-253.5\"/>\n<text text-anchor=\"middle\" x=\"59.5\" y=\"-238.3\" font-family=\"Helvetica,sans-Serif\" font-size=\"14.00\" fill=\"#000000\">gini = 0.0</text>\n<text text-anchor=\"middle\" x=\"59.5\" y=\"-223.3\" font-family=\"Helvetica,sans-Serif\" font-size=\"14.00\" fill=\"#000000\">samples = 1</text>\n<text text-anchor=\"middle\" x=\"59.5\" y=\"-208.3\" font-family=\"Helvetica,sans-Serif\" font-size=\"14.00\" fill=\"#000000\">value = [0, 0, 1]</text>\n</g>\n<!-- 4&#45;&gt;5 -->\n<g id=\"edge5\" class=\"edge\">\n<title>4&#45;&gt;5</title>\n<path fill=\"none\" stroke=\"#000000\" d=\"M60.8451,-296.9465C60.6397,-286.2621 60.412,-274.4254 60.2034,-263.5742\"/>\n<polygon fill=\"#000000\" stroke=\"#000000\" points=\"63.7021,-263.473 60.0104,-253.5422 56.7034,-263.6076 63.7021,-263.473\"/>\n</g>\n<!-- 6 -->\n<g id=\"node7\" class=\"node\">\n<title>6</title>\n<polygon fill=\"none\" stroke=\"#000000\" points=\"258,-261 135,-261 135,-193 258,-193 258,-261\"/>\n<text text-anchor=\"middle\" x=\"196.5\" y=\"-245.8\" font-family=\"Helvetica,sans-Serif\" font-size=\"14.00\" fill=\"#000000\">X[3] &lt;= 1.65</text>\n<text text-anchor=\"middle\" x=\"196.5\" y=\"-230.8\" font-family=\"Helvetica,sans-Serif\" font-size=\"14.00\" fill=\"#000000\">gini = 0.087</text>\n<text text-anchor=\"middle\" x=\"196.5\" y=\"-215.8\" font-family=\"Helvetica,sans-Serif\" font-size=\"14.00\" fill=\"#000000\">samples = 22</text>\n<text text-anchor=\"middle\" x=\"196.5\" y=\"-200.8\" font-family=\"Helvetica,sans-Serif\" font-size=\"14.00\" fill=\"#000000\">value = [0, 21, 1]</text>\n</g>\n<!-- 4&#45;&gt;6 -->\n<g id=\"edge6\" class=\"edge\">\n<title>4&#45;&gt;6</title>\n<path fill=\"none\" stroke=\"#000000\" d=\"M105.704,-296.9465C117.9416,-287.519 131.3436,-277.1946 144.0038,-267.4415\"/>\n<polygon fill=\"#000000\" stroke=\"#000000\" points=\"146.4107,-270.0055 152.1966,-261.13 142.1388,-264.4601 146.4107,-270.0055\"/>\n</g>\n<!-- 7 -->\n<g id=\"node8\" class=\"node\">\n<title>7</title>\n<polygon fill=\"none\" stroke=\"#000000\" points=\"189,-149.5 66,-149.5 66,-96.5 189,-96.5 189,-149.5\"/>\n<text text-anchor=\"middle\" x=\"127.5\" y=\"-134.3\" font-family=\"Helvetica,sans-Serif\" font-size=\"14.00\" fill=\"#000000\">gini = 0.0</text>\n<text text-anchor=\"middle\" x=\"127.5\" y=\"-119.3\" font-family=\"Helvetica,sans-Serif\" font-size=\"14.00\" fill=\"#000000\">samples = 20</text>\n<text text-anchor=\"middle\" x=\"127.5\" y=\"-104.3\" font-family=\"Helvetica,sans-Serif\" font-size=\"14.00\" fill=\"#000000\">value = [0, 20, 0]</text>\n</g>\n<!-- 6&#45;&gt;7 -->\n<g id=\"edge7\" class=\"edge\">\n<title>6&#45;&gt;7</title>\n<path fill=\"none\" stroke=\"#000000\" d=\"M173.9068,-192.9465C166.4527,-181.7113 158.1533,-169.2021 150.6577,-157.9043\"/>\n<polygon fill=\"#000000\" stroke=\"#000000\" points=\"153.5547,-155.94 145.1097,-149.5422 147.7218,-159.81 153.5547,-155.94\"/>\n</g>\n<!-- 8 -->\n<g id=\"node9\" class=\"node\">\n<title>8</title>\n<polygon fill=\"none\" stroke=\"#000000\" points=\"322,-157 207,-157 207,-89 322,-89 322,-157\"/>\n<text text-anchor=\"middle\" x=\"264.5\" y=\"-141.8\" font-family=\"Helvetica,sans-Serif\" font-size=\"14.00\" fill=\"#000000\">X[0] &lt;= 5.8</text>\n<text text-anchor=\"middle\" x=\"264.5\" y=\"-126.8\" font-family=\"Helvetica,sans-Serif\" font-size=\"14.00\" fill=\"#000000\">gini = 0.5</text>\n<text text-anchor=\"middle\" x=\"264.5\" y=\"-111.8\" font-family=\"Helvetica,sans-Serif\" font-size=\"14.00\" fill=\"#000000\">samples = 2</text>\n<text text-anchor=\"middle\" x=\"264.5\" y=\"-96.8\" font-family=\"Helvetica,sans-Serif\" font-size=\"14.00\" fill=\"#000000\">value = [0, 1, 1]</text>\n</g>\n<!-- 6&#45;&gt;8 -->\n<g id=\"edge8\" class=\"edge\">\n<title>6&#45;&gt;8</title>\n<path fill=\"none\" stroke=\"#000000\" d=\"M218.7657,-192.9465C224.4602,-184.2373 230.6552,-174.7626 236.5938,-165.6801\"/>\n<polygon fill=\"#000000\" stroke=\"#000000\" points=\"239.6411,-167.4151 242.1842,-157.13 233.7823,-163.5843 239.6411,-167.4151\"/>\n</g>\n<!-- 9 -->\n<g id=\"node10\" class=\"node\">\n<title>9</title>\n<polygon fill=\"none\" stroke=\"#000000\" points=\"255,-53 140,-53 140,0 255,0 255,-53\"/>\n<text text-anchor=\"middle\" x=\"197.5\" y=\"-37.8\" font-family=\"Helvetica,sans-Serif\" font-size=\"14.00\" fill=\"#000000\">gini = 0.0</text>\n<text text-anchor=\"middle\" x=\"197.5\" y=\"-22.8\" font-family=\"Helvetica,sans-Serif\" font-size=\"14.00\" fill=\"#000000\">samples = 1</text>\n<text text-anchor=\"middle\" x=\"197.5\" y=\"-7.8\" font-family=\"Helvetica,sans-Serif\" font-size=\"14.00\" fill=\"#000000\">value = [0, 0, 1]</text>\n</g>\n<!-- 8&#45;&gt;9 -->\n<g id=\"edge9\" class=\"edge\">\n<title>8&#45;&gt;9</title>\n<path fill=\"none\" stroke=\"#000000\" d=\"M240.8783,-88.9777C234.7113,-80.0954 228.0539,-70.5067 221.8499,-61.5711\"/>\n<polygon fill=\"#000000\" stroke=\"#000000\" points=\"224.6497,-59.4666 216.0715,-53.2485 218.8997,-63.4589 224.6497,-59.4666\"/>\n</g>\n<!-- 10 -->\n<g id=\"node11\" class=\"node\">\n<title>10</title>\n<polygon fill=\"none\" stroke=\"#000000\" points=\"388,-53 273,-53 273,0 388,0 388,-53\"/>\n<text text-anchor=\"middle\" x=\"330.5\" y=\"-37.8\" font-family=\"Helvetica,sans-Serif\" font-size=\"14.00\" fill=\"#000000\">gini = 0.0</text>\n<text text-anchor=\"middle\" x=\"330.5\" y=\"-22.8\" font-family=\"Helvetica,sans-Serif\" font-size=\"14.00\" fill=\"#000000\">samples = 1</text>\n<text text-anchor=\"middle\" x=\"330.5\" y=\"-7.8\" font-family=\"Helvetica,sans-Serif\" font-size=\"14.00\" fill=\"#000000\">value = [0, 1, 0]</text>\n</g>\n<!-- 8&#45;&gt;10 -->\n<g id=\"edge10\" class=\"edge\">\n<title>8&#45;&gt;10</title>\n<path fill=\"none\" stroke=\"#000000\" d=\"M287.7691,-88.9777C293.844,-80.0954 300.4021,-70.5067 306.5135,-61.5711\"/>\n<polygon fill=\"#000000\" stroke=\"#000000\" points=\"309.4493,-63.4785 312.2057,-53.2485 303.6714,-59.5267 309.4493,-63.4785\"/>\n</g>\n<!-- 13 -->\n<g id=\"node14\" class=\"node\">\n<title>13</title>\n<polygon fill=\"none\" stroke=\"#000000\" points=\"394,-365 279,-365 279,-297 394,-297 394,-365\"/>\n<text text-anchor=\"middle\" x=\"336.5\" y=\"-349.8\" font-family=\"Helvetica,sans-Serif\" font-size=\"14.00\" fill=\"#000000\">X[0] &lt;= 6.05</text>\n<text text-anchor=\"middle\" x=\"336.5\" y=\"-334.8\" font-family=\"Helvetica,sans-Serif\" font-size=\"14.00\" fill=\"#000000\">gini = 0.5</text>\n<text text-anchor=\"middle\" x=\"336.5\" y=\"-319.8\" font-family=\"Helvetica,sans-Serif\" font-size=\"14.00\" fill=\"#000000\">samples = 2</text>\n<text text-anchor=\"middle\" x=\"336.5\" y=\"-304.8\" font-family=\"Helvetica,sans-Serif\" font-size=\"14.00\" fill=\"#000000\">value = [0, 1, 1]</text>\n</g>\n<!-- 12&#45;&gt;13 -->\n<g id=\"edge13\" class=\"edge\">\n<title>12&#45;&gt;13</title>\n<path fill=\"none\" stroke=\"#000000\" d=\"M337.8451,-400.9465C337.688,-392.776 337.5179,-383.9318 337.3533,-375.3697\"/>\n<polygon fill=\"#000000\" stroke=\"#000000\" points=\"340.8481,-375.0608 337.1563,-365.13 333.8494,-375.1955 340.8481,-375.0608\"/>\n</g>\n<!-- 16 -->\n<g id=\"node17\" class=\"node\">\n<title>16</title>\n<polygon fill=\"none\" stroke=\"#000000\" points=\"535,-357.5 412,-357.5 412,-304.5 535,-304.5 535,-357.5\"/>\n<text text-anchor=\"middle\" x=\"473.5\" y=\"-342.3\" font-family=\"Helvetica,sans-Serif\" font-size=\"14.00\" fill=\"#000000\">gini = 0.0</text>\n<text text-anchor=\"middle\" x=\"473.5\" y=\"-327.3\" font-family=\"Helvetica,sans-Serif\" font-size=\"14.00\" fill=\"#000000\">samples = 21</text>\n<text text-anchor=\"middle\" x=\"473.5\" y=\"-312.3\" font-family=\"Helvetica,sans-Serif\" font-size=\"14.00\" fill=\"#000000\">value = [0, 0, 21]</text>\n</g>\n<!-- 12&#45;&gt;16 -->\n<g id=\"edge16\" class=\"edge\">\n<title>12&#45;&gt;16</title>\n<path fill=\"none\" stroke=\"#000000\" d=\"M382.704,-400.9465C398.1461,-389.0504 415.4422,-375.726 430.7625,-363.9237\"/>\n<polygon fill=\"#000000\" stroke=\"#000000\" points=\"433.2603,-366.4176 439.0462,-357.5422 428.9883,-360.8723 433.2603,-366.4176\"/>\n</g>\n<!-- 14 -->\n<g id=\"node15\" class=\"node\">\n<title>14</title>\n<polygon fill=\"none\" stroke=\"#000000\" points=\"393,-253.5 278,-253.5 278,-200.5 393,-200.5 393,-253.5\"/>\n<text text-anchor=\"middle\" x=\"335.5\" y=\"-238.3\" font-family=\"Helvetica,sans-Serif\" font-size=\"14.00\" fill=\"#000000\">gini = 0.0</text>\n<text text-anchor=\"middle\" x=\"335.5\" y=\"-223.3\" font-family=\"Helvetica,sans-Serif\" font-size=\"14.00\" fill=\"#000000\">samples = 1</text>\n<text text-anchor=\"middle\" x=\"335.5\" y=\"-208.3\" font-family=\"Helvetica,sans-Serif\" font-size=\"14.00\" fill=\"#000000\">value = [0, 1, 0]</text>\n</g>\n<!-- 13&#45;&gt;14 -->\n<g id=\"edge14\" class=\"edge\">\n<title>13&#45;&gt;14</title>\n<path fill=\"none\" stroke=\"#000000\" d=\"M336.1726,-296.9465C336.0698,-286.2621 335.956,-274.4254 335.8517,-263.5742\"/>\n<polygon fill=\"#000000\" stroke=\"#000000\" points=\"339.3513,-263.508 335.7552,-253.5422 332.3516,-263.5754 339.3513,-263.508\"/>\n</g>\n<!-- 15 -->\n<g id=\"node16\" class=\"node\">\n<title>15</title>\n<polygon fill=\"none\" stroke=\"#000000\" points=\"526,-253.5 411,-253.5 411,-200.5 526,-200.5 526,-253.5\"/>\n<text text-anchor=\"middle\" x=\"468.5\" y=\"-238.3\" font-family=\"Helvetica,sans-Serif\" font-size=\"14.00\" fill=\"#000000\">gini = 0.0</text>\n<text text-anchor=\"middle\" x=\"468.5\" y=\"-223.3\" font-family=\"Helvetica,sans-Serif\" font-size=\"14.00\" fill=\"#000000\">samples = 1</text>\n<text text-anchor=\"middle\" x=\"468.5\" y=\"-208.3\" font-family=\"Helvetica,sans-Serif\" font-size=\"14.00\" fill=\"#000000\">value = [0, 0, 1]</text>\n</g>\n<!-- 13&#45;&gt;15 -->\n<g id=\"edge15\" class=\"edge\">\n<title>13&#45;&gt;15</title>\n<path fill=\"none\" stroke=\"#000000\" d=\"M379.7217,-296.9465C394.8206,-285.0504 411.7324,-271.726 426.7122,-259.9237\"/>\n<polygon fill=\"#000000\" stroke=\"#000000\" points=\"429.123,-262.4802 434.8119,-253.5422 424.7909,-256.9817 429.123,-262.4802\"/>\n</g>\n</g>\n</svg>\n"
          },
          "metadata": {},
          "execution_count": 61
        }
      ]
    },
    {
      "cell_type": "code",
      "source": [
        "# Predição com apenas 90% dos dados como treino para os 50% do conjunto TESTE.\n",
        "\n",
        "answer = classifier_t.predict(x_test)\n",
        "\n",
        "print('A arvore rotulou/predisse o seguinte: ')\n",
        "print(answer)"
      ],
      "metadata": {
        "colab": {
          "base_uri": "https://localhost:8080/"
        },
        "id": "IiR47YqrO4r3",
        "outputId": "fb832fb5-dfd7-4e81-a8a2-b57e47858665"
      },
      "execution_count": null,
      "outputs": [
        {
          "output_type": "stream",
          "name": "stdout",
          "text": [
            "A arvore rotulou/predisse o seguinte: \n",
            "[1 0 2 1 1 0 1 2 2 1 2 0 0 0 0 1 2 1 1 2 0 2 0 2 2 2 2 2 0 0 0 0 1 0 0 2 1\n",
            " 0 0 0 2 1 1 0 0 1 1 2 1 2 1 2 1 0 2 1 0 0 0 2 2 0 0 0 1 0 1 2 0 1 2 0 1 2\n",
            " 2]\n"
          ]
        }
      ]
    },
    {
      "cell_type": "code",
      "source": [
        "# Resultado da acurácia do método com 90% de base de treino:\n",
        "\n",
        "accuracy_90 = accuracy_score(answer, y_test)\n",
        "accuracy_90 *= 100\n",
        "print(accuracy_90)\n",
        "accuracy_list.append(accuracy_90)"
      ],
      "metadata": {
        "colab": {
          "base_uri": "https://localhost:8080/"
        },
        "id": "Wbg5RnrwPJve",
        "outputId": "d7088364-55df-4146-d5ec-ca660bcdc6a4"
      },
      "execution_count": null,
      "outputs": [
        {
          "output_type": "stream",
          "name": "stdout",
          "text": [
            "93.33333333333333\n"
          ]
        }
      ]
    },
    {
      "cell_type": "markdown",
      "source": [
        "Com a base de treino de 50% usando apenas os 90% dela temos uma acurácia de aproximadamente 94,67%"
      ],
      "metadata": {
        "id": "SFgmBlB2PVIK"
      }
    },
    {
      "cell_type": "markdown",
      "source": [
        "**Etapa 10 - utilizando agora 100% da base de Treino**"
      ],
      "metadata": {
        "id": "nm07gH7ePcGB"
      }
    },
    {
      "cell_type": "code",
      "source": [
        "# Gerar minha árvore de treino com os 100%\n",
        "\n",
        "classifier_t = classifier_t.fit(x_train, y_train)"
      ],
      "metadata": {
        "id": "3JL6jmuzPe1i"
      },
      "execution_count": null,
      "outputs": []
    },
    {
      "cell_type": "code",
      "source": [
        "# Plotar minha árvore de decisão com os dados de 100% TREINO\n",
        "\n",
        "graph_DT100 = tree.export_graphviz(classifier_t, out_file=None) \n",
        "graph = graphviz.Source(graph_DT100) \n",
        "graph.render(\"iris\") \n",
        "graph"
      ],
      "metadata": {
        "colab": {
          "base_uri": "https://localhost:8080/",
          "height": 934
        },
        "id": "QDKGMjURP1HE",
        "outputId": "a2106da3-35b1-4069-dd0f-545db22e999d"
      },
      "execution_count": null,
      "outputs": [
        {
          "output_type": "execute_result",
          "data": {
            "text/plain": [
              "<graphviz.files.Source at 0x7f1bf576e280>"
            ],
            "image/svg+xml": "<?xml version=\"1.0\" encoding=\"UTF-8\" standalone=\"no\"?>\n<!DOCTYPE svg PUBLIC \"-//W3C//DTD SVG 1.1//EN\"\n \"http://www.w3.org/Graphics/SVG/1.1/DTD/svg11.dtd\">\n<!-- Generated by graphviz version 2.40.1 (20161225.0304)\n -->\n<!-- Title: Tree Pages: 1 -->\n<svg width=\"543pt\" height=\"685pt\"\n viewBox=\"0.00 0.00 543.00 685.00\" xmlns=\"http://www.w3.org/2000/svg\" xmlns:xlink=\"http://www.w3.org/1999/xlink\">\n<g id=\"graph0\" class=\"graph\" transform=\"scale(1 1) rotate(0) translate(4 681)\">\n<title>Tree</title>\n<polygon fill=\"#ffffff\" stroke=\"transparent\" points=\"-4,4 -4,-681 539,-681 539,4 -4,4\"/>\n<!-- 0 -->\n<g id=\"node1\" class=\"node\">\n<title>0</title>\n<polygon fill=\"none\" stroke=\"#000000\" points=\"265.5,-677 125.5,-677 125.5,-609 265.5,-609 265.5,-677\"/>\n<text text-anchor=\"middle\" x=\"195.5\" y=\"-661.8\" font-family=\"Helvetica,sans-Serif\" font-size=\"14.00\" fill=\"#000000\">X[2] &lt;= 2.35</text>\n<text text-anchor=\"middle\" x=\"195.5\" y=\"-646.8\" font-family=\"Helvetica,sans-Serif\" font-size=\"14.00\" fill=\"#000000\">gini = 0.662</text>\n<text text-anchor=\"middle\" x=\"195.5\" y=\"-631.8\" font-family=\"Helvetica,sans-Serif\" font-size=\"14.00\" fill=\"#000000\">samples = 75</text>\n<text text-anchor=\"middle\" x=\"195.5\" y=\"-616.8\" font-family=\"Helvetica,sans-Serif\" font-size=\"14.00\" fill=\"#000000\">value = [21, 27, 27]</text>\n</g>\n<!-- 1 -->\n<g id=\"node2\" class=\"node\">\n<title>1</title>\n<polygon fill=\"none\" stroke=\"#000000\" points=\"185,-565.5 62,-565.5 62,-512.5 185,-512.5 185,-565.5\"/>\n<text text-anchor=\"middle\" x=\"123.5\" y=\"-550.3\" font-family=\"Helvetica,sans-Serif\" font-size=\"14.00\" fill=\"#000000\">gini = 0.0</text>\n<text text-anchor=\"middle\" x=\"123.5\" y=\"-535.3\" font-family=\"Helvetica,sans-Serif\" font-size=\"14.00\" fill=\"#000000\">samples = 21</text>\n<text text-anchor=\"middle\" x=\"123.5\" y=\"-520.3\" font-family=\"Helvetica,sans-Serif\" font-size=\"14.00\" fill=\"#000000\">value = [21, 0, 0]</text>\n</g>\n<!-- 0&#45;&gt;1 -->\n<g id=\"edge1\" class=\"edge\">\n<title>0&#45;&gt;1</title>\n<path fill=\"none\" stroke=\"#000000\" d=\"M171.9245,-608.9465C164.1463,-597.7113 155.4861,-585.2021 147.6645,-573.9043\"/>\n<polygon fill=\"#000000\" stroke=\"#000000\" points=\"150.4452,-571.7719 141.8753,-565.5422 144.6898,-575.7564 150.4452,-571.7719\"/>\n<text text-anchor=\"middle\" x=\"137.4032\" y=\"-586.4389\" font-family=\"Helvetica,sans-Serif\" font-size=\"14.00\" fill=\"#000000\">True</text>\n</g>\n<!-- 2 -->\n<g id=\"node3\" class=\"node\">\n<title>2</title>\n<polygon fill=\"none\" stroke=\"#000000\" points=\"334,-573 203,-573 203,-505 334,-505 334,-573\"/>\n<text text-anchor=\"middle\" x=\"268.5\" y=\"-557.8\" font-family=\"Helvetica,sans-Serif\" font-size=\"14.00\" fill=\"#000000\">X[3] &lt;= 1.75</text>\n<text text-anchor=\"middle\" x=\"268.5\" y=\"-542.8\" font-family=\"Helvetica,sans-Serif\" font-size=\"14.00\" fill=\"#000000\">gini = 0.5</text>\n<text text-anchor=\"middle\" x=\"268.5\" y=\"-527.8\" font-family=\"Helvetica,sans-Serif\" font-size=\"14.00\" fill=\"#000000\">samples = 54</text>\n<text text-anchor=\"middle\" x=\"268.5\" y=\"-512.8\" font-family=\"Helvetica,sans-Serif\" font-size=\"14.00\" fill=\"#000000\">value = [0, 27, 27]</text>\n</g>\n<!-- 0&#45;&gt;2 -->\n<g id=\"edge2\" class=\"edge\">\n<title>0&#45;&gt;2</title>\n<path fill=\"none\" stroke=\"#000000\" d=\"M219.4029,-608.9465C225.5791,-600.1475 232.3038,-590.5672 238.739,-581.3993\"/>\n<polygon fill=\"#000000\" stroke=\"#000000\" points=\"241.6629,-583.3258 244.5434,-573.13 235.9334,-579.3041 241.6629,-583.3258\"/>\n<text text-anchor=\"middle\" x=\"248.8563\" y=\"-594.0552\" font-family=\"Helvetica,sans-Serif\" font-size=\"14.00\" fill=\"#000000\">False</text>\n</g>\n<!-- 3 -->\n<g id=\"node4\" class=\"node\">\n<title>3</title>\n<polygon fill=\"none\" stroke=\"#000000\" points=\"259,-469 136,-469 136,-401 259,-401 259,-469\"/>\n<text text-anchor=\"middle\" x=\"197.5\" y=\"-453.8\" font-family=\"Helvetica,sans-Serif\" font-size=\"14.00\" fill=\"#000000\">X[2] &lt;= 5.35</text>\n<text text-anchor=\"middle\" x=\"197.5\" y=\"-438.8\" font-family=\"Helvetica,sans-Serif\" font-size=\"14.00\" fill=\"#000000\">gini = 0.231</text>\n<text text-anchor=\"middle\" x=\"197.5\" y=\"-423.8\" font-family=\"Helvetica,sans-Serif\" font-size=\"14.00\" fill=\"#000000\">samples = 30</text>\n<text text-anchor=\"middle\" x=\"197.5\" y=\"-408.8\" font-family=\"Helvetica,sans-Serif\" font-size=\"14.00\" fill=\"#000000\">value = [0, 26, 4]</text>\n</g>\n<!-- 2&#45;&gt;3 -->\n<g id=\"edge3\" class=\"edge\">\n<title>2&#45;&gt;3</title>\n<path fill=\"none\" stroke=\"#000000\" d=\"M245.2519,-504.9465C239.245,-496.1475 232.7045,-486.5672 226.4457,-477.3993\"/>\n<polygon fill=\"#000000\" stroke=\"#000000\" points=\"229.3293,-475.4155 220.8003,-469.13 223.548,-479.3623 229.3293,-475.4155\"/>\n</g>\n<!-- 12 -->\n<g id=\"node13\" class=\"node\">\n<title>12</title>\n<polygon fill=\"none\" stroke=\"#000000\" points=\"400,-469 277,-469 277,-401 400,-401 400,-469\"/>\n<text text-anchor=\"middle\" x=\"338.5\" y=\"-453.8\" font-family=\"Helvetica,sans-Serif\" font-size=\"14.00\" fill=\"#000000\">X[2] &lt;= 4.85</text>\n<text text-anchor=\"middle\" x=\"338.5\" y=\"-438.8\" font-family=\"Helvetica,sans-Serif\" font-size=\"14.00\" fill=\"#000000\">gini = 0.08</text>\n<text text-anchor=\"middle\" x=\"338.5\" y=\"-423.8\" font-family=\"Helvetica,sans-Serif\" font-size=\"14.00\" fill=\"#000000\">samples = 24</text>\n<text text-anchor=\"middle\" x=\"338.5\" y=\"-408.8\" font-family=\"Helvetica,sans-Serif\" font-size=\"14.00\" fill=\"#000000\">value = [0, 1, 23]</text>\n</g>\n<!-- 2&#45;&gt;12 -->\n<g id=\"edge12\" class=\"edge\">\n<title>2&#45;&gt;12</title>\n<path fill=\"none\" stroke=\"#000000\" d=\"M291.4206,-504.9465C297.2826,-496.2373 303.6598,-486.7626 309.773,-477.6801\"/>\n<polygon fill=\"#000000\" stroke=\"#000000\" points=\"312.8476,-479.3802 315.5279,-469.13 307.0405,-475.4716 312.8476,-479.3802\"/>\n</g>\n<!-- 4 -->\n<g id=\"node5\" class=\"node\">\n<title>4</title>\n<polygon fill=\"none\" stroke=\"#000000\" points=\"123,-365 0,-365 0,-297 123,-297 123,-365\"/>\n<text text-anchor=\"middle\" x=\"61.5\" y=\"-349.8\" font-family=\"Helvetica,sans-Serif\" font-size=\"14.00\" fill=\"#000000\">X[1] &lt;= 2.25</text>\n<text text-anchor=\"middle\" x=\"61.5\" y=\"-334.8\" font-family=\"Helvetica,sans-Serif\" font-size=\"14.00\" fill=\"#000000\">gini = 0.133</text>\n<text text-anchor=\"middle\" x=\"61.5\" y=\"-319.8\" font-family=\"Helvetica,sans-Serif\" font-size=\"14.00\" fill=\"#000000\">samples = 28</text>\n<text text-anchor=\"middle\" x=\"61.5\" y=\"-304.8\" font-family=\"Helvetica,sans-Serif\" font-size=\"14.00\" fill=\"#000000\">value = [0, 26, 2]</text>\n</g>\n<!-- 3&#45;&gt;4 -->\n<g id=\"edge4\" class=\"edge\">\n<title>3&#45;&gt;4</title>\n<path fill=\"none\" stroke=\"#000000\" d=\"M152.9685,-400.9465C140.6403,-391.519 127.1391,-381.1946 114.385,-371.4415\"/>\n<polygon fill=\"#000000\" stroke=\"#000000\" points=\"116.2012,-368.4243 106.1315,-365.13 111.949,-373.9848 116.2012,-368.4243\"/>\n</g>\n<!-- 11 -->\n<g id=\"node12\" class=\"node\">\n<title>11</title>\n<polygon fill=\"none\" stroke=\"#000000\" points=\"256,-357.5 141,-357.5 141,-304.5 256,-304.5 256,-357.5\"/>\n<text text-anchor=\"middle\" x=\"198.5\" y=\"-342.3\" font-family=\"Helvetica,sans-Serif\" font-size=\"14.00\" fill=\"#000000\">gini = 0.0</text>\n<text text-anchor=\"middle\" x=\"198.5\" y=\"-327.3\" font-family=\"Helvetica,sans-Serif\" font-size=\"14.00\" fill=\"#000000\">samples = 2</text>\n<text text-anchor=\"middle\" x=\"198.5\" y=\"-312.3\" font-family=\"Helvetica,sans-Serif\" font-size=\"14.00\" fill=\"#000000\">value = [0, 0, 2]</text>\n</g>\n<!-- 3&#45;&gt;11 -->\n<g id=\"edge11\" class=\"edge\">\n<title>3&#45;&gt;11</title>\n<path fill=\"none\" stroke=\"#000000\" d=\"M197.8274,-400.9465C197.9302,-390.2621 198.044,-378.4254 198.1483,-367.5742\"/>\n<polygon fill=\"#000000\" stroke=\"#000000\" points=\"201.6484,-367.5754 198.2448,-357.5422 194.6487,-367.508 201.6484,-367.5754\"/>\n</g>\n<!-- 5 -->\n<g id=\"node6\" class=\"node\">\n<title>5</title>\n<polygon fill=\"none\" stroke=\"#000000\" points=\"117,-253.5 2,-253.5 2,-200.5 117,-200.5 117,-253.5\"/>\n<text text-anchor=\"middle\" x=\"59.5\" y=\"-238.3\" font-family=\"Helvetica,sans-Serif\" font-size=\"14.00\" fill=\"#000000\">gini = 0.0</text>\n<text text-anchor=\"middle\" x=\"59.5\" y=\"-223.3\" font-family=\"Helvetica,sans-Serif\" font-size=\"14.00\" fill=\"#000000\">samples = 1</text>\n<text text-anchor=\"middle\" x=\"59.5\" y=\"-208.3\" font-family=\"Helvetica,sans-Serif\" font-size=\"14.00\" fill=\"#000000\">value = [0, 0, 1]</text>\n</g>\n<!-- 4&#45;&gt;5 -->\n<g id=\"edge5\" class=\"edge\">\n<title>4&#45;&gt;5</title>\n<path fill=\"none\" stroke=\"#000000\" d=\"M60.8451,-296.9465C60.6397,-286.2621 60.412,-274.4254 60.2034,-263.5742\"/>\n<polygon fill=\"#000000\" stroke=\"#000000\" points=\"63.7021,-263.473 60.0104,-253.5422 56.7034,-263.6076 63.7021,-263.473\"/>\n</g>\n<!-- 6 -->\n<g id=\"node7\" class=\"node\">\n<title>6</title>\n<polygon fill=\"none\" stroke=\"#000000\" points=\"258,-261 135,-261 135,-193 258,-193 258,-261\"/>\n<text text-anchor=\"middle\" x=\"196.5\" y=\"-245.8\" font-family=\"Helvetica,sans-Serif\" font-size=\"14.00\" fill=\"#000000\">X[3] &lt;= 1.65</text>\n<text text-anchor=\"middle\" x=\"196.5\" y=\"-230.8\" font-family=\"Helvetica,sans-Serif\" font-size=\"14.00\" fill=\"#000000\">gini = 0.071</text>\n<text text-anchor=\"middle\" x=\"196.5\" y=\"-215.8\" font-family=\"Helvetica,sans-Serif\" font-size=\"14.00\" fill=\"#000000\">samples = 27</text>\n<text text-anchor=\"middle\" x=\"196.5\" y=\"-200.8\" font-family=\"Helvetica,sans-Serif\" font-size=\"14.00\" fill=\"#000000\">value = [0, 26, 1]</text>\n</g>\n<!-- 4&#45;&gt;6 -->\n<g id=\"edge6\" class=\"edge\">\n<title>4&#45;&gt;6</title>\n<path fill=\"none\" stroke=\"#000000\" d=\"M105.704,-296.9465C117.9416,-287.519 131.3436,-277.1946 144.0038,-267.4415\"/>\n<polygon fill=\"#000000\" stroke=\"#000000\" points=\"146.4107,-270.0055 152.1966,-261.13 142.1388,-264.4601 146.4107,-270.0055\"/>\n</g>\n<!-- 7 -->\n<g id=\"node8\" class=\"node\">\n<title>7</title>\n<polygon fill=\"none\" stroke=\"#000000\" points=\"189,-149.5 66,-149.5 66,-96.5 189,-96.5 189,-149.5\"/>\n<text text-anchor=\"middle\" x=\"127.5\" y=\"-134.3\" font-family=\"Helvetica,sans-Serif\" font-size=\"14.00\" fill=\"#000000\">gini = 0.0</text>\n<text text-anchor=\"middle\" x=\"127.5\" y=\"-119.3\" font-family=\"Helvetica,sans-Serif\" font-size=\"14.00\" fill=\"#000000\">samples = 25</text>\n<text text-anchor=\"middle\" x=\"127.5\" y=\"-104.3\" font-family=\"Helvetica,sans-Serif\" font-size=\"14.00\" fill=\"#000000\">value = [0, 25, 0]</text>\n</g>\n<!-- 6&#45;&gt;7 -->\n<g id=\"edge7\" class=\"edge\">\n<title>6&#45;&gt;7</title>\n<path fill=\"none\" stroke=\"#000000\" d=\"M173.9068,-192.9465C166.4527,-181.7113 158.1533,-169.2021 150.6577,-157.9043\"/>\n<polygon fill=\"#000000\" stroke=\"#000000\" points=\"153.5547,-155.94 145.1097,-149.5422 147.7218,-159.81 153.5547,-155.94\"/>\n</g>\n<!-- 8 -->\n<g id=\"node9\" class=\"node\">\n<title>8</title>\n<polygon fill=\"none\" stroke=\"#000000\" points=\"322,-157 207,-157 207,-89 322,-89 322,-157\"/>\n<text text-anchor=\"middle\" x=\"264.5\" y=\"-141.8\" font-family=\"Helvetica,sans-Serif\" font-size=\"14.00\" fill=\"#000000\">X[0] &lt;= 5.8</text>\n<text text-anchor=\"middle\" x=\"264.5\" y=\"-126.8\" font-family=\"Helvetica,sans-Serif\" font-size=\"14.00\" fill=\"#000000\">gini = 0.5</text>\n<text text-anchor=\"middle\" x=\"264.5\" y=\"-111.8\" font-family=\"Helvetica,sans-Serif\" font-size=\"14.00\" fill=\"#000000\">samples = 2</text>\n<text text-anchor=\"middle\" x=\"264.5\" y=\"-96.8\" font-family=\"Helvetica,sans-Serif\" font-size=\"14.00\" fill=\"#000000\">value = [0, 1, 1]</text>\n</g>\n<!-- 6&#45;&gt;8 -->\n<g id=\"edge8\" class=\"edge\">\n<title>6&#45;&gt;8</title>\n<path fill=\"none\" stroke=\"#000000\" d=\"M218.7657,-192.9465C224.4602,-184.2373 230.6552,-174.7626 236.5938,-165.6801\"/>\n<polygon fill=\"#000000\" stroke=\"#000000\" points=\"239.6411,-167.4151 242.1842,-157.13 233.7823,-163.5843 239.6411,-167.4151\"/>\n</g>\n<!-- 9 -->\n<g id=\"node10\" class=\"node\">\n<title>9</title>\n<polygon fill=\"none\" stroke=\"#000000\" points=\"255,-53 140,-53 140,0 255,0 255,-53\"/>\n<text text-anchor=\"middle\" x=\"197.5\" y=\"-37.8\" font-family=\"Helvetica,sans-Serif\" font-size=\"14.00\" fill=\"#000000\">gini = 0.0</text>\n<text text-anchor=\"middle\" x=\"197.5\" y=\"-22.8\" font-family=\"Helvetica,sans-Serif\" font-size=\"14.00\" fill=\"#000000\">samples = 1</text>\n<text text-anchor=\"middle\" x=\"197.5\" y=\"-7.8\" font-family=\"Helvetica,sans-Serif\" font-size=\"14.00\" fill=\"#000000\">value = [0, 0, 1]</text>\n</g>\n<!-- 8&#45;&gt;9 -->\n<g id=\"edge9\" class=\"edge\">\n<title>8&#45;&gt;9</title>\n<path fill=\"none\" stroke=\"#000000\" d=\"M240.8783,-88.9777C234.7113,-80.0954 228.0539,-70.5067 221.8499,-61.5711\"/>\n<polygon fill=\"#000000\" stroke=\"#000000\" points=\"224.6497,-59.4666 216.0715,-53.2485 218.8997,-63.4589 224.6497,-59.4666\"/>\n</g>\n<!-- 10 -->\n<g id=\"node11\" class=\"node\">\n<title>10</title>\n<polygon fill=\"none\" stroke=\"#000000\" points=\"388,-53 273,-53 273,0 388,0 388,-53\"/>\n<text text-anchor=\"middle\" x=\"330.5\" y=\"-37.8\" font-family=\"Helvetica,sans-Serif\" font-size=\"14.00\" fill=\"#000000\">gini = 0.0</text>\n<text text-anchor=\"middle\" x=\"330.5\" y=\"-22.8\" font-family=\"Helvetica,sans-Serif\" font-size=\"14.00\" fill=\"#000000\">samples = 1</text>\n<text text-anchor=\"middle\" x=\"330.5\" y=\"-7.8\" font-family=\"Helvetica,sans-Serif\" font-size=\"14.00\" fill=\"#000000\">value = [0, 1, 0]</text>\n</g>\n<!-- 8&#45;&gt;10 -->\n<g id=\"edge10\" class=\"edge\">\n<title>8&#45;&gt;10</title>\n<path fill=\"none\" stroke=\"#000000\" d=\"M287.7691,-88.9777C293.844,-80.0954 300.4021,-70.5067 306.5135,-61.5711\"/>\n<polygon fill=\"#000000\" stroke=\"#000000\" points=\"309.4493,-63.4785 312.2057,-53.2485 303.6714,-59.5267 309.4493,-63.4785\"/>\n</g>\n<!-- 13 -->\n<g id=\"node14\" class=\"node\">\n<title>13</title>\n<polygon fill=\"none\" stroke=\"#000000\" points=\"394,-365 279,-365 279,-297 394,-297 394,-365\"/>\n<text text-anchor=\"middle\" x=\"336.5\" y=\"-349.8\" font-family=\"Helvetica,sans-Serif\" font-size=\"14.00\" fill=\"#000000\">X[0] &lt;= 6.05</text>\n<text text-anchor=\"middle\" x=\"336.5\" y=\"-334.8\" font-family=\"Helvetica,sans-Serif\" font-size=\"14.00\" fill=\"#000000\">gini = 0.5</text>\n<text text-anchor=\"middle\" x=\"336.5\" y=\"-319.8\" font-family=\"Helvetica,sans-Serif\" font-size=\"14.00\" fill=\"#000000\">samples = 2</text>\n<text text-anchor=\"middle\" x=\"336.5\" y=\"-304.8\" font-family=\"Helvetica,sans-Serif\" font-size=\"14.00\" fill=\"#000000\">value = [0, 1, 1]</text>\n</g>\n<!-- 12&#45;&gt;13 -->\n<g id=\"edge13\" class=\"edge\">\n<title>12&#45;&gt;13</title>\n<path fill=\"none\" stroke=\"#000000\" d=\"M337.8451,-400.9465C337.688,-392.776 337.5179,-383.9318 337.3533,-375.3697\"/>\n<polygon fill=\"#000000\" stroke=\"#000000\" points=\"340.8481,-375.0608 337.1563,-365.13 333.8494,-375.1955 340.8481,-375.0608\"/>\n</g>\n<!-- 16 -->\n<g id=\"node17\" class=\"node\">\n<title>16</title>\n<polygon fill=\"none\" stroke=\"#000000\" points=\"535,-357.5 412,-357.5 412,-304.5 535,-304.5 535,-357.5\"/>\n<text text-anchor=\"middle\" x=\"473.5\" y=\"-342.3\" font-family=\"Helvetica,sans-Serif\" font-size=\"14.00\" fill=\"#000000\">gini = 0.0</text>\n<text text-anchor=\"middle\" x=\"473.5\" y=\"-327.3\" font-family=\"Helvetica,sans-Serif\" font-size=\"14.00\" fill=\"#000000\">samples = 22</text>\n<text text-anchor=\"middle\" x=\"473.5\" y=\"-312.3\" font-family=\"Helvetica,sans-Serif\" font-size=\"14.00\" fill=\"#000000\">value = [0, 0, 22]</text>\n</g>\n<!-- 12&#45;&gt;16 -->\n<g id=\"edge16\" class=\"edge\">\n<title>12&#45;&gt;16</title>\n<path fill=\"none\" stroke=\"#000000\" d=\"M382.704,-400.9465C398.1461,-389.0504 415.4422,-375.726 430.7625,-363.9237\"/>\n<polygon fill=\"#000000\" stroke=\"#000000\" points=\"433.2603,-366.4176 439.0462,-357.5422 428.9883,-360.8723 433.2603,-366.4176\"/>\n</g>\n<!-- 14 -->\n<g id=\"node15\" class=\"node\">\n<title>14</title>\n<polygon fill=\"none\" stroke=\"#000000\" points=\"393,-253.5 278,-253.5 278,-200.5 393,-200.5 393,-253.5\"/>\n<text text-anchor=\"middle\" x=\"335.5\" y=\"-238.3\" font-family=\"Helvetica,sans-Serif\" font-size=\"14.00\" fill=\"#000000\">gini = 0.0</text>\n<text text-anchor=\"middle\" x=\"335.5\" y=\"-223.3\" font-family=\"Helvetica,sans-Serif\" font-size=\"14.00\" fill=\"#000000\">samples = 1</text>\n<text text-anchor=\"middle\" x=\"335.5\" y=\"-208.3\" font-family=\"Helvetica,sans-Serif\" font-size=\"14.00\" fill=\"#000000\">value = [0, 1, 0]</text>\n</g>\n<!-- 13&#45;&gt;14 -->\n<g id=\"edge14\" class=\"edge\">\n<title>13&#45;&gt;14</title>\n<path fill=\"none\" stroke=\"#000000\" d=\"M336.1726,-296.9465C336.0698,-286.2621 335.956,-274.4254 335.8517,-263.5742\"/>\n<polygon fill=\"#000000\" stroke=\"#000000\" points=\"339.3513,-263.508 335.7552,-253.5422 332.3516,-263.5754 339.3513,-263.508\"/>\n</g>\n<!-- 15 -->\n<g id=\"node16\" class=\"node\">\n<title>15</title>\n<polygon fill=\"none\" stroke=\"#000000\" points=\"526,-253.5 411,-253.5 411,-200.5 526,-200.5 526,-253.5\"/>\n<text text-anchor=\"middle\" x=\"468.5\" y=\"-238.3\" font-family=\"Helvetica,sans-Serif\" font-size=\"14.00\" fill=\"#000000\">gini = 0.0</text>\n<text text-anchor=\"middle\" x=\"468.5\" y=\"-223.3\" font-family=\"Helvetica,sans-Serif\" font-size=\"14.00\" fill=\"#000000\">samples = 1</text>\n<text text-anchor=\"middle\" x=\"468.5\" y=\"-208.3\" font-family=\"Helvetica,sans-Serif\" font-size=\"14.00\" fill=\"#000000\">value = [0, 0, 1]</text>\n</g>\n<!-- 13&#45;&gt;15 -->\n<g id=\"edge15\" class=\"edge\">\n<title>13&#45;&gt;15</title>\n<path fill=\"none\" stroke=\"#000000\" d=\"M379.7217,-296.9465C394.8206,-285.0504 411.7324,-271.726 426.7122,-259.9237\"/>\n<polygon fill=\"#000000\" stroke=\"#000000\" points=\"429.123,-262.4802 434.8119,-253.5422 424.7909,-256.9817 429.123,-262.4802\"/>\n</g>\n</g>\n</svg>\n"
          },
          "metadata": {},
          "execution_count": 65
        }
      ]
    },
    {
      "cell_type": "code",
      "source": [
        "# Predição com apenas 100% dos dados como treino para os 50% do conjunto TESTE.\n",
        "\n",
        "answer = classifier_t.predict(x_test)\n",
        "\n",
        "print('A arvore rotulou/predisse o seguinte: ')\n",
        "print(answer)"
      ],
      "metadata": {
        "colab": {
          "base_uri": "https://localhost:8080/"
        },
        "id": "v3wv2KQNP77U",
        "outputId": "03592fba-6dff-45d3-cffa-0c9aa397fd69"
      },
      "execution_count": null,
      "outputs": [
        {
          "output_type": "stream",
          "name": "stdout",
          "text": [
            "A arvore rotulou/predisse o seguinte: \n",
            "[1 0 2 1 1 0 1 2 2 1 2 0 0 0 0 1 2 1 1 2 0 2 0 2 2 2 2 2 0 0 0 0 1 0 0 2 1\n",
            " 0 0 0 2 1 1 0 0 1 1 2 1 2 1 2 1 0 2 1 0 0 0 2 2 0 0 0 1 0 1 2 0 1 2 0 1 2\n",
            " 2]\n"
          ]
        }
      ]
    },
    {
      "cell_type": "code",
      "source": [
        "# Resultado da acurácia do método com 100% de base de treino:\n",
        "\n",
        "accuracy_100 = accuracy_score(answer, y_test)\n",
        "accuracy_100 *= 100\n",
        "print(accuracy_100)\n",
        "accuracy_list.append(accuracy_100)"
      ],
      "metadata": {
        "colab": {
          "base_uri": "https://localhost:8080/"
        },
        "id": "ClL-ggVYQG1f",
        "outputId": "bcc42107-f778-4191-a379-a42ef00aa95b"
      },
      "execution_count": null,
      "outputs": [
        {
          "output_type": "stream",
          "name": "stdout",
          "text": [
            "93.33333333333333\n"
          ]
        }
      ]
    },
    {
      "cell_type": "markdown",
      "source": [
        "Com a base de treino de 50% usando apenas os 100% dela temos uma acurácia de aproximadamente 92,00%"
      ],
      "metadata": {
        "id": "6piEB5iHQWtd"
      }
    },
    {
      "cell_type": "markdown",
      "source": [
        "**Etapa 11 - Plotando o gráfico**"
      ],
      "metadata": {
        "id": "Hav5l8oORJX7"
      }
    },
    {
      "cell_type": "code",
      "source": [
        "# Lista de porcentagens de dados usados\n",
        "x = [0, 10, 20, 30, 40, 50, 60, 70, 80, 90, 100]\n",
        "\n",
        "plt.plot(x, accuracy_list)  # Plot some data on the (implicit) axes.\n",
        "plt.xlabel('Tamanho do Conjunto de Treino (%)')\n",
        "plt.ylabel('Acuracia (%)')\n",
        "plt.title(\"Porcentagem de Acuracia da Arvore de Decisão\")"
      ],
      "metadata": {
        "colab": {
          "base_uri": "https://localhost:8080/",
          "height": 313
        },
        "id": "21740q4HTsIC",
        "outputId": "d3f63868-55f4-401f-a4d0-39a0a07089a6"
      },
      "execution_count": null,
      "outputs": [
        {
          "output_type": "execute_result",
          "data": {
            "text/plain": [
              "Text(0.5, 1.0, 'Porcentagem de Acuracia da Arvore de Decisão')"
            ]
          },
          "metadata": {},
          "execution_count": 68
        },
        {
          "output_type": "display_data",
          "data": {
            "text/plain": [
              "<Figure size 432x288 with 1 Axes>"
            ],
            "image/png": "[encoded data removed]"
          },
          "metadata": {
            "needs_background": "light"
          }
        }
      ]
    }
  ]
}